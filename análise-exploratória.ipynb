{
 "cells": [
  {
   "cell_type": "markdown",
   "metadata": {},
   "source": [
    "# Análise Exploratória dos Dados da Base MIMIC-III"
   ]
  },
  {
   "cell_type": "markdown",
   "metadata": {},
   "source": [
    "O MIMIC (Medical Information Mart for Intensive Care) é um grande banco de dados disponível gratuitamente que inclui dados relacionados à saúde não identificados de pacientes que foram admitidos nas unidades de cuidados intensivos do Beth Israel Deaconess Medical Center.\n",
    "\n",
    "O MIMIC é composto por dados coletados de dois sistemas de informações clínicas diferentes: CareVue e MetaVision.\n",
    "\n",
    "Nesta versão da base MIMIC temos atendimentos efetuados de **01/06/2001** a **10/10/2012**.\n",
    "\n",
    "Número de atendimentos: **58.976**\n",
    "\n",
    "Número de pacientes atendidos: **46.520**"
   ]
  },
  {
   "cell_type": "markdown",
   "metadata": {},
   "source": [
    "## Objetivo\n",
    "\n",
    "Compreender as principais características da base do MIMIC-III, que é uma base muito relevante para estudo de doenças e criação de modelos. A partir da análise exploratória, será possível entender a natureza dos dados aqui presentes e de que formas ela pode ser útil em estudos futuros, como na própria dissertação."
   ]
  },
  {
   "cell_type": "markdown",
   "metadata": {},
   "source": [
    "## Resultados"
   ]
  },
  {
   "cell_type": "markdown",
   "metadata": {},
   "source": [
    "Imports das bibliotecas"
   ]
  },
  {
   "cell_type": "code",
   "execution_count": 87,
   "metadata": {},
   "outputs": [],
   "source": [
    "import pandas as pd\n",
    "import seaborn as sns\n",
    "import matplotlib.pyplot as plt\n",
    "import numpy as np\n",
    "import matplotlib.ticker as ticker"
   ]
  },
  {
   "cell_type": "markdown",
   "metadata": {},
   "source": [
    "### Pacientes"
   ]
  },
  {
   "cell_type": "markdown",
   "metadata": {},
   "source": [
    "Número de pacientes"
   ]
  },
  {
   "cell_type": "code",
   "execution_count": 88,
   "metadata": {},
   "outputs": [
    {
     "data": {
      "text/plain": [
       "46520"
      ]
     },
     "execution_count": 88,
     "metadata": {},
     "output_type": "execute_result"
    }
   ],
   "source": [
    "patients_df = pd.read_csv('C:\\csvMimic\\\\v1_4\\PATIENTS.csv', usecols=['SUBJECT_ID', 'GENDER', 'DOB', 'EXPIRE_FLAG'])\n",
    "tam_patients  = patients_df.shape[0]\n",
    "tam_patients"
   ]
  },
  {
   "cell_type": "markdown",
   "metadata": {},
   "source": [
    "Número de pacientes por gênero"
   ]
  },
  {
   "cell_type": "code",
   "execution_count": 89,
   "metadata": {},
   "outputs": [
    {
     "name": "stdout",
     "output_type": "stream",
     "text": [
      "F    20399\n",
      "M    26121\n",
      "Name: GENDER, dtype: int64\n"
     ]
    },
    {
     "data": {
      "image/png": "[encoded data removed]",
      "text/plain": [
       "<Figure size 432x288 with 1 Axes>"
      ]
     },
     "metadata": {},
     "output_type": "display_data"
    }
   ],
   "source": [
    "print(patients_df['GENDER'].value_counts(ascending=True, normalize=False))\n",
    "plt.figure(facecolor='grey')\n",
    "plt.pie(patients_df['GENDER'].value_counts(ascending=True), labels = ['Mulheres', 'Homens'], autopct='%.0f%%', textprops={'fontsize': 12, 'color': 'white', 'style': 'oblique', 'weight': 'bold'})\n",
    "plt.show()"
   ]
  },
  {
   "cell_type": "markdown",
   "metadata": {},
   "source": [
    "Temos que a quantidade de homens e mulheres é próxima, sem grande disparidade."
   ]
  },
  {
   "cell_type": "markdown",
   "metadata": {},
   "source": [
    "Qual a taxa de sobrevivência destes pacientes?"
   ]
  },
  {
   "cell_type": "code",
   "execution_count": 90,
   "metadata": {},
   "outputs": [
    {
     "data": {
      "text/html": [
       "<div>\n",
       "<style scoped>\n",
       "    .dataframe tbody tr th:only-of-type {\n",
       "        vertical-align: middle;\n",
       "    }\n",
       "\n",
       "    .dataframe tbody tr th {\n",
       "        vertical-align: top;\n",
       "    }\n",
       "\n",
       "    .dataframe thead th {\n",
       "        text-align: right;\n",
       "    }\n",
       "</style>\n",
       "<table border=\"1\" class=\"dataframe\">\n",
       "  <thead>\n",
       "    <tr style=\"text-align: right;\">\n",
       "      <th></th>\n",
       "      <th>morreu</th>\n",
       "      <th>total</th>\n",
       "      <th>percentual</th>\n",
       "    </tr>\n",
       "  </thead>\n",
       "  <tbody>\n",
       "    <tr>\n",
       "      <th>0</th>\n",
       "      <td>sim</td>\n",
       "      <td>15759</td>\n",
       "      <td>33.88</td>\n",
       "    </tr>\n",
       "    <tr>\n",
       "      <th>1</th>\n",
       "      <td>não</td>\n",
       "      <td>30761</td>\n",
       "      <td>66.12</td>\n",
       "    </tr>\n",
       "  </tbody>\n",
       "</table>\n",
       "</div>"
      ],
      "text/plain": [
       "  morreu  total  percentual\n",
       "0    sim  15759       33.88\n",
       "1    não  30761       66.12"
      ]
     },
     "execution_count": 90,
     "metadata": {},
     "output_type": "execute_result"
    }
   ],
   "source": [
    "survival_total = pd.DataFrame(data=patients_df['EXPIRE_FLAG'].value_counts(ascending=True).reset_index(name='total'))\n",
    "survival_total['percentual'] = (survival_total['total'] / tam_patients * 100).round(2)\n",
    "survival_total.rename(columns={'index': 'morreu'}, inplace=True)\n",
    "survival_total.loc[survival_total['morreu'] == 0, 'morreu'] = 'não'\n",
    "survival_total.loc[survival_total['morreu'] == 1, 'morreu'] = 'sim'\n",
    "survival_total"
   ]
  },
  {
   "cell_type": "code",
   "execution_count": 91,
   "metadata": {},
   "outputs": [
    {
     "data": {
      "text/html": [
       "<div>\n",
       "<style scoped>\n",
       "    .dataframe tbody tr th:only-of-type {\n",
       "        vertical-align: middle;\n",
       "    }\n",
       "\n",
       "    .dataframe tbody tr th {\n",
       "        vertical-align: top;\n",
       "    }\n",
       "\n",
       "    .dataframe thead th {\n",
       "        text-align: right;\n",
       "    }\n",
       "</style>\n",
       "<table border=\"1\" class=\"dataframe\">\n",
       "  <thead>\n",
       "    <tr style=\"text-align: right;\">\n",
       "      <th></th>\n",
       "      <th>morreu</th>\n",
       "      <th>gênero</th>\n",
       "      <th>total</th>\n",
       "      <th>percentual</th>\n",
       "    </tr>\n",
       "  </thead>\n",
       "  <tbody>\n",
       "    <tr>\n",
       "      <th>0</th>\n",
       "      <td>não</td>\n",
       "      <td>M</td>\n",
       "      <td>17597</td>\n",
       "      <td>37.83</td>\n",
       "    </tr>\n",
       "    <tr>\n",
       "      <th>1</th>\n",
       "      <td>não</td>\n",
       "      <td>F</td>\n",
       "      <td>13164</td>\n",
       "      <td>28.30</td>\n",
       "    </tr>\n",
       "    <tr>\n",
       "      <th>2</th>\n",
       "      <td>sim</td>\n",
       "      <td>M</td>\n",
       "      <td>8524</td>\n",
       "      <td>18.32</td>\n",
       "    </tr>\n",
       "    <tr>\n",
       "      <th>3</th>\n",
       "      <td>sim</td>\n",
       "      <td>F</td>\n",
       "      <td>7235</td>\n",
       "      <td>15.55</td>\n",
       "    </tr>\n",
       "  </tbody>\n",
       "</table>\n",
       "</div>"
      ],
      "text/plain": [
       "  morreu gênero  total  percentual\n",
       "0    não      M  17597       37.83\n",
       "1    não      F  13164       28.30\n",
       "2    sim      M   8524       18.32\n",
       "3    sim      F   7235       15.55"
      ]
     },
     "execution_count": 91,
     "metadata": {},
     "output_type": "execute_result"
    }
   ],
   "source": [
    "survival_total_by_gender = patients_df.groupby('EXPIRE_FLAG')['GENDER'].value_counts().reset_index(name='total')\n",
    "survival_total_by_gender['percentual'] = (survival_total_by_gender['total'] / tam_patients * 100).round(2)\n",
    "gs_df = pd.DataFrame(data=survival_total_by_gender)\n",
    "gs_df.rename(columns={'EXPIRE_FLAG': 'morreu', 'GENDER': 'gênero'}, inplace=True)\n",
    "gs_df.loc[gs_df['morreu'] == 0, 'morreu'] = 'não'\n",
    "gs_df.loc[gs_df['morreu'] == 1, 'morreu'] = 'sim'\n",
    "gs_df"
   ]
  },
  {
   "cell_type": "code",
   "execution_count": 92,
   "metadata": {},
   "outputs": [
    {
     "data": {
      "text/plain": [
       "<seaborn.axisgrid.FacetGrid at 0x1bcd9977d90>"
      ]
     },
     "execution_count": 92,
     "metadata": {},
     "output_type": "execute_result"
    },
    {
     "data": {
      "image/png": "[encoded data removed]",
      "text/plain": [
       "<Figure size 404.625x360 with 1 Axes>"
      ]
     },
     "metadata": {
      "needs_background": "light"
     },
     "output_type": "display_data"
    }
   ],
   "source": [
    "ax = sns.catplot(data=gs_df, x='morreu', y='percentual', kind='bar', hue='gênero')\n",
    "ax.set(title =\"Mortalidade por Gênero\", xlabel='Morreu', ylim=(0,100))\n",
    "ax"
   ]
  },
  {
   "cell_type": "markdown",
   "metadata": {},
   "source": [
    "A maioria dos pacientes sobrevive e dentre eles os homens são maioria."
   ]
  },
  {
   "cell_type": "markdown",
   "metadata": {},
   "source": [
    "**Pergunta:** Essas taxas de sobrevivência são confiáveis? Qual a idade destes pacientes?"
   ]
  },
  {
   "cell_type": "markdown",
   "metadata": {},
   "source": [
    "Distribuição dos pacientes por idade"
   ]
  },
  {
   "cell_type": "markdown",
   "metadata": {},
   "source": [
    "Os pacientes foram divididos em 3 grupos etários:\n",
    "- Com idade de 0 a 1 ano : *neonate*\n",
    "- Com idade acima entre 14 e 89 anos: *adult*\n",
    "- Acima de 89 anos: *>89*\n",
    "\n",
    "Observação: Não foram realizados atendimentos em indivíduos entre 2 e 13 anos, por isso estas idades não são contempladas por nenhuma faixa.\n",
    "\n",
    "Todas as datas na base incluindo a data de nascimento dos pacientes foi alterada para datas randômicas (no passado e no futuro) para resguardar a privacidade das pessoas envolvidas. Para se obter a idade foi efetuado o cálculo via query SQL da diferença entre a data de nascimento e a data do primeiro atendimento do paciente."
   ]
  },
  {
   "cell_type": "code",
   "execution_count": 93,
   "metadata": {},
   "outputs": [
    {
     "data": {
      "text/html": [
       "<div>\n",
       "<style scoped>\n",
       "    .dataframe tbody tr th:only-of-type {\n",
       "        vertical-align: middle;\n",
       "    }\n",
       "\n",
       "    .dataframe tbody tr th {\n",
       "        vertical-align: top;\n",
       "    }\n",
       "\n",
       "    .dataframe thead th {\n",
       "        text-align: right;\n",
       "    }\n",
       "</style>\n",
       "<table border=\"1\" class=\"dataframe\">\n",
       "  <thead>\n",
       "    <tr style=\"text-align: right;\">\n",
       "      <th></th>\n",
       "      <th>subject_id</th>\n",
       "      <th>dob</th>\n",
       "      <th>gender</th>\n",
       "      <th>first_admittime</th>\n",
       "      <th>first_admit_age</th>\n",
       "      <th>expire_flag</th>\n",
       "      <th>age_group</th>\n",
       "    </tr>\n",
       "  </thead>\n",
       "  <tbody>\n",
       "    <tr>\n",
       "      <th>0</th>\n",
       "      <td>2</td>\n",
       "      <td>2138-07-17 00:00:00</td>\n",
       "      <td>M</td>\n",
       "      <td>2138-07-17 19:04:00</td>\n",
       "      <td>0.00</td>\n",
       "      <td>0</td>\n",
       "      <td>neonate</td>\n",
       "    </tr>\n",
       "    <tr>\n",
       "      <th>1</th>\n",
       "      <td>3</td>\n",
       "      <td>2025-04-11 00:00:00</td>\n",
       "      <td>M</td>\n",
       "      <td>2101-10-20 19:08:00</td>\n",
       "      <td>76.52</td>\n",
       "      <td>1</td>\n",
       "      <td>adult</td>\n",
       "    </tr>\n",
       "    <tr>\n",
       "      <th>2</th>\n",
       "      <td>4</td>\n",
       "      <td>2143-05-12 00:00:00</td>\n",
       "      <td>F</td>\n",
       "      <td>2191-03-16 00:28:00</td>\n",
       "      <td>47.84</td>\n",
       "      <td>0</td>\n",
       "      <td>adult</td>\n",
       "    </tr>\n",
       "    <tr>\n",
       "      <th>3</th>\n",
       "      <td>5</td>\n",
       "      <td>2103-02-02 00:00:00</td>\n",
       "      <td>M</td>\n",
       "      <td>2103-02-02 04:31:00</td>\n",
       "      <td>0.00</td>\n",
       "      <td>0</td>\n",
       "      <td>neonate</td>\n",
       "    </tr>\n",
       "    <tr>\n",
       "      <th>4</th>\n",
       "      <td>6</td>\n",
       "      <td>2109-06-21 00:00:00</td>\n",
       "      <td>F</td>\n",
       "      <td>2175-05-30 07:15:00</td>\n",
       "      <td>65.94</td>\n",
       "      <td>0</td>\n",
       "      <td>adult</td>\n",
       "    </tr>\n",
       "  </tbody>\n",
       "</table>\n",
       "</div>"
      ],
      "text/plain": [
       "   subject_id                  dob gender      first_admittime  \\\n",
       "0           2  2138-07-17 00:00:00      M  2138-07-17 19:04:00   \n",
       "1           3  2025-04-11 00:00:00      M  2101-10-20 19:08:00   \n",
       "2           4  2143-05-12 00:00:00      F  2191-03-16 00:28:00   \n",
       "3           5  2103-02-02 00:00:00      M  2103-02-02 04:31:00   \n",
       "4           6  2109-06-21 00:00:00      F  2175-05-30 07:15:00   \n",
       "\n",
       "   first_admit_age  expire_flag age_group  \n",
       "0             0.00            0   neonate  \n",
       "1            76.52            1     adult  \n",
       "2            47.84            0     adult  \n",
       "3             0.00            0   neonate  \n",
       "4            65.94            0     adult  "
      ]
     },
     "execution_count": 93,
     "metadata": {},
     "output_type": "execute_result"
    }
   ],
   "source": [
    "patients_by_age = pd.read_csv('C:\\csvMimic\\\\pacientes-por-idades-2.csv')\n",
    "patients_by_age.head()"
   ]
  },
  {
   "cell_type": "markdown",
   "metadata": {},
   "source": [
    "Verificando as estatísticas do atributo idade"
   ]
  },
  {
   "cell_type": "code",
   "execution_count": 94,
   "metadata": {},
   "outputs": [
    {
     "data": {
      "text/plain": [
       "count    46520.000000\n",
       "mean        61.878247\n",
       "std         57.456175\n",
       "min          0.000000\n",
       "25%         38.530000\n",
       "50%         60.490000\n",
       "75%         75.510000\n",
       "max        300.000000\n",
       "Name: first_admit_age, dtype: float64"
      ]
     },
     "execution_count": 94,
     "metadata": {},
     "output_type": "execute_result"
    }
   ],
   "source": [
    "patients_by_age['first_admit_age'].describe()"
   ]
  },
  {
   "cell_type": "markdown",
   "metadata": {},
   "source": [
    "Os pacientes com idade superior a 89 anos tiveram a idade alterada para 300 na base do MIMIC-III. No site da base é informado que estes pacientes que tiveram a sua idade alterada para 300 anos tinham média de idade de 91.4. Portanto, calculando a média de idade dos demais pacientes de forma apartada é possível chegarmos à real média de idade dos pacientes atendidos."
   ]
  },
  {
   "cell_type": "code",
   "execution_count": 95,
   "metadata": {},
   "outputs": [
    {
     "name": "stdout",
     "output_type": "stream",
     "text": [
      "Média total da idade dos pacientes: 51.21\n",
      "Média total da idade dos pacientes excluindo recém-nascidos: 76.82\n"
     ]
    }
   ],
   "source": [
    "neonate_df = patients_by_age.query('first_admit_age < 1')\n",
    "adults_df = patients_by_age.query('first_admit_age > 1 and first_admit_age < 90')\n",
    "elderly_df = patients_by_age.query('first_admit_age == 300')\n",
    "\n",
    "neonate_mean = neonate_df['first_admit_age'].mean()\n",
    "adults_mean = adults_df['first_admit_age'].mean()\n",
    "elderly_mean = 91.4\n",
    "\n",
    "total_mean = ((neonate_mean + adults_mean + elderly_mean)/3).round(2)\n",
    "no_neonate_mean = ((adults_mean + elderly_mean)/2).round(2)\n",
    "print('Média total da idade dos pacientes:', total_mean)\n",
    "print('Média total da idade dos pacientes excluindo recém-nascidos:', no_neonate_mean)"
   ]
  },
  {
   "cell_type": "markdown",
   "metadata": {},
   "source": [
    "Histograma da idade dos pacientes"
   ]
  },
  {
   "cell_type": "code",
   "execution_count": 96,
   "metadata": {},
   "outputs": [
    {
     "data": {
      "text/plain": [
       "<seaborn.axisgrid.FacetGrid at 0x1bcd9254610>"
      ]
     },
     "execution_count": 96,
     "metadata": {},
     "output_type": "execute_result"
    },
    {
     "data": {
      "image/png": "[encoded data removed]",
      "text/plain": [
       "<Figure size 864x432 with 1 Axes>"
      ]
     },
     "metadata": {
      "needs_background": "light"
     },
     "output_type": "display_data"
    }
   ],
   "source": [
    "ax = sns.displot(patients_by_age.first_admit_age, kde = True)\n",
    "ax.figure.set_size_inches(12,6)\n",
    "ax.set(title =\"Distribuição de Frequências - Idade\", xlabel='Anos')\n",
    "ax"
   ]
  },
  {
   "cell_type": "markdown",
   "metadata": {},
   "source": [
    "Pelo histograma acima a presença de três grupos etários se torna ainda mais evidente. Abaixo, apenas para fins de comprovação, não temos na base pacientes com idade entre 2 e 13 anos."
   ]
  },
  {
   "cell_type": "code",
   "execution_count": 97,
   "metadata": {},
   "outputs": [
    {
     "data": {
      "text/html": [
       "<div>\n",
       "<style scoped>\n",
       "    .dataframe tbody tr th:only-of-type {\n",
       "        vertical-align: middle;\n",
       "    }\n",
       "\n",
       "    .dataframe tbody tr th {\n",
       "        vertical-align: top;\n",
       "    }\n",
       "\n",
       "    .dataframe thead th {\n",
       "        text-align: right;\n",
       "    }\n",
       "</style>\n",
       "<table border=\"1\" class=\"dataframe\">\n",
       "  <thead>\n",
       "    <tr style=\"text-align: right;\">\n",
       "      <th></th>\n",
       "      <th>subject_id</th>\n",
       "      <th>dob</th>\n",
       "      <th>gender</th>\n",
       "      <th>first_admittime</th>\n",
       "      <th>first_admit_age</th>\n",
       "      <th>expire_flag</th>\n",
       "      <th>age_group</th>\n",
       "    </tr>\n",
       "  </thead>\n",
       "  <tbody>\n",
       "  </tbody>\n",
       "</table>\n",
       "</div>"
      ],
      "text/plain": [
       "Empty DataFrame\n",
       "Columns: [subject_id, dob, gender, first_admittime, first_admit_age, expire_flag, age_group]\n",
       "Index: []"
      ]
     },
     "execution_count": 97,
     "metadata": {},
     "output_type": "execute_result"
    }
   ],
   "source": [
    "patients_by_age.query('first_admit_age > 1 and first_admit_age < 14')"
   ]
  },
  {
   "cell_type": "markdown",
   "metadata": {},
   "source": [
    "Distribuição de idade entre os adultos"
   ]
  },
  {
   "cell_type": "code",
   "execution_count": 98,
   "metadata": {},
   "outputs": [
    {
     "data": {
      "text/plain": [
       "<AxesSubplot:title={'center':'Distribuição de Frequências - Idade Adulta'}, xlabel='Anos', ylabel='Count'>"
      ]
     },
     "execution_count": 98,
     "metadata": {},
     "output_type": "execute_result"
    },
    {
     "data": {
      "image/png": "[encoded data removed]",
      "text/plain": [
       "<Figure size 864x432 with 1 Axes>"
      ]
     },
     "metadata": {
      "needs_background": "light"
     },
     "output_type": "display_data"
    }
   ],
   "source": [
    "ax = sns.histplot(data=adults_df, x='first_admit_age', kde = True, hue='gender', multiple=\"stack\")\n",
    "ax.figure.set_size_inches(12,6) \n",
    "ax.set(title =\"Distribuição de Frequências - Idade Adulta\", xlabel='Anos')\n",
    "ax"
   ]
  },
  {
   "cell_type": "markdown",
   "metadata": {},
   "source": [
    "O intervalo de idades na faixa adulta é muito grande. Vamos plotar um boxplot das idades desta faixa para verificar mais claramente em que intervalo de idades estão concentrados a maior parte dos atendimentos."
   ]
  },
  {
   "cell_type": "code",
   "execution_count": 99,
   "metadata": {},
   "outputs": [
    {
     "data": {
      "text/plain": [
       "<AxesSubplot:title={'center':'Idade - Grupo Adulto'}, xlabel='Anos', ylabel='Sexo'>"
      ]
     },
     "execution_count": 99,
     "metadata": {},
     "output_type": "execute_result"
    },
    {
     "data": {
      "image/png": "[encoded data removed]",
      "text/plain": [
       "<Figure size 576x432 with 1 Axes>"
      ]
     },
     "metadata": {
      "needs_background": "light"
     },
     "output_type": "display_data"
    }
   ],
   "source": [
    "ax = sns.boxplot(x = 'first_admit_age', y='gender', data=adults_df)\n",
    "ax.figure.set_size_inches(8,6)\n",
    "ax.set_title('Idade - Grupo Adulto', fontsize=18)\n",
    "ax.set_xlabel('Anos', fontsize=14)\n",
    "ax.set_ylabel('Sexo', fontsize=14)\n",
    "ax"
   ]
  },
  {
   "cell_type": "markdown",
   "metadata": {},
   "source": [
    "Taxa de mortalidade por grupo etário"
   ]
  },
  {
   "cell_type": "code",
   "execution_count": 100,
   "metadata": {},
   "outputs": [
    {
     "data": {
      "text/html": [
       "<div>\n",
       "<style scoped>\n",
       "    .dataframe tbody tr th:only-of-type {\n",
       "        vertical-align: middle;\n",
       "    }\n",
       "\n",
       "    .dataframe tbody tr th {\n",
       "        vertical-align: top;\n",
       "    }\n",
       "\n",
       "    .dataframe thead th {\n",
       "        text-align: right;\n",
       "    }\n",
       "</style>\n",
       "<table border=\"1\" class=\"dataframe\">\n",
       "  <thead>\n",
       "    <tr style=\"text-align: right;\">\n",
       "      <th></th>\n",
       "      <th>morreu</th>\n",
       "      <th>faixa etária</th>\n",
       "      <th>gênero</th>\n",
       "      <th>total</th>\n",
       "      <th>percentual</th>\n",
       "    </tr>\n",
       "  </thead>\n",
       "  <tbody>\n",
       "    <tr>\n",
       "      <th>0</th>\n",
       "      <td>0</td>\n",
       "      <td>&gt;89</td>\n",
       "      <td>F</td>\n",
       "      <td>356</td>\n",
       "      <td>0.77</td>\n",
       "    </tr>\n",
       "    <tr>\n",
       "      <th>1</th>\n",
       "      <td>0</td>\n",
       "      <td>&gt;89</td>\n",
       "      <td>M</td>\n",
       "      <td>155</td>\n",
       "      <td>0.33</td>\n",
       "    </tr>\n",
       "    <tr>\n",
       "      <th>2</th>\n",
       "      <td>0</td>\n",
       "      <td>adult</td>\n",
       "      <td>M</td>\n",
       "      <td>13235</td>\n",
       "      <td>28.45</td>\n",
       "    </tr>\n",
       "    <tr>\n",
       "      <th>3</th>\n",
       "      <td>0</td>\n",
       "      <td>adult</td>\n",
       "      <td>F</td>\n",
       "      <td>9207</td>\n",
       "      <td>19.79</td>\n",
       "    </tr>\n",
       "    <tr>\n",
       "      <th>4</th>\n",
       "      <td>0</td>\n",
       "      <td>neonate</td>\n",
       "      <td>M</td>\n",
       "      <td>4207</td>\n",
       "      <td>9.04</td>\n",
       "    </tr>\n",
       "    <tr>\n",
       "      <th>5</th>\n",
       "      <td>0</td>\n",
       "      <td>neonate</td>\n",
       "      <td>F</td>\n",
       "      <td>3601</td>\n",
       "      <td>7.74</td>\n",
       "    </tr>\n",
       "    <tr>\n",
       "      <th>6</th>\n",
       "      <td>1</td>\n",
       "      <td>&gt;89</td>\n",
       "      <td>F</td>\n",
       "      <td>938</td>\n",
       "      <td>2.02</td>\n",
       "    </tr>\n",
       "    <tr>\n",
       "      <th>7</th>\n",
       "      <td>1</td>\n",
       "      <td>&gt;89</td>\n",
       "      <td>M</td>\n",
       "      <td>542</td>\n",
       "      <td>1.17</td>\n",
       "    </tr>\n",
       "    <tr>\n",
       "      <th>8</th>\n",
       "      <td>1</td>\n",
       "      <td>adult</td>\n",
       "      <td>M</td>\n",
       "      <td>7944</td>\n",
       "      <td>17.08</td>\n",
       "    </tr>\n",
       "    <tr>\n",
       "      <th>9</th>\n",
       "      <td>1</td>\n",
       "      <td>adult</td>\n",
       "      <td>F</td>\n",
       "      <td>6269</td>\n",
       "      <td>13.48</td>\n",
       "    </tr>\n",
       "    <tr>\n",
       "      <th>10</th>\n",
       "      <td>1</td>\n",
       "      <td>neonate</td>\n",
       "      <td>M</td>\n",
       "      <td>38</td>\n",
       "      <td>0.08</td>\n",
       "    </tr>\n",
       "    <tr>\n",
       "      <th>11</th>\n",
       "      <td>1</td>\n",
       "      <td>neonate</td>\n",
       "      <td>F</td>\n",
       "      <td>28</td>\n",
       "      <td>0.06</td>\n",
       "    </tr>\n",
       "  </tbody>\n",
       "</table>\n",
       "</div>"
      ],
      "text/plain": [
       "    morreu faixa etária gênero  total  percentual\n",
       "0        0          >89      F    356        0.77\n",
       "1        0          >89      M    155        0.33\n",
       "2        0        adult      M  13235       28.45\n",
       "3        0        adult      F   9207       19.79\n",
       "4        0      neonate      M   4207        9.04\n",
       "5        0      neonate      F   3601        7.74\n",
       "6        1          >89      F    938        2.02\n",
       "7        1          >89      M    542        1.17\n",
       "8        1        adult      M   7944       17.08\n",
       "9        1        adult      F   6269       13.48\n",
       "10       1      neonate      M     38        0.08\n",
       "11       1      neonate      F     28        0.06"
      ]
     },
     "execution_count": 100,
     "metadata": {},
     "output_type": "execute_result"
    }
   ],
   "source": [
    "tam = patients_by_age.shape[0]\n",
    "# patients_age_gender_mortality = patients_by_age.groupby(['expire_flag', 'age_group', 'gender'], as_index=False).agg('count')\n",
    "\n",
    "patients_age_gender_mortality = patients_by_age.groupby(['expire_flag', 'age_group'])['gender'].value_counts().reset_index(name='total')\n",
    "patients_age_gender_mortality['percentual'] = (patients_age_gender_mortality['total'] / tam * 100).round(2)\n",
    "patients_age_gender_mortality.rename(columns={'expire_flag': 'morreu', 'gender': 'gênero', 'age_group': 'faixa etária'}, inplace=True)\n",
    "patients_age_gender_mortality"
   ]
  },
  {
   "cell_type": "code",
   "execution_count": 101,
   "metadata": {},
   "outputs": [
    {
     "data": {
      "text/plain": [
       "<seaborn.axisgrid.FacetGrid at 0x1bcda1aeef0>"
      ]
     },
     "execution_count": 101,
     "metadata": {},
     "output_type": "execute_result"
    },
    {
     "data": {
      "image/png": "[encoded data removed]",
      "text/plain": [
       "<Figure size 692.625x360 with 3 Axes>"
      ]
     },
     "metadata": {
      "needs_background": "light"
     },
     "output_type": "display_data"
    }
   ],
   "source": [
    "ax = sns.catplot(data=patients_age_gender_mortality, x='morreu', y='percentual', kind='bar', hue='gênero', col='faixa etária', aspect=.6, palette=dict(F=\"tomato\", M=\"#3498db\"))\n",
    "ax"
   ]
  },
  {
   "cell_type": "code",
   "execution_count": 102,
   "metadata": {},
   "outputs": [
    {
     "data": {
      "image/png": "[encoded data removed]",
      "text/plain": [
       "<Figure size 432x288 with 1 Axes>"
      ]
     },
     "metadata": {},
     "output_type": "display_data"
    }
   ],
   "source": [
    "plt.figure(facecolor='grey')\n",
    "plt.pie(adults_df['expire_flag'].value_counts(), autopct='%.0f%%', labels = ['Vivos', 'Mortos'], textprops={'fontsize': 12, 'color': 'white', 'style': 'oblique', 'weight': 'bold'})\n",
    "plt.title('Taxa de Mortalidade População Adulta', color='white', fontsize=14)\n",
    "plt.show()"
   ]
  },
  {
   "cell_type": "markdown",
   "metadata": {},
   "source": [
    "### Atendimentos"
   ]
  },
  {
   "cell_type": "markdown",
   "metadata": {},
   "source": [
    "Número de atendimentos"
   ]
  },
  {
   "cell_type": "code",
   "execution_count": 103,
   "metadata": {},
   "outputs": [
    {
     "data": {
      "text/plain": [
       "58976"
      ]
     },
     "execution_count": 103,
     "metadata": {},
     "output_type": "execute_result"
    }
   ],
   "source": [
    "main_admission_cols = [\n",
    "    'SUBJECT_ID', 'HADM_ID', 'ADMITTIME', 'DISCHTIME', 'DEATHTIME',\n",
    "    'ADMISSION_TYPE', 'ADMISSION_LOCATION', 'DISCHARGE_LOCATION', 'INSURANCE',\n",
    "    'LANGUAGE', 'RELIGION', 'MARITAL_STATUS', 'ETHNICITY', 'EDREGTIME',\n",
    "    'EDOUTTIME', 'DIAGNOSIS', 'HOSPITAL_EXPIRE_FLAG']\n",
    "\n",
    "admissions_df = pd.read_csv('C:\\csvMimic\\\\v1_4\\ADMISSIONS.csv', usecols = main_admission_cols)\n",
    "tam_admissions  = admissions_df.shape[0]\n",
    "tam_admissions"
   ]
  },
  {
   "cell_type": "markdown",
   "metadata": {},
   "source": [
    "Quantidade de atendimentos por paciente"
   ]
  },
  {
   "cell_type": "code",
   "execution_count": 104,
   "metadata": {},
   "outputs": [
    {
     "name": "stdout",
     "output_type": "stream",
     "text": [
      "Número de pacientes com um único atendimento:  38983\n",
      "Número de pacientes com mais de um atendimento:  7537\n"
     ]
    }
   ],
   "source": [
    "qtde_adm_patients = pd.read_csv('C:\\csvMimic\\\\atendimentos-por-qtde-pacientes.csv')\n",
    "print(\"Número de pacientes com um único atendimento: \", qtde_adm_patients.cont[0])\n",
    "print(\"Número de pacientes com mais de um atendimento: \", qtde_adm_patients['cont'].sum() - qtde_adm_patients.cont[0])"
   ]
  },
  {
   "cell_type": "code",
   "execution_count": 105,
   "metadata": {},
   "outputs": [
    {
     "data": {
      "image/png": "[encoded data removed]",
      "text/plain": [
       "<Figure size 864x432 with 2 Axes>"
      ]
     },
     "metadata": {
      "needs_background": "light"
     },
     "output_type": "display_data"
    }
   ],
   "source": [
    "f, axs = plt.subplots(1, 2, figsize=(12, 6)) #gridspec_kw=dict(width_ratios=[4, 3])\n",
    "sns.lineplot(data=qtde_adm_patients,  x='qtd_adm', y='cont', ax=axs[0])\n",
    "sns.barplot(data=qtde_adm_patients,  x='qtd_adm', y='cont', ax=axs[1])\n",
    "axs[0].set(title =\"Distribuição de Frequência de Atendimentos\", xlabel='Quantidade de Atendimentos', ylabel = 'Número de Pacientes')\n",
    "axs[1].set(title =\"Distribuição de Frequência de Atendimentos\", xlabel='Quantidade de Atendimentos', ylabel = 'Número de Pacientes')\n",
    "f.tight_layout()"
   ]
  },
  {
   "cell_type": "markdown",
   "metadata": {},
   "source": [
    "Tipos de Atendimento"
   ]
  },
  {
   "cell_type": "markdown",
   "metadata": {},
   "source": [
    "Temos na base 4 tipos possíveis de tipos de atendimento. São eles:\n",
    "- emergency: Atendimentos não planejados\n",
    "- urgent: Atendimentos não planejados\n",
    "- elective: Atendimentos planejados\n",
    "- newborn: Nascimentos\n",
    "\n",
    "Os mantenedores do MIMIC-III indicam que as categorias *emergency* e *urgent* podem ser agrupadas, por terem a mesma natureza."
   ]
  },
  {
   "cell_type": "code",
   "execution_count": 106,
   "metadata": {},
   "outputs": [
    {
     "data": {
      "text/plain": [
       "(0.0, 58976.0)"
      ]
     },
     "execution_count": 106,
     "metadata": {},
     "output_type": "execute_result"
    },
    {
     "data": {
      "image/png": "[encoded data removed]",
      "text/plain": [
       "<Figure size 720x432 with 2 Axes>"
      ]
     },
     "metadata": {
      "needs_background": "light"
     },
     "output_type": "display_data"
    }
   ],
   "source": [
    "plt.figure(figsize=(10,6))\n",
    "ax = sns.countplot(x=\"ADMISSION_TYPE\", data=admissions_df, order=['EMERGENCY', 'URGENT', 'ELECTIVE', 'NEWBORN'])\n",
    "plt.title('Distribuição de Tipos de Atendimento')\n",
    "plt.xlabel('Tipo de atendimento')\n",
    "\n",
    "ax2=ax.twinx()\n",
    "ax2.yaxis.tick_left()\n",
    "ax.yaxis.tick_right()\n",
    "ax.yaxis.set_label_position('right')\n",
    "ax2.yaxis.set_label_position('left')\n",
    "ax2.set_ylabel('Percentual [%]')\n",
    "\n",
    "for p in ax.patches:\n",
    "    x=p.get_bbox().get_points()[:,0]\n",
    "    y=p.get_bbox().get_points()[1,1]\n",
    "    ax.annotate('{:.1f}%'.format(100.*y/tam_admissions), (x.mean(), y), ha='center', va='bottom')\n",
    "ax2.set_ylim(0, 100)\n",
    "ax.set_ylim(0, tam_admissions)"
   ]
  },
  {
   "cell_type": "markdown",
   "metadata": {},
   "source": [
    "#### Duração dos atendimentos"
   ]
  },
  {
   "cell_type": "markdown",
   "metadata": {},
   "source": [
    "Verificando se temos valores nulos nas datas"
   ]
  },
  {
   "cell_type": "code",
   "execution_count": 107,
   "metadata": {},
   "outputs": [
    {
     "name": "stdout",
     "output_type": "stream",
     "text": [
      "True\n"
     ]
    },
    {
     "data": {
      "text/plain": [
       "['DEATHTIME',\n",
       " 'LANGUAGE',\n",
       " 'RELIGION',\n",
       " 'MARITAL_STATUS',\n",
       " 'EDREGTIME',\n",
       " 'EDOUTTIME',\n",
       " 'DIAGNOSIS']"
      ]
     },
     "execution_count": 107,
     "metadata": {},
     "output_type": "execute_result"
    }
   ],
   "source": [
    "print(admissions_df.isnull().values.any())\n",
    "nan_columns = admissions_df.isna().any()\n",
    "admissions_df.columns[nan_columns].tolist()"
   ]
  },
  {
   "cell_type": "markdown",
   "metadata": {},
   "source": [
    "Dado que não temos dados faltantes, vamos calcular a duração de cada atendimento em dias"
   ]
  },
  {
   "cell_type": "code",
   "execution_count": 108,
   "metadata": {},
   "outputs": [],
   "source": [
    "admissions_df['ADMITTIME'] = pd.to_datetime(admissions_df['ADMITTIME'])\n",
    "admissions_df['DISCHTIME'] = pd.to_datetime(admissions_df['DISCHTIME'])\n",
    "\n",
    "admissions_df['duration'] = (admissions_df['DISCHTIME'] - admissions_df['ADMITTIME']).dt.days"
   ]
  },
  {
   "cell_type": "markdown",
   "metadata": {},
   "source": [
    "Duração média dos atendimentos"
   ]
  },
  {
   "cell_type": "code",
   "execution_count": 109,
   "metadata": {},
   "outputs": [
    {
     "data": {
      "text/plain": [
       "count    58976.000000\n",
       "mean         9.610672\n",
       "std         12.452546\n",
       "min         -1.000000\n",
       "25%          3.000000\n",
       "50%          6.000000\n",
       "75%         11.000000\n",
       "max        294.000000\n",
       "Name: duration, dtype: float64"
      ]
     },
     "execution_count": 109,
     "metadata": {},
     "output_type": "execute_result"
    }
   ],
   "source": [
    "admissions_df.duration.describe()"
   ]
  },
  {
   "cell_type": "code",
   "execution_count": 110,
   "metadata": {},
   "outputs": [
    {
     "data": {
      "text/plain": [
       "<AxesSubplot:title={'center':'Boxplot - Duração de Atendimentos'}, xlabel='Dias'>"
      ]
     },
     "execution_count": 110,
     "metadata": {},
     "output_type": "execute_result"
    },
    {
     "data": {
      "image/png": "[encoded data removed]",
      "text/plain": [
       "<Figure size 576x432 with 1 Axes>"
      ]
     },
     "metadata": {
      "needs_background": "light"
     },
     "output_type": "display_data"
    }
   ],
   "source": [
    "ax = sns.boxplot(x = 'duration', data=admissions_df, orient='h')\n",
    "ax.figure.set_size_inches(8,6)\n",
    "ax.set_title('Boxplot - Duração de Atendimentos', fontsize=18)\n",
    "ax.set_xlabel('Dias', fontsize=14)\n",
    "ax"
   ]
  },
  {
   "cell_type": "code",
   "execution_count": 111,
   "metadata": {},
   "outputs": [
    {
     "data": {
      "text/plain": [
       "<AxesSubplot:title={'center':'Boxplot - Duração de Atendimentos'}, xlabel='Dias', ylabel='Mortalidade'>"
      ]
     },
     "execution_count": 111,
     "metadata": {},
     "output_type": "execute_result"
    },
    {
     "data": {
      "image/png": "[encoded data removed]",
      "text/plain": [
       "<Figure size 576x432 with 1 Axes>"
      ]
     },
     "metadata": {
      "needs_background": "light"
     },
     "output_type": "display_data"
    }
   ],
   "source": [
    "ax = sns.boxplot(x = 'duration', y='HOSPITAL_EXPIRE_FLAG', data=admissions_df, orient='h')\n",
    "ax.figure.set_size_inches(8,6)\n",
    "ax.set_title('Boxplot - Duração de Atendimentos', fontsize=18)\n",
    "ax.set_xlabel('Dias', fontsize=14)\n",
    "ax.set_ylabel('Mortalidade', fontsize=14)\n",
    "ax"
   ]
  },
  {
   "cell_type": "markdown",
   "metadata": {},
   "source": [
    "Duração de atendimento na emergência"
   ]
  },
  {
   "cell_type": "code",
   "execution_count": 112,
   "metadata": {},
   "outputs": [
    {
     "name": "stdout",
     "output_type": "stream",
     "text": [
      "Quantidade de registros original:  58976\n",
      "Quantidade de registros após remoção de atendimentos sem estadia na emergência :  2053\n"
     ]
    }
   ],
   "source": [
    "aux = admissions_df.copy()\n",
    "print(\"Quantidade de registros original: \", aux.shape[0])\n",
    "aux = aux.dropna()\n",
    "print(\"Quantidade de registros após remoção de atendimentos sem estadia na emergência : \", aux.shape[0])"
   ]
  },
  {
   "cell_type": "code",
   "execution_count": 113,
   "metadata": {},
   "outputs": [
    {
     "name": "stdout",
     "output_type": "stream",
     "text": [
      "count    2053.000000\n",
      "mean        5.061560\n",
      "std         2.657447\n",
      "min         0.066667\n",
      "25%         3.283333\n",
      "50%         4.600000\n",
      "75%         6.250000\n",
      "max        23.383333\n",
      "Name: duration_em, dtype: float64\n"
     ]
    }
   ],
   "source": [
    "aux['EDREGTIME'] = pd.to_datetime(aux['EDREGTIME'])\n",
    "aux['EDOUTTIME'] = pd.to_datetime(aux['EDOUTTIME'])\n",
    "\n",
    "aux['duration_em'] = (aux['EDOUTTIME'] - aux['EDREGTIME']).dt.seconds\n",
    "aux['duration_em'] = aux['duration_em'] /3600 # convertendo segundos em horas\n",
    "print(aux.duration_em.describe())"
   ]
  },
  {
   "cell_type": "markdown",
   "metadata": {},
   "source": [
    "## Serviços"
   ]
  },
  {
   "cell_type": "code",
   "execution_count": 114,
   "metadata": {},
   "outputs": [
    {
     "data": {
      "text/plain": [
       "73343"
      ]
     },
     "execution_count": 114,
     "metadata": {},
     "output_type": "execute_result"
    }
   ],
   "source": [
    "services_df = pd.read_csv('C:\\csvMimic\\\\v1_4\\SERVICES.csv')\n",
    "tam_services = services_df.shape[0]\n",
    "tam_services"
   ]
  },
  {
   "cell_type": "code",
   "execution_count": 115,
   "metadata": {},
   "outputs": [],
   "source": [
    "serv_types_dict = {\n",
    "    'CMED':\t   'Cardiac Medical - for non-surgical cardiac related admissions',\n",
    "    'CSURG':   'Cardiac Surgery - for surgical cardiac admissions',\n",
    "    'DENT':\t   'Dental - for dental/jaw related admissions',\n",
    "    'ENT':     'Ear, nose, and throat - conditions primarily affecting these areas',\n",
    "    'GU':      'Genitourinary - reproductive organs/urinary system',\n",
    "    'GYN':\t   'Gynecological - female reproductive systems and breasts',\n",
    "    'MED':\t   'Medical - general service for internal medicine',\n",
    "    'NB':\t   'Newborn - infants born at the hospital',\n",
    "    'NBB':\t   'Newborn baby - infants born at the hospital',\n",
    "    'NMED':\t   'Neurologic Medical - non-surgical, relating to the brain',\n",
    "    'NSURG':   'Neurologic Surgical - surgical, relating to the brain',\n",
    "    'OBS':\t   'Obstetrics - conerned with childbirth and the care of women giving birth',\n",
    "    'ORTHO':   'Orthopaedic - surgical, relating to the musculoskeletal system',\n",
    "    'OMED':\t   'Orthopaedic medicine - non-surgical, relating to musculoskeletal system',\n",
    "    'PSURG':   'Plastic - restortation/reconstruction of the human body (including cosmetic or aesthetic)',\n",
    "    'PSYCH':   'Psychiatric - mental disorders relating to mood, behaviour, cognition, or perceptions',\n",
    "    'SURG':\t   'Surgical - general surgical service not classified elsewhere',\n",
    "    'TRAUM':   'Trauma - injury or damage caused by physical harm from an external source',\n",
    "    'TSURG':   'Thoracic Surgical - surgery on the thorax, located between the neck and the abdomen',\n",
    "    'VSURG':   'Vascular Surgical - surgery relating to the circulatory system'\n",
    "}"
   ]
  },
  {
   "cell_type": "code",
   "execution_count": 116,
   "metadata": {},
   "outputs": [
    {
     "data": {
      "text/plain": [
       "Index(['unique_values', 'counts'], dtype='object')"
      ]
     },
     "execution_count": 116,
     "metadata": {},
     "output_type": "execute_result"
    }
   ],
   "source": [
    "aux = services_df.copy()\n",
    "serv_types = aux['CURR_SERVICE'].value_counts().rename_axis('unique_values').reset_index(name='counts')\n",
    "serv_types.columns"
   ]
  },
  {
   "cell_type": "code",
   "execution_count": 117,
   "metadata": {},
   "outputs": [
    {
     "data": {
      "text/html": [
       "<div>\n",
       "<style scoped>\n",
       "    .dataframe tbody tr th:only-of-type {\n",
       "        vertical-align: middle;\n",
       "    }\n",
       "\n",
       "    .dataframe tbody tr th {\n",
       "        vertical-align: top;\n",
       "    }\n",
       "\n",
       "    .dataframe thead th {\n",
       "        text-align: right;\n",
       "    }\n",
       "</style>\n",
       "<table border=\"1\" class=\"dataframe\">\n",
       "  <thead>\n",
       "    <tr style=\"text-align: right;\">\n",
       "      <th></th>\n",
       "      <th>unique_values</th>\n",
       "      <th>counts</th>\n",
       "      <th>desc</th>\n",
       "    </tr>\n",
       "  </thead>\n",
       "  <tbody>\n",
       "    <tr>\n",
       "      <th>0</th>\n",
       "      <td>MED</td>\n",
       "      <td>24866</td>\n",
       "      <td>Medical - general service for internal medicine</td>\n",
       "    </tr>\n",
       "    <tr>\n",
       "      <th>1</th>\n",
       "      <td>CMED</td>\n",
       "      <td>9135</td>\n",
       "      <td>Cardiac Medical - for non-surgical cardiac rel...</td>\n",
       "    </tr>\n",
       "    <tr>\n",
       "      <th>2</th>\n",
       "      <td>CSURG</td>\n",
       "      <td>7911</td>\n",
       "      <td>Cardiac Surgery - for surgical cardiac admissions</td>\n",
       "    </tr>\n",
       "    <tr>\n",
       "      <th>3</th>\n",
       "      <td>NB</td>\n",
       "      <td>7806</td>\n",
       "      <td>Newborn - infants born at the hospital</td>\n",
       "    </tr>\n",
       "    <tr>\n",
       "      <th>4</th>\n",
       "      <td>SURG</td>\n",
       "      <td>5514</td>\n",
       "      <td>Surgical - general surgical service not classi...</td>\n",
       "    </tr>\n",
       "    <tr>\n",
       "      <th>5</th>\n",
       "      <td>NSURG</td>\n",
       "      <td>4100</td>\n",
       "      <td>Neurologic Surgical - surgical, relating to th...</td>\n",
       "    </tr>\n",
       "    <tr>\n",
       "      <th>6</th>\n",
       "      <td>TRAUM</td>\n",
       "      <td>3137</td>\n",
       "      <td>Trauma - injury or damage caused by physical h...</td>\n",
       "    </tr>\n",
       "    <tr>\n",
       "      <th>7</th>\n",
       "      <td>NMED</td>\n",
       "      <td>2957</td>\n",
       "      <td>Neurologic Medical - non-surgical, relating to...</td>\n",
       "    </tr>\n",
       "    <tr>\n",
       "      <th>8</th>\n",
       "      <td>OMED</td>\n",
       "      <td>2286</td>\n",
       "      <td>Orthopaedic medicine - non-surgical, relating ...</td>\n",
       "    </tr>\n",
       "    <tr>\n",
       "      <th>9</th>\n",
       "      <td>VSURG</td>\n",
       "      <td>1455</td>\n",
       "      <td>Vascular Surgical - surgery relating to the ci...</td>\n",
       "    </tr>\n",
       "    <tr>\n",
       "      <th>10</th>\n",
       "      <td>TSURG</td>\n",
       "      <td>1338</td>\n",
       "      <td>Thoracic Surgical - surgery on the thorax, loc...</td>\n",
       "    </tr>\n",
       "    <tr>\n",
       "      <th>11</th>\n",
       "      <td>ORTHO</td>\n",
       "      <td>1101</td>\n",
       "      <td>Orthopaedic - surgical, relating to the muscul...</td>\n",
       "    </tr>\n",
       "    <tr>\n",
       "      <th>12</th>\n",
       "      <td>GU</td>\n",
       "      <td>436</td>\n",
       "      <td>Genitourinary - reproductive organs/urinary sy...</td>\n",
       "    </tr>\n",
       "    <tr>\n",
       "      <th>13</th>\n",
       "      <td>NBB</td>\n",
       "      <td>346</td>\n",
       "      <td>Newborn baby - infants born at the hospital</td>\n",
       "    </tr>\n",
       "    <tr>\n",
       "      <th>14</th>\n",
       "      <td>GYN</td>\n",
       "      <td>306</td>\n",
       "      <td>Gynecological - female reproductive systems an...</td>\n",
       "    </tr>\n",
       "    <tr>\n",
       "      <th>15</th>\n",
       "      <td>PSURG</td>\n",
       "      <td>283</td>\n",
       "      <td>Plastic - restortation/reconstruction of the h...</td>\n",
       "    </tr>\n",
       "    <tr>\n",
       "      <th>16</th>\n",
       "      <td>ENT</td>\n",
       "      <td>247</td>\n",
       "      <td>Ear, nose, and throat - conditions primarily a...</td>\n",
       "    </tr>\n",
       "    <tr>\n",
       "      <th>17</th>\n",
       "      <td>OBS</td>\n",
       "      <td>113</td>\n",
       "      <td>Obstetrics - conerned with childbirth and the ...</td>\n",
       "    </tr>\n",
       "    <tr>\n",
       "      <th>18</th>\n",
       "      <td>DENT</td>\n",
       "      <td>5</td>\n",
       "      <td>Dental - for dental/jaw related admissions</td>\n",
       "    </tr>\n",
       "    <tr>\n",
       "      <th>19</th>\n",
       "      <td>PSYCH</td>\n",
       "      <td>1</td>\n",
       "      <td>Psychiatric - mental disorders relating to moo...</td>\n",
       "    </tr>\n",
       "  </tbody>\n",
       "</table>\n",
       "</div>"
      ],
      "text/plain": [
       "   unique_values  counts                                               desc\n",
       "0            MED   24866    Medical - general service for internal medicine\n",
       "1           CMED    9135  Cardiac Medical - for non-surgical cardiac rel...\n",
       "2          CSURG    7911  Cardiac Surgery - for surgical cardiac admissions\n",
       "3             NB    7806             Newborn - infants born at the hospital\n",
       "4           SURG    5514  Surgical - general surgical service not classi...\n",
       "5          NSURG    4100  Neurologic Surgical - surgical, relating to th...\n",
       "6          TRAUM    3137  Trauma - injury or damage caused by physical h...\n",
       "7           NMED    2957  Neurologic Medical - non-surgical, relating to...\n",
       "8           OMED    2286  Orthopaedic medicine - non-surgical, relating ...\n",
       "9          VSURG    1455  Vascular Surgical - surgery relating to the ci...\n",
       "10         TSURG    1338  Thoracic Surgical - surgery on the thorax, loc...\n",
       "11         ORTHO    1101  Orthopaedic - surgical, relating to the muscul...\n",
       "12            GU     436  Genitourinary - reproductive organs/urinary sy...\n",
       "13           NBB     346        Newborn baby - infants born at the hospital\n",
       "14           GYN     306  Gynecological - female reproductive systems an...\n",
       "15         PSURG     283  Plastic - restortation/reconstruction of the h...\n",
       "16           ENT     247  Ear, nose, and throat - conditions primarily a...\n",
       "17           OBS     113  Obstetrics - conerned with childbirth and the ...\n",
       "18          DENT       5         Dental - for dental/jaw related admissions\n",
       "19         PSYCH       1  Psychiatric - mental disorders relating to moo..."
      ]
     },
     "execution_count": 117,
     "metadata": {},
     "output_type": "execute_result"
    }
   ],
   "source": [
    "aux = services_df.copy()\n",
    "serv_types = aux['CURR_SERVICE'].value_counts().rename_axis('unique_values').reset_index(name='counts')\n",
    "serv_types['desc'] = serv_types.apply(lambda x: serv_types_dict.get(x['unique_values']), axis=1)\n",
    "serv_types"
   ]
  },
  {
   "cell_type": "code",
   "execution_count": 118,
   "metadata": {},
   "outputs": [
    {
     "data": {
      "text/html": [
       "<div>\n",
       "<style scoped>\n",
       "    .dataframe tbody tr th:only-of-type {\n",
       "        vertical-align: middle;\n",
       "    }\n",
       "\n",
       "    .dataframe tbody tr th {\n",
       "        vertical-align: top;\n",
       "    }\n",
       "\n",
       "    .dataframe thead th {\n",
       "        text-align: right;\n",
       "    }\n",
       "</style>\n",
       "<table border=\"1\" class=\"dataframe\">\n",
       "  <thead>\n",
       "    <tr style=\"text-align: right;\">\n",
       "      <th></th>\n",
       "      <th>morreu</th>\n",
       "      <th>faixa etária</th>\n",
       "      <th>gênero</th>\n",
       "      <th>total</th>\n",
       "      <th>percentual</th>\n",
       "    </tr>\n",
       "  </thead>\n",
       "  <tbody>\n",
       "    <tr>\n",
       "      <th>0</th>\n",
       "      <td>0</td>\n",
       "      <td>&gt;89</td>\n",
       "      <td>F</td>\n",
       "      <td>356</td>\n",
       "      <td>0.49</td>\n",
       "    </tr>\n",
       "    <tr>\n",
       "      <th>1</th>\n",
       "      <td>0</td>\n",
       "      <td>&gt;89</td>\n",
       "      <td>M</td>\n",
       "      <td>155</td>\n",
       "      <td>0.21</td>\n",
       "    </tr>\n",
       "    <tr>\n",
       "      <th>2</th>\n",
       "      <td>0</td>\n",
       "      <td>adult</td>\n",
       "      <td>M</td>\n",
       "      <td>13235</td>\n",
       "      <td>18.05</td>\n",
       "    </tr>\n",
       "    <tr>\n",
       "      <th>3</th>\n",
       "      <td>0</td>\n",
       "      <td>adult</td>\n",
       "      <td>F</td>\n",
       "      <td>9207</td>\n",
       "      <td>12.55</td>\n",
       "    </tr>\n",
       "    <tr>\n",
       "      <th>4</th>\n",
       "      <td>0</td>\n",
       "      <td>neonate</td>\n",
       "      <td>M</td>\n",
       "      <td>4207</td>\n",
       "      <td>5.74</td>\n",
       "    </tr>\n",
       "    <tr>\n",
       "      <th>5</th>\n",
       "      <td>0</td>\n",
       "      <td>neonate</td>\n",
       "      <td>F</td>\n",
       "      <td>3601</td>\n",
       "      <td>4.91</td>\n",
       "    </tr>\n",
       "    <tr>\n",
       "      <th>6</th>\n",
       "      <td>1</td>\n",
       "      <td>&gt;89</td>\n",
       "      <td>F</td>\n",
       "      <td>938</td>\n",
       "      <td>1.28</td>\n",
       "    </tr>\n",
       "    <tr>\n",
       "      <th>7</th>\n",
       "      <td>1</td>\n",
       "      <td>&gt;89</td>\n",
       "      <td>M</td>\n",
       "      <td>542</td>\n",
       "      <td>0.74</td>\n",
       "    </tr>\n",
       "    <tr>\n",
       "      <th>8</th>\n",
       "      <td>1</td>\n",
       "      <td>adult</td>\n",
       "      <td>M</td>\n",
       "      <td>7944</td>\n",
       "      <td>10.83</td>\n",
       "    </tr>\n",
       "    <tr>\n",
       "      <th>9</th>\n",
       "      <td>1</td>\n",
       "      <td>adult</td>\n",
       "      <td>F</td>\n",
       "      <td>6269</td>\n",
       "      <td>8.55</td>\n",
       "    </tr>\n",
       "    <tr>\n",
       "      <th>10</th>\n",
       "      <td>1</td>\n",
       "      <td>neonate</td>\n",
       "      <td>M</td>\n",
       "      <td>38</td>\n",
       "      <td>0.05</td>\n",
       "    </tr>\n",
       "    <tr>\n",
       "      <th>11</th>\n",
       "      <td>1</td>\n",
       "      <td>neonate</td>\n",
       "      <td>F</td>\n",
       "      <td>28</td>\n",
       "      <td>0.04</td>\n",
       "    </tr>\n",
       "  </tbody>\n",
       "</table>\n",
       "</div>"
      ],
      "text/plain": [
       "    morreu faixa etária gênero  total  percentual\n",
       "0        0          >89      F    356        0.49\n",
       "1        0          >89      M    155        0.21\n",
       "2        0        adult      M  13235       18.05\n",
       "3        0        adult      F   9207       12.55\n",
       "4        0      neonate      M   4207        5.74\n",
       "5        0      neonate      F   3601        4.91\n",
       "6        1          >89      F    938        1.28\n",
       "7        1          >89      M    542        0.74\n",
       "8        1        adult      M   7944       10.83\n",
       "9        1        adult      F   6269        8.55\n",
       "10       1      neonate      M     38        0.05\n",
       "11       1      neonate      F     28        0.04"
      ]
     },
     "execution_count": 118,
     "metadata": {},
     "output_type": "execute_result"
    }
   ],
   "source": [
    "\n",
    "patients_age_gender_mortality = patients_by_age.groupby(['expire_flag', 'age_group'])['gender'].value_counts().reset_index(name='total')\n",
    "patients_age_gender_mortality['percentual'] = (patients_age_gender_mortality['total'] / tam_services * 100).round(2)\n",
    "patients_age_gender_mortality.rename(columns={'expire_flag': 'morreu', 'gender': 'gênero', 'age_group': 'faixa etária'}, inplace=True)\n",
    "patients_age_gender_mortality"
   ]
  },
  {
   "cell_type": "code",
   "execution_count": 119,
   "metadata": {},
   "outputs": [
    {
     "ename": "KeyError",
     "evalue": "'desc'",
     "output_type": "error",
     "traceback": [
      "\u001b[1;31m---------------------------------------------------------------------------\u001b[0m",
      "\u001b[1;31mKeyError\u001b[0m                                  Traceback (most recent call last)",
      "File \u001b[1;32m~\\AppData\\Local\\Programs\\Python\\Python310\\lib\\site-packages\\pandas\\core\\indexes\\base.py:3361\u001b[0m, in \u001b[0;36mIndex.get_loc\u001b[1;34m(self, key, method, tolerance)\u001b[0m\n\u001b[0;32m   3360\u001b[0m \u001b[38;5;28;01mtry\u001b[39;00m:\n\u001b[1;32m-> 3361\u001b[0m     \u001b[38;5;28;01mreturn\u001b[39;00m \u001b[38;5;28;43mself\u001b[39;49m\u001b[38;5;241;43m.\u001b[39;49m\u001b[43m_engine\u001b[49m\u001b[38;5;241;43m.\u001b[39;49m\u001b[43mget_loc\u001b[49m\u001b[43m(\u001b[49m\u001b[43mcasted_key\u001b[49m\u001b[43m)\u001b[49m\n\u001b[0;32m   3362\u001b[0m \u001b[38;5;28;01mexcept\u001b[39;00m \u001b[38;5;167;01mKeyError\u001b[39;00m \u001b[38;5;28;01mas\u001b[39;00m err:\n",
      "File \u001b[1;32m~\\AppData\\Local\\Programs\\Python\\Python310\\lib\\site-packages\\pandas\\_libs\\index.pyx:76\u001b[0m, in \u001b[0;36mpandas._libs.index.IndexEngine.get_loc\u001b[1;34m()\u001b[0m\n",
      "File \u001b[1;32m~\\AppData\\Local\\Programs\\Python\\Python310\\lib\\site-packages\\pandas\\_libs\\index.pyx:108\u001b[0m, in \u001b[0;36mpandas._libs.index.IndexEngine.get_loc\u001b[1;34m()\u001b[0m\n",
      "File \u001b[1;32mpandas\\_libs\\hashtable_class_helper.pxi:5198\u001b[0m, in \u001b[0;36mpandas._libs.hashtable.PyObjectHashTable.get_item\u001b[1;34m()\u001b[0m\n",
      "File \u001b[1;32mpandas\\_libs\\hashtable_class_helper.pxi:5206\u001b[0m, in \u001b[0;36mpandas._libs.hashtable.PyObjectHashTable.get_item\u001b[1;34m()\u001b[0m\n",
      "\u001b[1;31mKeyError\u001b[0m: 'desc'",
      "\nThe above exception was the direct cause of the following exception:\n",
      "\u001b[1;31mKeyError\u001b[0m                                  Traceback (most recent call last)",
      "Input \u001b[1;32mIn [119]\u001b[0m, in \u001b[0;36m<module>\u001b[1;34m\u001b[0m\n\u001b[0;32m      1\u001b[0m services_df\u001b[38;5;241m.\u001b[39mCURR_SERVICE\u001b[38;5;241m.\u001b[39mvalue_counts(sort\u001b[38;5;241m=\u001b[39m\u001b[38;5;28;01mTrue\u001b[39;00m)\n\u001b[0;32m      2\u001b[0m serv_types \u001b[38;5;241m=\u001b[39m pd\u001b[38;5;241m.\u001b[39mDataFrame(services_df\u001b[38;5;241m.\u001b[39mCURR_SERVICE\u001b[38;5;241m.\u001b[39mvalue_counts(sort\u001b[38;5;241m=\u001b[39m\u001b[38;5;28;01mTrue\u001b[39;00m))\n\u001b[1;32m----> 3\u001b[0m \u001b[43mserv_types\u001b[49m\u001b[43m[\u001b[49m\u001b[38;5;124;43m'\u001b[39;49m\u001b[38;5;124;43mdesc\u001b[39;49m\u001b[38;5;124;43m'\u001b[39;49m\u001b[43m]\u001b[49m\u001b[38;5;241m.\u001b[39mapply(serv_types[\u001b[38;5;124m'\u001b[39m\u001b[38;5;124mCURR_SERVICE\u001b[39m\u001b[38;5;124m'\u001b[39m])\n",
      "File \u001b[1;32m~\\AppData\\Local\\Programs\\Python\\Python310\\lib\\site-packages\\pandas\\core\\frame.py:3458\u001b[0m, in \u001b[0;36mDataFrame.__getitem__\u001b[1;34m(self, key)\u001b[0m\n\u001b[0;32m   3456\u001b[0m \u001b[38;5;28;01mif\u001b[39;00m \u001b[38;5;28mself\u001b[39m\u001b[38;5;241m.\u001b[39mcolumns\u001b[38;5;241m.\u001b[39mnlevels \u001b[38;5;241m>\u001b[39m \u001b[38;5;241m1\u001b[39m:\n\u001b[0;32m   3457\u001b[0m     \u001b[38;5;28;01mreturn\u001b[39;00m \u001b[38;5;28mself\u001b[39m\u001b[38;5;241m.\u001b[39m_getitem_multilevel(key)\n\u001b[1;32m-> 3458\u001b[0m indexer \u001b[38;5;241m=\u001b[39m \u001b[38;5;28;43mself\u001b[39;49m\u001b[38;5;241;43m.\u001b[39;49m\u001b[43mcolumns\u001b[49m\u001b[38;5;241;43m.\u001b[39;49m\u001b[43mget_loc\u001b[49m\u001b[43m(\u001b[49m\u001b[43mkey\u001b[49m\u001b[43m)\u001b[49m\n\u001b[0;32m   3459\u001b[0m \u001b[38;5;28;01mif\u001b[39;00m is_integer(indexer):\n\u001b[0;32m   3460\u001b[0m     indexer \u001b[38;5;241m=\u001b[39m [indexer]\n",
      "File \u001b[1;32m~\\AppData\\Local\\Programs\\Python\\Python310\\lib\\site-packages\\pandas\\core\\indexes\\base.py:3363\u001b[0m, in \u001b[0;36mIndex.get_loc\u001b[1;34m(self, key, method, tolerance)\u001b[0m\n\u001b[0;32m   3361\u001b[0m         \u001b[38;5;28;01mreturn\u001b[39;00m \u001b[38;5;28mself\u001b[39m\u001b[38;5;241m.\u001b[39m_engine\u001b[38;5;241m.\u001b[39mget_loc(casted_key)\n\u001b[0;32m   3362\u001b[0m     \u001b[38;5;28;01mexcept\u001b[39;00m \u001b[38;5;167;01mKeyError\u001b[39;00m \u001b[38;5;28;01mas\u001b[39;00m err:\n\u001b[1;32m-> 3363\u001b[0m         \u001b[38;5;28;01mraise\u001b[39;00m \u001b[38;5;167;01mKeyError\u001b[39;00m(key) \u001b[38;5;28;01mfrom\u001b[39;00m \u001b[38;5;21;01merr\u001b[39;00m\n\u001b[0;32m   3365\u001b[0m \u001b[38;5;28;01mif\u001b[39;00m is_scalar(key) \u001b[38;5;129;01mand\u001b[39;00m isna(key) \u001b[38;5;129;01mand\u001b[39;00m \u001b[38;5;129;01mnot\u001b[39;00m \u001b[38;5;28mself\u001b[39m\u001b[38;5;241m.\u001b[39mhasnans:\n\u001b[0;32m   3366\u001b[0m     \u001b[38;5;28;01mraise\u001b[39;00m \u001b[38;5;167;01mKeyError\u001b[39;00m(key)\n",
      "\u001b[1;31mKeyError\u001b[0m: 'desc'"
     ]
    }
   ],
   "source": [
    "services_df.CURR_SERVICE.value_counts(sort=True)\n",
    "serv_types = pd.DataFrame(services_df.CURR_SERVICE.value_counts(sort=True))\n",
    "serv_types['desc'].apply(serv_types['CURR_SERVICE'])"
   ]
  },
  {
   "cell_type": "markdown",
   "metadata": {},
   "source": [
    "## Informações Adicionais"
   ]
  },
  {
   "cell_type": "markdown",
   "metadata": {},
   "source": [
    "Termos usados na descrição do diagnóstico na entrada do hospital"
   ]
  },
  {
   "cell_type": "code",
   "execution_count": null,
   "metadata": {},
   "outputs": [],
   "source": [
    "# TODO "
   ]
  },
  {
   "cell_type": "markdown",
   "metadata": {},
   "source": [
    "Forma de pagamento dos atendimentos"
   ]
  },
  {
   "cell_type": "code",
   "execution_count": null,
   "metadata": {},
   "outputs": [],
   "source": [
    "plt.figure(figsize=(10,6))\n",
    "ax = sns.countplot(x=\"INSURANCE\", data=admissions_df, order=['Private', 'Self Pay', 'Medicare', 'Medicaid', 'Government'])\n",
    "\n",
    "ax2=ax.twinx()\n",
    "ax2.yaxis.tick_left()\n",
    "ax.yaxis.tick_right()\n",
    "ax.yaxis.set_label_position('right')\n",
    "ax2.yaxis.set_label_position('left')\n",
    "\n",
    "plt.title('Formas de Pagamento dos Atendimentos')\n",
    "ax2.set_ylabel('Percentual [%]')\n",
    "ax.set_xlabel('Tipo de Pagamento')\n",
    "\n",
    "\n",
    "for p in ax.patches:\n",
    "    x=p.get_bbox().get_points()[:,0]\n",
    "    y=p.get_bbox().get_points()[1,1]\n",
    "    ax.annotate('{:.1f}%'.format(100.*y/tam_admissions), (x.mean(), y), \n",
    "            ha='center', va='bottom')\n",
    "\n",
    "ax2.set_ylim(0, 100)\n",
    "ax.set_ylim(0, tam_admissions)"
   ]
  },
  {
   "cell_type": "markdown",
   "metadata": {},
   "source": [
    "### Informações Demográficas"
   ]
  },
  {
   "cell_type": "code",
   "execution_count": null,
   "metadata": {},
   "outputs": [],
   "source": [
    "patients_last_adm = pd.read_csv('C:\\csvMimic\\\\pacientes-ultimo-atendimento.csv')\n",
    "patients_last_adm.head()\n",
    "patients_last_adm.shape"
   ]
  },
  {
   "cell_type": "code",
   "execution_count": null,
   "metadata": {},
   "outputs": [],
   "source": [
    "patients_last_adm.columns"
   ]
  },
  {
   "cell_type": "markdown",
   "metadata": {},
   "source": [
    "Estado Civil"
   ]
  },
  {
   "cell_type": "code",
   "execution_count": null,
   "metadata": {},
   "outputs": [],
   "source": [
    "tam_last_patients = patients_last_adm.shape[0]\n",
    "plt.figure(figsize=(12,6))\n",
    "ax = sns.countplot(x=\"marital_status\", data=patients_last_adm)\n",
    "\n",
    "ax2=ax.twinx()\n",
    "ax2.yaxis.tick_left()\n",
    "ax.yaxis.tick_right()\n",
    "ax.yaxis.set_label_position('right')\n",
    "ax2.yaxis.set_label_position('left')\n",
    "\n",
    "plt.title('Estado civil')\n",
    "ax.set_xlabel('Tipos')\n",
    "ax2.set_ylabel('Percentual [%]')\n",
    "\n",
    "for p in ax.patches:\n",
    "    x=p.get_bbox().get_points()[:,0]\n",
    "    y=p.get_bbox().get_points()[1,1]\n",
    "    ax.annotate('{:.1f}%'.format(100.*y/tam_last_patients), (x.mean(), y), \n",
    "            ha='center', va='bottom')\n",
    "\n",
    "ax2.set_ylim(0, 100)\n",
    "ax.set_ylim(0, tam_last_patients)"
   ]
  },
  {
   "cell_type": "markdown",
   "metadata": {},
   "source": [
    "Grupo Étnico"
   ]
  },
  {
   "cell_type": "code",
   "execution_count": null,
   "metadata": {},
   "outputs": [],
   "source": [
    "print('Quantidade de grupos étnicos: ', patients_last_adm['ethnicity'].unique().shape[0])\n",
    "patients_last_adm['ethnicity'].value_counts()"
   ]
  },
  {
   "cell_type": "code",
   "execution_count": null,
   "metadata": {},
   "outputs": [],
   "source": [
    "plt.figure(figsize=(20,6))\n",
    "ax = sns.countplot(x=\"ethnicity\", data=patients_last_adm, order=patients_last_adm.ethnicity.value_counts().iloc[:5].index)\n",
    "\n",
    "ax2=ax.twinx()\n",
    "ax2.yaxis.tick_left()\n",
    "ax.yaxis.tick_right()\n",
    "ax.yaxis.set_label_position('right')\n",
    "ax2.yaxis.set_label_position('left')\n",
    "\n",
    "plt.title('Os 5 grupos étnicos mais atendidos')\n",
    "ax.set_xlabel('Grupo')\n",
    "ax2.set_ylabel('Percentual [%]')\n",
    "\n",
    "for p in ax.patches:\n",
    "    x=p.get_bbox().get_points()[:,0]\n",
    "    y=p.get_bbox().get_points()[1,1]\n",
    "    ax.annotate('{:.1f}%'.format(100.*y/tam_last_patients), (x.mean(), y), \n",
    "            ha='center', va='bottom')\n",
    "\n",
    "ax2.set_ylim(0, 100)\n",
    "ax.set_ylim(0, tam_last_patients)"
   ]
  },
  {
   "cell_type": "markdown",
   "metadata": {},
   "source": [
    "Idioma"
   ]
  },
  {
   "cell_type": "code",
   "execution_count": null,
   "metadata": {},
   "outputs": [],
   "source": [
    "print('Quantidade de idiomas: ', patients_last_adm['language_p'].unique().shape[0])\n",
    "patients_last_adm['language_p'].value_counts()"
   ]
  },
  {
   "cell_type": "code",
   "execution_count": null,
   "metadata": {},
   "outputs": [],
   "source": [
    "plt.figure(figsize=(20,6))\n",
    "ax = sns.countplot(x=\"language_p\", data=patients_last_adm, order=patients_last_adm.language_p.value_counts().iloc[:5].index)\n",
    "\n",
    "ax2=ax.twinx()\n",
    "ax2.yaxis.tick_left()\n",
    "ax.yaxis.tick_right()\n",
    "ax.yaxis.set_label_position('right')\n",
    "ax2.yaxis.set_label_position('left')\n",
    "\n",
    "plt.title('5 idiomas mais frequentes')\n",
    "ax.set_xlabel('Idioma')\n",
    "ax2.set_ylabel('Percentual [%]')\n",
    "\n",
    "for p in ax.patches:\n",
    "    x=p.get_bbox().get_points()[:,0]\n",
    "    y=p.get_bbox().get_points()[1,1]\n",
    "    ax.annotate('{:.1f}%'.format(100.*y/tam_last_patients), (x.mean(), y), \n",
    "            ha='center', va='bottom')\n",
    "\n",
    "ax2.set_ylim(0, 100)\n",
    "ax.set_ylim(0, tam_last_patients)"
   ]
  },
  {
   "cell_type": "markdown",
   "metadata": {},
   "source": [
    "Religião"
   ]
  },
  {
   "cell_type": "code",
   "execution_count": null,
   "metadata": {},
   "outputs": [],
   "source": [
    "print('Quantidade de religiões: ', patients_last_adm['religion'].unique().shape[0])\n",
    "patients_last_adm['religion'].value_counts()"
   ]
  },
  {
   "cell_type": "code",
   "execution_count": null,
   "metadata": {},
   "outputs": [],
   "source": [
    "plt.figure(figsize=(20,6))\n",
    "ax = sns.countplot(x=\"religion\", data=patients_last_adm, order=patients_last_adm.religion.value_counts().iloc[:5].index)\n",
    "\n",
    "ax2=ax.twinx()\n",
    "ax2.yaxis.tick_left()\n",
    "ax.yaxis.tick_right()\n",
    "ax.yaxis.set_label_position('right')\n",
    "ax2.yaxis.set_label_position('left')\n",
    "\n",
    "plt.title('5 religiões mais frequentes')\n",
    "ax.set_xlabel('Religião')\n",
    "ax2.set_ylabel('Percentual [%]')\n",
    "\n",
    "for p in ax.patches:\n",
    "    x=p.get_bbox().get_points()[:,0]\n",
    "    y=p.get_bbox().get_points()[1,1]\n",
    "    ax.annotate('{:.1f}%'.format(100.*y/tam_last_patients), (x.mean(), y), \n",
    "            ha='center', va='bottom')\n",
    "\n",
    "ax2.set_ylim(0, 100)\n",
    "ax.set_ylim(0, tam_last_patients)"
   ]
  },
  {
   "cell_type": "markdown",
   "metadata": {},
   "source": [
    "Primeiros questionamentos:\n",
    "\n",
    "Quantos pacientes diferentes temos na base do MIMIC-3?\n",
    "Qual a taxa de recuperação destes pacientes?\n",
    "Como é essa população de pacientes? Gênero, idade, renda, ocupação.\n",
    "Qual doença gera mais internações?\n",
    "Qual doença gera mais internações reincidentes?\n",
    "Quais os maiores motivos de entrada na emergência?\n",
    "Quais doenças geram mais mortes?"
   ]
  }
 ],
 "metadata": {
  "interpreter": {
   "hash": "169b6ee8e3100b5b32a88ea59892543d065676e55e0677bf7eaee743feb61203"
  },
  "kernelspec": {
   "display_name": "Python 3.10.0 64-bit",
   "language": "python",
   "name": "python3"
  },
  "language_info": {
   "codemirror_mode": {
    "name": "ipython",
    "version": 3
   },
   "file_extension": ".py",
   "mimetype": "text/x-python",
   "name": "python",
   "nbconvert_exporter": "python",
   "pygments_lexer": "ipython3",
   "version": "3.10.0"
  },
  "orig_nbformat": 4
 },
 "nbformat": 4,
 "nbformat_minor": 2
}
