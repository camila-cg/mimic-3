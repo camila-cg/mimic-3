{
 "cells": [
  {
   "cell_type": "markdown",
   "metadata": {},
   "source": [
    "# Análise Exploratória dos Dados da Base MIMIC-III"
   ]
  },
  {
   "cell_type": "markdown",
   "metadata": {},
   "source": [
    "O MIMIC (Medical Information Mart for Intensive Care) é um grande banco de dados disponível gratuitamente que inclui dados relacionados à saúde não identificados de pacientes que foram admitidos nas unidades de cuidados intensivos do Beth Israel Deaconess Medical Center.\n",
    "\n",
    "O MIMIC é composto por dados coletados de dois sistemas de informações clínicas diferentes: CareVue e MetaVision.\n",
    "\n",
    "Nesta versão da base MIMIC temos atendimentos efetuados de **01/06/2001** a **10/10/2012**.\n",
    "\n",
    "Número de atendimentos: **58.976**\n",
    "\n",
    "Número de pacientes atendidos: **46.520**"
   ]
  },
  {
   "cell_type": "markdown",
   "metadata": {},
   "source": [
    "## Objetivo\n",
    "Entender como são os elementos desta base para aproveitar esta oportunidade concedida pela disciplina de iniciar o estudo de caso da minha dissertação com uma base de dados médicos reais e utilizada em diversos trabalhos de pesquisa."
   ]
  },
  {
   "cell_type": "markdown",
   "metadata": {},
   "source": [
    "## Análise"
   ]
  },
  {
   "cell_type": "markdown",
   "metadata": {},
   "source": [
    "Imports das bibliotecas"
   ]
  },
  {
   "cell_type": "code",
   "execution_count": 722,
   "metadata": {},
   "outputs": [],
   "source": [
    "import pandas as pd\n",
    "# from matplotlib import pyplot as plt\n",
    "import seaborn as sns\n",
    "import matplotlib.pyplot as plt\n",
    "import numpy as np\n",
    "import matplotlib.ticker as ticker"
   ]
  },
  {
   "cell_type": "markdown",
   "metadata": {},
   "source": [
    "### Pacientes"
   ]
  },
  {
   "cell_type": "markdown",
   "metadata": {},
   "source": [
    "Número de pacientes"
   ]
  },
  {
   "cell_type": "code",
   "execution_count": 723,
   "metadata": {},
   "outputs": [
    {
     "data": {
      "text/plain": [
       "46520"
      ]
     },
     "execution_count": 723,
     "metadata": {},
     "output_type": "execute_result"
    }
   ],
   "source": [
    "patients_df = pd.read_csv('C:\\csvMimic\\\\v1_4\\PATIENTS.csv', usecols=['SUBJECT_ID', 'GENDER', 'DOB', 'EXPIRE_FLAG'])\n",
    "tam_patients  = patients_df.shape[0]\n",
    "tam_patients"
   ]
  },
  {
   "cell_type": "markdown",
   "metadata": {},
   "source": [
    "Número de pacientes por gênero"
   ]
  },
  {
   "cell_type": "code",
   "execution_count": 724,
   "metadata": {},
   "outputs": [
    {
     "name": "stdout",
     "output_type": "stream",
     "text": [
      "F    20399\n",
      "M    26121\n",
      "Name: GENDER, dtype: int64\n"
     ]
    },
    {
     "data": {
      "image/png": "[encoded data removed]",
      "text/plain": [
       "<Figure size 432x288 with 1 Axes>"
      ]
     },
     "metadata": {},
     "output_type": "display_data"
    }
   ],
   "source": [
    "print(patients_df['GENDER'].value_counts(ascending=True, normalize=False))\n",
    "plt.pie(patients_df['GENDER'].value_counts(ascending=True), labels = ['Mulheres', 'Homens'], autopct='%.0f%%', textprops={'fontsize': 12, 'color': 'white', 'style': 'oblique', 'weight': 'bold'})\n",
    "plt.show()"
   ]
  },
  {
   "cell_type": "markdown",
   "metadata": {},
   "source": [
    "Temos que a quantidade de homens e mulheres é próxima, sem grande disparidade."
   ]
  },
  {
   "cell_type": "markdown",
   "metadata": {},
   "source": [
    "Qual a taxa de sobrevivência destes pacientes?"
   ]
  },
  {
   "cell_type": "code",
   "execution_count": 725,
   "metadata": {},
   "outputs": [
    {
     "data": {
      "text/html": [
       "<div>\n",
       "<style scoped>\n",
       "    .dataframe tbody tr th:only-of-type {\n",
       "        vertical-align: middle;\n",
       "    }\n",
       "\n",
       "    .dataframe tbody tr th {\n",
       "        vertical-align: top;\n",
       "    }\n",
       "\n",
       "    .dataframe thead th {\n",
       "        text-align: right;\n",
       "    }\n",
       "</style>\n",
       "<table border=\"1\" class=\"dataframe\">\n",
       "  <thead>\n",
       "    <tr style=\"text-align: right;\">\n",
       "      <th></th>\n",
       "      <th>morreu</th>\n",
       "      <th>total</th>\n",
       "      <th>percentual</th>\n",
       "    </tr>\n",
       "  </thead>\n",
       "  <tbody>\n",
       "    <tr>\n",
       "      <th>0</th>\n",
       "      <td>sim</td>\n",
       "      <td>15759</td>\n",
       "      <td>33.88</td>\n",
       "    </tr>\n",
       "    <tr>\n",
       "      <th>1</th>\n",
       "      <td>não</td>\n",
       "      <td>30761</td>\n",
       "      <td>66.12</td>\n",
       "    </tr>\n",
       "  </tbody>\n",
       "</table>\n",
       "</div>"
      ],
      "text/plain": [
       "  morreu  total  percentual\n",
       "0    sim  15759       33.88\n",
       "1    não  30761       66.12"
      ]
     },
     "execution_count": 725,
     "metadata": {},
     "output_type": "execute_result"
    }
   ],
   "source": [
    "survival_total = pd.DataFrame(data=patients_df['EXPIRE_FLAG'].value_counts(ascending=True).reset_index(name='total'))\n",
    "survival_total['percentual'] = (survival_total['total'] / tam_patients * 100).round(2)\n",
    "survival_total.rename(columns={'index': 'morreu'}, inplace=True)\n",
    "survival_total.loc[survival_total['morreu'] == 0, 'morreu'] = 'não'\n",
    "survival_total.loc[survival_total['morreu'] == 1, 'morreu'] = 'sim'\n",
    "survival_total"
   ]
  },
  {
   "cell_type": "code",
   "execution_count": 726,
   "metadata": {},
   "outputs": [
    {
     "data": {
      "text/html": [
       "<div>\n",
       "<style scoped>\n",
       "    .dataframe tbody tr th:only-of-type {\n",
       "        vertical-align: middle;\n",
       "    }\n",
       "\n",
       "    .dataframe tbody tr th {\n",
       "        vertical-align: top;\n",
       "    }\n",
       "\n",
       "    .dataframe thead th {\n",
       "        text-align: right;\n",
       "    }\n",
       "</style>\n",
       "<table border=\"1\" class=\"dataframe\">\n",
       "  <thead>\n",
       "    <tr style=\"text-align: right;\">\n",
       "      <th></th>\n",
       "      <th>morreu</th>\n",
       "      <th>gênero</th>\n",
       "      <th>total</th>\n",
       "      <th>percentual</th>\n",
       "    </tr>\n",
       "  </thead>\n",
       "  <tbody>\n",
       "    <tr>\n",
       "      <th>0</th>\n",
       "      <td>não</td>\n",
       "      <td>M</td>\n",
       "      <td>17597</td>\n",
       "      <td>37.83</td>\n",
       "    </tr>\n",
       "    <tr>\n",
       "      <th>1</th>\n",
       "      <td>não</td>\n",
       "      <td>F</td>\n",
       "      <td>13164</td>\n",
       "      <td>28.30</td>\n",
       "    </tr>\n",
       "    <tr>\n",
       "      <th>2</th>\n",
       "      <td>sim</td>\n",
       "      <td>M</td>\n",
       "      <td>8524</td>\n",
       "      <td>18.32</td>\n",
       "    </tr>\n",
       "    <tr>\n",
       "      <th>3</th>\n",
       "      <td>sim</td>\n",
       "      <td>F</td>\n",
       "      <td>7235</td>\n",
       "      <td>15.55</td>\n",
       "    </tr>\n",
       "  </tbody>\n",
       "</table>\n",
       "</div>"
      ],
      "text/plain": [
       "  morreu gênero  total  percentual\n",
       "0    não      M  17597       37.83\n",
       "1    não      F  13164       28.30\n",
       "2    sim      M   8524       18.32\n",
       "3    sim      F   7235       15.55"
      ]
     },
     "execution_count": 726,
     "metadata": {},
     "output_type": "execute_result"
    }
   ],
   "source": [
    "survival_total_by_gender = patients_df.groupby('EXPIRE_FLAG')['GENDER'].value_counts().reset_index(name='total')\n",
    "survival_total_by_gender['percentual'] = (survival_total_by_gender['total'] / tam_patients * 100).round(2)\n",
    "gs_df = pd.DataFrame(data=survival_total_by_gender)\n",
    "gs_df.rename(columns={'EXPIRE_FLAG': 'morreu', 'GENDER': 'gênero'}, inplace=True)\n",
    "gs_df.loc[gs_df['morreu'] == 0, 'morreu'] = 'não'\n",
    "gs_df.loc[gs_df['morreu'] == 1, 'morreu'] = 'sim'\n",
    "gs_df"
   ]
  },
  {
   "cell_type": "code",
   "execution_count": 727,
   "metadata": {},
   "outputs": [
    {
     "data": {
      "text/plain": [
       "<seaborn.axisgrid.FacetGrid at 0x1734e889d80>"
      ]
     },
     "execution_count": 727,
     "metadata": {},
     "output_type": "execute_result"
    },
    {
     "data": {
      "image/png": "[encoded data removed]",
      "text/plain": [
       "<Figure size 404.625x360 with 1 Axes>"
      ]
     },
     "metadata": {
      "needs_background": "light"
     },
     "output_type": "display_data"
    }
   ],
   "source": [
    "ax = sns.catplot(data=gs_df, x='morreu', y='percentual', kind='bar', hue='gênero')\n",
    "ax.set(title =\"Mortalidade por Gênero\", xlabel='Morreu', ylim=(0,100))\n",
    "ax"
   ]
  },
  {
   "cell_type": "code",
   "execution_count": 728,
   "metadata": {},
   "outputs": [
    {
     "data": {
      "text/plain": [
       "<AxesSubplot:title={'center':'Mortalidade por Gênero'}, xlabel='Mortalidade'>"
      ]
     },
     "execution_count": 728,
     "metadata": {},
     "output_type": "execute_result"
    },
    {
     "data": {
      "image/png": "[encoded data removed]",
      "text/plain": [
       "<Figure size 432x288 with 1 Axes>"
      ]
     },
     "metadata": {
      "needs_background": "light"
     },
     "output_type": "display_data"
    }
   ],
   "source": [
    "ax = sns.countplot(x=\"EXPIRE_FLAG\", data=patients_df, hue='GENDER')\n",
    "legend_labels, _= ax.get_legend_handles_labels()\n",
    "ax.legend(legend_labels, ['Feminino', 'Masculino'], bbox_to_anchor=(1,1), title='Gênero')\n",
    "ax.set_xlabel(\"Mortalidade\")\n",
    "ax.set_title(\"Mortalidade por Gênero\")\n",
    "ax.set_ylabel(None)\n",
    "ax"
   ]
  },
  {
   "cell_type": "markdown",
   "metadata": {},
   "source": [
    "A maioria dos pacientes sobrevive e dentre eles os homens são maioria."
   ]
  },
  {
   "cell_type": "markdown",
   "metadata": {},
   "source": [
    "**Pergunta:** Essas taxas de sobrevivência são confiáveis? Qual a idade destes pacientes?"
   ]
  },
  {
   "cell_type": "markdown",
   "metadata": {},
   "source": [
    "### Atendimentos"
   ]
  },
  {
   "cell_type": "markdown",
   "metadata": {},
   "source": [
    "Número de atendimentos"
   ]
  },
  {
   "cell_type": "code",
   "execution_count": 729,
   "metadata": {},
   "outputs": [
    {
     "data": {
      "text/plain": [
       "58976"
      ]
     },
     "execution_count": 729,
     "metadata": {},
     "output_type": "execute_result"
    }
   ],
   "source": [
    "main_admission_cols = [\n",
    "    'SUBJECT_ID', 'HADM_ID', 'ADMITTIME', 'DISCHTIME', 'DEATHTIME',\n",
    "    'ADMISSION_TYPE', 'ADMISSION_LOCATION', 'DISCHARGE_LOCATION', 'INSURANCE',\n",
    "    'LANGUAGE', 'RELIGION', 'MARITAL_STATUS', 'ETHNICITY', 'EDREGTIME',\n",
    "    'EDOUTTIME', 'DIAGNOSIS', 'HOSPITAL_EXPIRE_FLAG']\n",
    "\n",
    "admissions_df = pd.read_csv('C:\\csvMimic\\\\v1_4\\ADMISSIONS.csv', usecols = main_admission_cols)\n",
    "tam_admissions  = admissions_df.shape[0]\n",
    "tam_admissions"
   ]
  },
  {
   "cell_type": "code",
   "execution_count": 730,
   "metadata": {},
   "outputs": [
    {
     "data": {
      "text/html": [
       "<div>\n",
       "<style scoped>\n",
       "    .dataframe tbody tr th:only-of-type {\n",
       "        vertical-align: middle;\n",
       "    }\n",
       "\n",
       "    .dataframe tbody tr th {\n",
       "        vertical-align: top;\n",
       "    }\n",
       "\n",
       "    .dataframe thead th {\n",
       "        text-align: right;\n",
       "    }\n",
       "</style>\n",
       "<table border=\"1\" class=\"dataframe\">\n",
       "  <thead>\n",
       "    <tr style=\"text-align: right;\">\n",
       "      <th></th>\n",
       "      <th>SUBJECT_ID</th>\n",
       "      <th>HADM_ID</th>\n",
       "      <th>ADMITTIME</th>\n",
       "      <th>DISCHTIME</th>\n",
       "      <th>DEATHTIME</th>\n",
       "      <th>ADMISSION_TYPE</th>\n",
       "      <th>ADMISSION_LOCATION</th>\n",
       "      <th>DISCHARGE_LOCATION</th>\n",
       "      <th>INSURANCE</th>\n",
       "      <th>LANGUAGE</th>\n",
       "      <th>RELIGION</th>\n",
       "      <th>MARITAL_STATUS</th>\n",
       "      <th>ETHNICITY</th>\n",
       "      <th>EDREGTIME</th>\n",
       "      <th>EDOUTTIME</th>\n",
       "      <th>DIAGNOSIS</th>\n",
       "      <th>HOSPITAL_EXPIRE_FLAG</th>\n",
       "    </tr>\n",
       "  </thead>\n",
       "  <tbody>\n",
       "    <tr>\n",
       "      <th>0</th>\n",
       "      <td>22</td>\n",
       "      <td>165315</td>\n",
       "      <td>2196-04-09 12:26:00</td>\n",
       "      <td>2196-04-10 15:54:00</td>\n",
       "      <td>NaN</td>\n",
       "      <td>EMERGENCY</td>\n",
       "      <td>EMERGENCY ROOM ADMIT</td>\n",
       "      <td>DISC-TRAN CANCER/CHLDRN H</td>\n",
       "      <td>Private</td>\n",
       "      <td>NaN</td>\n",
       "      <td>UNOBTAINABLE</td>\n",
       "      <td>MARRIED</td>\n",
       "      <td>WHITE</td>\n",
       "      <td>2196-04-09 10:06:00</td>\n",
       "      <td>2196-04-09 13:24:00</td>\n",
       "      <td>BENZODIAZEPINE OVERDOSE</td>\n",
       "      <td>0</td>\n",
       "    </tr>\n",
       "    <tr>\n",
       "      <th>1</th>\n",
       "      <td>23</td>\n",
       "      <td>152223</td>\n",
       "      <td>2153-09-03 07:15:00</td>\n",
       "      <td>2153-09-08 19:10:00</td>\n",
       "      <td>NaN</td>\n",
       "      <td>ELECTIVE</td>\n",
       "      <td>PHYS REFERRAL/NORMAL DELI</td>\n",
       "      <td>HOME HEALTH CARE</td>\n",
       "      <td>Medicare</td>\n",
       "      <td>NaN</td>\n",
       "      <td>CATHOLIC</td>\n",
       "      <td>MARRIED</td>\n",
       "      <td>WHITE</td>\n",
       "      <td>NaN</td>\n",
       "      <td>NaN</td>\n",
       "      <td>CORONARY ARTERY DISEASE\\CORONARY ARTERY BYPASS...</td>\n",
       "      <td>0</td>\n",
       "    </tr>\n",
       "    <tr>\n",
       "      <th>2</th>\n",
       "      <td>23</td>\n",
       "      <td>124321</td>\n",
       "      <td>2157-10-18 19:34:00</td>\n",
       "      <td>2157-10-25 14:00:00</td>\n",
       "      <td>NaN</td>\n",
       "      <td>EMERGENCY</td>\n",
       "      <td>TRANSFER FROM HOSP/EXTRAM</td>\n",
       "      <td>HOME HEALTH CARE</td>\n",
       "      <td>Medicare</td>\n",
       "      <td>ENGL</td>\n",
       "      <td>CATHOLIC</td>\n",
       "      <td>MARRIED</td>\n",
       "      <td>WHITE</td>\n",
       "      <td>NaN</td>\n",
       "      <td>NaN</td>\n",
       "      <td>BRAIN MASS</td>\n",
       "      <td>0</td>\n",
       "    </tr>\n",
       "    <tr>\n",
       "      <th>3</th>\n",
       "      <td>24</td>\n",
       "      <td>161859</td>\n",
       "      <td>2139-06-06 16:14:00</td>\n",
       "      <td>2139-06-09 12:48:00</td>\n",
       "      <td>NaN</td>\n",
       "      <td>EMERGENCY</td>\n",
       "      <td>TRANSFER FROM HOSP/EXTRAM</td>\n",
       "      <td>HOME</td>\n",
       "      <td>Private</td>\n",
       "      <td>NaN</td>\n",
       "      <td>PROTESTANT QUAKER</td>\n",
       "      <td>SINGLE</td>\n",
       "      <td>WHITE</td>\n",
       "      <td>NaN</td>\n",
       "      <td>NaN</td>\n",
       "      <td>INTERIOR MYOCARDIAL INFARCTION</td>\n",
       "      <td>0</td>\n",
       "    </tr>\n",
       "    <tr>\n",
       "      <th>4</th>\n",
       "      <td>25</td>\n",
       "      <td>129635</td>\n",
       "      <td>2160-11-02 02:06:00</td>\n",
       "      <td>2160-11-05 14:55:00</td>\n",
       "      <td>NaN</td>\n",
       "      <td>EMERGENCY</td>\n",
       "      <td>EMERGENCY ROOM ADMIT</td>\n",
       "      <td>HOME</td>\n",
       "      <td>Private</td>\n",
       "      <td>NaN</td>\n",
       "      <td>UNOBTAINABLE</td>\n",
       "      <td>MARRIED</td>\n",
       "      <td>WHITE</td>\n",
       "      <td>2160-11-02 01:01:00</td>\n",
       "      <td>2160-11-02 04:27:00</td>\n",
       "      <td>ACUTE CORONARY SYNDROME</td>\n",
       "      <td>0</td>\n",
       "    </tr>\n",
       "  </tbody>\n",
       "</table>\n",
       "</div>"
      ],
      "text/plain": [
       "   SUBJECT_ID  HADM_ID            ADMITTIME            DISCHTIME DEATHTIME  \\\n",
       "0          22   165315  2196-04-09 12:26:00  2196-04-10 15:54:00       NaN   \n",
       "1          23   152223  2153-09-03 07:15:00  2153-09-08 19:10:00       NaN   \n",
       "2          23   124321  2157-10-18 19:34:00  2157-10-25 14:00:00       NaN   \n",
       "3          24   161859  2139-06-06 16:14:00  2139-06-09 12:48:00       NaN   \n",
       "4          25   129635  2160-11-02 02:06:00  2160-11-05 14:55:00       NaN   \n",
       "\n",
       "  ADMISSION_TYPE         ADMISSION_LOCATION         DISCHARGE_LOCATION  \\\n",
       "0      EMERGENCY       EMERGENCY ROOM ADMIT  DISC-TRAN CANCER/CHLDRN H   \n",
       "1       ELECTIVE  PHYS REFERRAL/NORMAL DELI           HOME HEALTH CARE   \n",
       "2      EMERGENCY  TRANSFER FROM HOSP/EXTRAM           HOME HEALTH CARE   \n",
       "3      EMERGENCY  TRANSFER FROM HOSP/EXTRAM                       HOME   \n",
       "4      EMERGENCY       EMERGENCY ROOM ADMIT                       HOME   \n",
       "\n",
       "  INSURANCE LANGUAGE           RELIGION MARITAL_STATUS ETHNICITY  \\\n",
       "0   Private      NaN       UNOBTAINABLE        MARRIED     WHITE   \n",
       "1  Medicare      NaN           CATHOLIC        MARRIED     WHITE   \n",
       "2  Medicare     ENGL           CATHOLIC        MARRIED     WHITE   \n",
       "3   Private      NaN  PROTESTANT QUAKER         SINGLE     WHITE   \n",
       "4   Private      NaN       UNOBTAINABLE        MARRIED     WHITE   \n",
       "\n",
       "             EDREGTIME            EDOUTTIME  \\\n",
       "0  2196-04-09 10:06:00  2196-04-09 13:24:00   \n",
       "1                  NaN                  NaN   \n",
       "2                  NaN                  NaN   \n",
       "3                  NaN                  NaN   \n",
       "4  2160-11-02 01:01:00  2160-11-02 04:27:00   \n",
       "\n",
       "                                           DIAGNOSIS  HOSPITAL_EXPIRE_FLAG  \n",
       "0                            BENZODIAZEPINE OVERDOSE                     0  \n",
       "1  CORONARY ARTERY DISEASE\\CORONARY ARTERY BYPASS...                     0  \n",
       "2                                         BRAIN MASS                     0  \n",
       "3                     INTERIOR MYOCARDIAL INFARCTION                     0  \n",
       "4                            ACUTE CORONARY SYNDROME                     0  "
      ]
     },
     "execution_count": 730,
     "metadata": {},
     "output_type": "execute_result"
    }
   ],
   "source": [
    "admissions_df.head()"
   ]
  },
  {
   "cell_type": "markdown",
   "metadata": {},
   "source": [
    "Tipos de Atendimento"
   ]
  },
  {
   "cell_type": "markdown",
   "metadata": {},
   "source": [
    "Temos na base 4 tipos possíveis de tipos de atendimento. São eles:\n",
    "- emergency: Atendimentos não planejados\n",
    "- urgent: Atendimentos não planejados\n",
    "- elective: Atendimentos planejados\n",
    "- newborn: Nascimentos\n",
    "\n",
    "Os mantenedores do MIMIC-III indicam que as categorias *emergency* e *urgent* podem ser agrupadas, por terem a mesma natureza."
   ]
  },
  {
   "cell_type": "code",
   "execution_count": 731,
   "metadata": {},
   "outputs": [
    {
     "data": {
      "text/plain": [
       "(0.0, 58976.0)"
      ]
     },
     "execution_count": 731,
     "metadata": {},
     "output_type": "execute_result"
    },
    {
     "data": {
      "image/png": "[encoded data removed]",
      "text/plain": [
       "<Figure size 720x432 with 2 Axes>"
      ]
     },
     "metadata": {
      "needs_background": "light"
     },
     "output_type": "display_data"
    }
   ],
   "source": [
    "plt.figure(figsize=(10,6))\n",
    "ax = sns.countplot(x=\"ADMISSION_TYPE\", data=admissions_df, order=['EMERGENCY', 'URGENT', 'ELECTIVE', 'NEWBORN'])\n",
    "plt.title('Distribuição de Tipos de Atendimento')\n",
    "plt.xlabel('Tipo de atendimento')\n",
    "\n",
    "# Make twin axis\n",
    "ax2=ax.twinx()\n",
    "\n",
    "# Switch so count axis is on right, frequency on left\n",
    "ax2.yaxis.tick_left()\n",
    "ax.yaxis.tick_right()\n",
    "\n",
    "# Also switch the labels over\n",
    "ax.yaxis.set_label_position('right')\n",
    "ax2.yaxis.set_label_position('left')\n",
    "\n",
    "ax2.set_ylabel('Percentual [%]')\n",
    "\n",
    "for p in ax.patches:\n",
    "    x=p.get_bbox().get_points()[:,0]\n",
    "    y=p.get_bbox().get_points()[1,1]\n",
    "    ax.annotate('{:.1f}%'.format(100.*y/tam_admissions), (x.mean(), y), \n",
    "            ha='center', va='bottom') # set the alignment of the text\n",
    "\n",
    "# Use a LinearLocator to ensure the correct number of ticks\n",
    "# ax.yaxis.set_major_locator(ticker.LinearLocator(11))\n",
    "\n",
    "# Fix the frequency range to 0-100\n",
    "ax2.set_ylim(0, 100)\n",
    "ax.set_ylim(0, tam_admissions)\n",
    "\n",
    "# And use a MultipleLocator to ensure a tick spacing of 10\n",
    "# ax2.yaxis.set_major_locator(ticker.MultipleLocator(10))\n",
    "\n",
    "# Need to turn the grid on ax2 off, otherwise the gridlines end up on top of the bars\n",
    "# ax2.grid(None)"
   ]
  },
  {
   "cell_type": "markdown",
   "metadata": {},
   "source": [
    "Distribuição dos pacientes por idade"
   ]
  },
  {
   "cell_type": "markdown",
   "metadata": {},
   "source": [
    "Os pacientes foram divididos em 3 grupos etários:\n",
    "- Com idade de 0 a 1 ano : *neonate*\n",
    "- Com idade acima entre 14 e 89 anos: *adult*\n",
    "- Acima de 89 anos: *>89*\n",
    "\n",
    "Observação: Não foram realizados atendimentos em indivíduos entre 2 e 13 anos, por isso estas idades não são contempladas por nenhuma faixa.\n",
    "\n",
    "Todas as datas na base incluindo a data de nascimento dos pacientes foi alterada para datas randômicas (no passado e no futuro) para resguardar a privacidade das pessoas envolvidas. Para se obter a idade foi efetuado o cálculo via query SQL da diferença entre a data de nascimento e a data do primeiro atendimento do paciente."
   ]
  },
  {
   "cell_type": "code",
   "execution_count": 732,
   "metadata": {},
   "outputs": [
    {
     "data": {
      "text/html": [
       "<div>\n",
       "<style scoped>\n",
       "    .dataframe tbody tr th:only-of-type {\n",
       "        vertical-align: middle;\n",
       "    }\n",
       "\n",
       "    .dataframe tbody tr th {\n",
       "        vertical-align: top;\n",
       "    }\n",
       "\n",
       "    .dataframe thead th {\n",
       "        text-align: right;\n",
       "    }\n",
       "</style>\n",
       "<table border=\"1\" class=\"dataframe\">\n",
       "  <thead>\n",
       "    <tr style=\"text-align: right;\">\n",
       "      <th></th>\n",
       "      <th>subject_id</th>\n",
       "      <th>dob</th>\n",
       "      <th>gender</th>\n",
       "      <th>first_admittime</th>\n",
       "      <th>first_admit_age</th>\n",
       "      <th>expire_flag</th>\n",
       "      <th>age_group</th>\n",
       "    </tr>\n",
       "  </thead>\n",
       "  <tbody>\n",
       "    <tr>\n",
       "      <th>0</th>\n",
       "      <td>2</td>\n",
       "      <td>2138-07-17 00:00:00</td>\n",
       "      <td>M</td>\n",
       "      <td>2138-07-17 19:04:00</td>\n",
       "      <td>0.00</td>\n",
       "      <td>0</td>\n",
       "      <td>neonate</td>\n",
       "    </tr>\n",
       "    <tr>\n",
       "      <th>1</th>\n",
       "      <td>3</td>\n",
       "      <td>2025-04-11 00:00:00</td>\n",
       "      <td>M</td>\n",
       "      <td>2101-10-20 19:08:00</td>\n",
       "      <td>76.52</td>\n",
       "      <td>1</td>\n",
       "      <td>adult</td>\n",
       "    </tr>\n",
       "    <tr>\n",
       "      <th>2</th>\n",
       "      <td>4</td>\n",
       "      <td>2143-05-12 00:00:00</td>\n",
       "      <td>F</td>\n",
       "      <td>2191-03-16 00:28:00</td>\n",
       "      <td>47.84</td>\n",
       "      <td>0</td>\n",
       "      <td>adult</td>\n",
       "    </tr>\n",
       "    <tr>\n",
       "      <th>3</th>\n",
       "      <td>5</td>\n",
       "      <td>2103-02-02 00:00:00</td>\n",
       "      <td>M</td>\n",
       "      <td>2103-02-02 04:31:00</td>\n",
       "      <td>0.00</td>\n",
       "      <td>0</td>\n",
       "      <td>neonate</td>\n",
       "    </tr>\n",
       "    <tr>\n",
       "      <th>4</th>\n",
       "      <td>6</td>\n",
       "      <td>2109-06-21 00:00:00</td>\n",
       "      <td>F</td>\n",
       "      <td>2175-05-30 07:15:00</td>\n",
       "      <td>65.94</td>\n",
       "      <td>0</td>\n",
       "      <td>adult</td>\n",
       "    </tr>\n",
       "  </tbody>\n",
       "</table>\n",
       "</div>"
      ],
      "text/plain": [
       "   subject_id                  dob gender      first_admittime  \\\n",
       "0           2  2138-07-17 00:00:00      M  2138-07-17 19:04:00   \n",
       "1           3  2025-04-11 00:00:00      M  2101-10-20 19:08:00   \n",
       "2           4  2143-05-12 00:00:00      F  2191-03-16 00:28:00   \n",
       "3           5  2103-02-02 00:00:00      M  2103-02-02 04:31:00   \n",
       "4           6  2109-06-21 00:00:00      F  2175-05-30 07:15:00   \n",
       "\n",
       "   first_admit_age  expire_flag age_group  \n",
       "0             0.00            0   neonate  \n",
       "1            76.52            1     adult  \n",
       "2            47.84            0     adult  \n",
       "3             0.00            0   neonate  \n",
       "4            65.94            0     adult  "
      ]
     },
     "execution_count": 732,
     "metadata": {},
     "output_type": "execute_result"
    }
   ],
   "source": [
    "patients_by_age = pd.read_csv('C:\\csvMimic\\\\pacientes-por-idades-2.csv')\n",
    "patients_by_age.head()"
   ]
  },
  {
   "cell_type": "markdown",
   "metadata": {},
   "source": [
    "Verificando as estatísticas do atributo idade"
   ]
  },
  {
   "cell_type": "code",
   "execution_count": 733,
   "metadata": {},
   "outputs": [
    {
     "data": {
      "text/plain": [
       "count    46520.000000\n",
       "mean        61.878247\n",
       "std         57.456175\n",
       "min          0.000000\n",
       "25%         38.530000\n",
       "50%         60.490000\n",
       "75%         75.510000\n",
       "max        300.000000\n",
       "Name: first_admit_age, dtype: float64"
      ]
     },
     "execution_count": 733,
     "metadata": {},
     "output_type": "execute_result"
    }
   ],
   "source": [
    "patients_by_age['first_admit_age'].describe()"
   ]
  },
  {
   "cell_type": "markdown",
   "metadata": {},
   "source": [
    "Os pacientes com idade superior a 89 anos tiveram a idade alterada para 300 na base do MIMIC-III. No site da base é informado que estes pacientes que tiveram a sua idade alterada para 300 anos tinham média de idade de 91.4. Portanto, calculando a média de idade dos demais pacientes de forma apartada é possível chegarmos à real média de idade dos pacientes atendidos."
   ]
  },
  {
   "cell_type": "code",
   "execution_count": 734,
   "metadata": {},
   "outputs": [
    {
     "name": "stdout",
     "output_type": "stream",
     "text": [
      "Média total da idade dos pacientes: 51.21\n",
      "Média total da idade dos pacientes excluindo recém-nascidos: 76.82\n"
     ]
    }
   ],
   "source": [
    "neonate_df = patients_by_age.query('first_admit_age < 1')\n",
    "adults_df = patients_by_age.query('first_admit_age > 1 and first_admit_age < 90')\n",
    "elderly_df = patients_by_age.query('first_admit_age == 300')\n",
    "\n",
    "neonate_mean = neonate_df['first_admit_age'].mean()\n",
    "adults_mean = adults_df['first_admit_age'].mean()\n",
    "elderly_mean = 91.4\n",
    "\n",
    "total_mean = ((neonate_mean + adults_mean + elderly_mean)/3).round(2)\n",
    "no_neonate_mean = ((adults_mean + elderly_mean)/2).round(2)\n",
    "print('Média total da idade dos pacientes:', total_mean)\n",
    "print('Média total da idade dos pacientes excluindo recém-nascidos:', no_neonate_mean)"
   ]
  },
  {
   "cell_type": "markdown",
   "metadata": {},
   "source": [
    "Histograma da idade dos pacientes"
   ]
  },
  {
   "cell_type": "code",
   "execution_count": 735,
   "metadata": {},
   "outputs": [
    {
     "data": {
      "text/plain": [
       "<seaborn.axisgrid.FacetGrid at 0x1735162ae30>"
      ]
     },
     "execution_count": 735,
     "metadata": {},
     "output_type": "execute_result"
    },
    {
     "data": {
      "image/png": "[encoded data removed]",
      "text/plain": [
       "<Figure size 864x432 with 1 Axes>"
      ]
     },
     "metadata": {
      "needs_background": "light"
     },
     "output_type": "display_data"
    }
   ],
   "source": [
    "ax = sns.displot(patients_by_age.first_admit_age, kde = True)\n",
    "ax.figure.set_size_inches(12,6)\n",
    "ax.set(title =\"Distribuição de Frequências - Idade\", xlabel='Anos')\n",
    "ax"
   ]
  },
  {
   "cell_type": "markdown",
   "metadata": {},
   "source": [
    "Pelo histograma acima a presença de três grupos etários se torna ainda mais evidente. Abaixo, apenas para fins de comprovação, não temos na base pacientes com idade entre 2 e 13 anos."
   ]
  },
  {
   "cell_type": "code",
   "execution_count": 736,
   "metadata": {},
   "outputs": [
    {
     "data": {
      "text/html": [
       "<div>\n",
       "<style scoped>\n",
       "    .dataframe tbody tr th:only-of-type {\n",
       "        vertical-align: middle;\n",
       "    }\n",
       "\n",
       "    .dataframe tbody tr th {\n",
       "        vertical-align: top;\n",
       "    }\n",
       "\n",
       "    .dataframe thead th {\n",
       "        text-align: right;\n",
       "    }\n",
       "</style>\n",
       "<table border=\"1\" class=\"dataframe\">\n",
       "  <thead>\n",
       "    <tr style=\"text-align: right;\">\n",
       "      <th></th>\n",
       "      <th>subject_id</th>\n",
       "      <th>dob</th>\n",
       "      <th>gender</th>\n",
       "      <th>first_admittime</th>\n",
       "      <th>first_admit_age</th>\n",
       "      <th>expire_flag</th>\n",
       "      <th>age_group</th>\n",
       "    </tr>\n",
       "  </thead>\n",
       "  <tbody>\n",
       "  </tbody>\n",
       "</table>\n",
       "</div>"
      ],
      "text/plain": [
       "Empty DataFrame\n",
       "Columns: [subject_id, dob, gender, first_admittime, first_admit_age, expire_flag, age_group]\n",
       "Index: []"
      ]
     },
     "execution_count": 736,
     "metadata": {},
     "output_type": "execute_result"
    }
   ],
   "source": [
    "patients_by_age.query('first_admit_age > 1 and first_admit_age < 14')"
   ]
  },
  {
   "cell_type": "markdown",
   "metadata": {},
   "source": [
    "Distribuição de idade entre os adultos"
   ]
  },
  {
   "cell_type": "code",
   "execution_count": 737,
   "metadata": {},
   "outputs": [
    {
     "data": {
      "text/plain": [
       "<AxesSubplot:title={'center':'Distribuição de Frequências - Idade Adulta'}, xlabel='Anos', ylabel='Count'>"
      ]
     },
     "execution_count": 737,
     "metadata": {},
     "output_type": "execute_result"
    },
    {
     "data": {
      "image/png": "[encoded data removed]",
      "text/plain": [
       "<Figure size 864x432 with 1 Axes>"
      ]
     },
     "metadata": {
      "needs_background": "light"
     },
     "output_type": "display_data"
    }
   ],
   "source": [
    "ax = sns.histplot(data=adults_df, x='first_admit_age', kde = True, hue='gender', multiple=\"stack\")\n",
    "ax.figure.set_size_inches(12,6) \n",
    "ax.set(title =\"Distribuição de Frequências - Idade Adulta\", xlabel='Anos')\n",
    "ax"
   ]
  },
  {
   "cell_type": "code",
   "execution_count": 738,
   "metadata": {},
   "outputs": [
    {
     "data": {
      "text/plain": [
       "<seaborn.axisgrid.FacetGrid at 0x1734d7a81f0>"
      ]
     },
     "execution_count": 738,
     "metadata": {},
     "output_type": "execute_result"
    },
    {
     "data": {
      "image/png": "[encoded data removed]",
      "text/plain": [
       "<Figure size 864x432 with 1 Axes>"
      ]
     },
     "metadata": {
      "needs_background": "light"
     },
     "output_type": "display_data"
    }
   ],
   "source": [
    "ax = sns.displot(adults_df.first_admit_age, kde = True)\n",
    "ax.figure.set_size_inches(12,6) \n",
    "ax.set(title =\"Distribuição de Frequências - Idade Adulta\", xlabel='Anos')\n",
    "ax"
   ]
  },
  {
   "cell_type": "code",
   "execution_count": 739,
   "metadata": {},
   "outputs": [
    {
     "data": {
      "text/plain": [
       "<AxesSubplot:title={'center':'Distribuição de Frequências - Idade Adulta'}, xlabel='Anos', ylabel='Density'>"
      ]
     },
     "execution_count": 739,
     "metadata": {},
     "output_type": "execute_result"
    },
    {
     "data": {
      "image/png": "[encoded data removed]",
      "text/plain": [
       "<Figure size 864x432 with 1 Axes>"
      ]
     },
     "metadata": {
      "needs_background": "light"
     },
     "output_type": "display_data"
    }
   ],
   "source": [
    "ax = sns.kdeplot(data=adults_df, x='first_admit_age', hue='gender', multiple=\"stack\")\n",
    "ax.figure.set_size_inches(12,6) \n",
    "ax.set(title =\"Distribuição de Frequências - Idade Adulta\", xlabel='Anos')\n",
    "ax"
   ]
  },
  {
   "cell_type": "code",
   "execution_count": 740,
   "metadata": {},
   "outputs": [
    {
     "data": {
      "text/plain": [
       "<seaborn.axisgrid.FacetGrid at 0x1734f1e4220>"
      ]
     },
     "execution_count": 740,
     "metadata": {},
     "output_type": "execute_result"
    },
    {
     "data": {
      "image/png": "[encoded data removed]",
      "text/plain": [
       "<Figure size 864x432 with 1 Axes>"
      ]
     },
     "metadata": {
      "needs_background": "light"
     },
     "output_type": "display_data"
    }
   ],
   "source": [
    "ax = sns.displot(data=adults_df, x= 'first_admit_age', kde = True, hue='gender', multiple=\"stack\")\n",
    "ax.figure.set_size_inches(12,6) \n",
    "ax.set(title =\"Distribuição de Frequências - Idade Adulta\", xlabel='Anos')\n",
    "ax"
   ]
  },
  {
   "cell_type": "markdown",
   "metadata": {},
   "source": [
    "O intervalo de idades na faixa adulta é muito grande. Vamos plotar um boxplot das idades desta faixa para verificar mais claramente em que intervalo de idades estão concentrados a maior parte dos atendimentos."
   ]
  },
  {
   "cell_type": "code",
   "execution_count": 741,
   "metadata": {},
   "outputs": [
    {
     "data": {
      "text/plain": [
       "<AxesSubplot:title={'center':'Idade - Grupo Adulto'}, xlabel='Anos', ylabel='Sexo'>"
      ]
     },
     "execution_count": 741,
     "metadata": {},
     "output_type": "execute_result"
    },
    {
     "data": {
      "image/png": "[encoded data removed]",
      "text/plain": [
       "<Figure size 576x432 with 1 Axes>"
      ]
     },
     "metadata": {
      "needs_background": "light"
     },
     "output_type": "display_data"
    }
   ],
   "source": [
    "ax = sns.boxplot(x = 'first_admit_age', y='gender', data=adults_df)\n",
    "ax.figure.set_size_inches(8,6)\n",
    "ax.set_title('Idade - Grupo Adulto', fontsize=18)\n",
    "ax.set_xlabel('Anos', fontsize=14)\n",
    "ax.set_ylabel('Sexo', fontsize=14)\n",
    "ax"
   ]
  },
  {
   "cell_type": "markdown",
   "metadata": {},
   "source": [
    "Taxa de mortalidade por grupo etário"
   ]
  },
  {
   "cell_type": "code",
   "execution_count": 742,
   "metadata": {},
   "outputs": [
    {
     "data": {
      "text/html": [
       "<div>\n",
       "<style scoped>\n",
       "    .dataframe tbody tr th:only-of-type {\n",
       "        vertical-align: middle;\n",
       "    }\n",
       "\n",
       "    .dataframe tbody tr th {\n",
       "        vertical-align: top;\n",
       "    }\n",
       "\n",
       "    .dataframe thead th {\n",
       "        text-align: right;\n",
       "    }\n",
       "</style>\n",
       "<table border=\"1\" class=\"dataframe\">\n",
       "  <thead>\n",
       "    <tr style=\"text-align: right;\">\n",
       "      <th></th>\n",
       "      <th>morreu</th>\n",
       "      <th>faixa etária</th>\n",
       "      <th>gênero</th>\n",
       "      <th>total</th>\n",
       "      <th>percentual</th>\n",
       "    </tr>\n",
       "  </thead>\n",
       "  <tbody>\n",
       "    <tr>\n",
       "      <th>0</th>\n",
       "      <td>0</td>\n",
       "      <td>&gt;89</td>\n",
       "      <td>F</td>\n",
       "      <td>356</td>\n",
       "      <td>0.77</td>\n",
       "    </tr>\n",
       "    <tr>\n",
       "      <th>1</th>\n",
       "      <td>0</td>\n",
       "      <td>&gt;89</td>\n",
       "      <td>M</td>\n",
       "      <td>155</td>\n",
       "      <td>0.33</td>\n",
       "    </tr>\n",
       "    <tr>\n",
       "      <th>2</th>\n",
       "      <td>0</td>\n",
       "      <td>adult</td>\n",
       "      <td>M</td>\n",
       "      <td>13235</td>\n",
       "      <td>28.45</td>\n",
       "    </tr>\n",
       "    <tr>\n",
       "      <th>3</th>\n",
       "      <td>0</td>\n",
       "      <td>adult</td>\n",
       "      <td>F</td>\n",
       "      <td>9207</td>\n",
       "      <td>19.79</td>\n",
       "    </tr>\n",
       "    <tr>\n",
       "      <th>4</th>\n",
       "      <td>0</td>\n",
       "      <td>neonate</td>\n",
       "      <td>M</td>\n",
       "      <td>4207</td>\n",
       "      <td>9.04</td>\n",
       "    </tr>\n",
       "    <tr>\n",
       "      <th>5</th>\n",
       "      <td>0</td>\n",
       "      <td>neonate</td>\n",
       "      <td>F</td>\n",
       "      <td>3601</td>\n",
       "      <td>7.74</td>\n",
       "    </tr>\n",
       "    <tr>\n",
       "      <th>6</th>\n",
       "      <td>1</td>\n",
       "      <td>&gt;89</td>\n",
       "      <td>F</td>\n",
       "      <td>938</td>\n",
       "      <td>2.02</td>\n",
       "    </tr>\n",
       "    <tr>\n",
       "      <th>7</th>\n",
       "      <td>1</td>\n",
       "      <td>&gt;89</td>\n",
       "      <td>M</td>\n",
       "      <td>542</td>\n",
       "      <td>1.17</td>\n",
       "    </tr>\n",
       "    <tr>\n",
       "      <th>8</th>\n",
       "      <td>1</td>\n",
       "      <td>adult</td>\n",
       "      <td>M</td>\n",
       "      <td>7944</td>\n",
       "      <td>17.08</td>\n",
       "    </tr>\n",
       "    <tr>\n",
       "      <th>9</th>\n",
       "      <td>1</td>\n",
       "      <td>adult</td>\n",
       "      <td>F</td>\n",
       "      <td>6269</td>\n",
       "      <td>13.48</td>\n",
       "    </tr>\n",
       "    <tr>\n",
       "      <th>10</th>\n",
       "      <td>1</td>\n",
       "      <td>neonate</td>\n",
       "      <td>M</td>\n",
       "      <td>38</td>\n",
       "      <td>0.08</td>\n",
       "    </tr>\n",
       "    <tr>\n",
       "      <th>11</th>\n",
       "      <td>1</td>\n",
       "      <td>neonate</td>\n",
       "      <td>F</td>\n",
       "      <td>28</td>\n",
       "      <td>0.06</td>\n",
       "    </tr>\n",
       "  </tbody>\n",
       "</table>\n",
       "</div>"
      ],
      "text/plain": [
       "    morreu faixa etária gênero  total  percentual\n",
       "0        0          >89      F    356        0.77\n",
       "1        0          >89      M    155        0.33\n",
       "2        0        adult      M  13235       28.45\n",
       "3        0        adult      F   9207       19.79\n",
       "4        0      neonate      M   4207        9.04\n",
       "5        0      neonate      F   3601        7.74\n",
       "6        1          >89      F    938        2.02\n",
       "7        1          >89      M    542        1.17\n",
       "8        1        adult      M   7944       17.08\n",
       "9        1        adult      F   6269       13.48\n",
       "10       1      neonate      M     38        0.08\n",
       "11       1      neonate      F     28        0.06"
      ]
     },
     "execution_count": 742,
     "metadata": {},
     "output_type": "execute_result"
    }
   ],
   "source": [
    "tam = patients_by_age.shape[0]\n",
    "# patients_age_gender_mortality = patients_by_age.groupby(['expire_flag', 'age_group', 'gender'], as_index=False).agg('count')\n",
    "\n",
    "patients_age_gender_mortality = patients_by_age.groupby(['expire_flag', 'age_group'])['gender'].value_counts().reset_index(name='total')\n",
    "patients_age_gender_mortality['percentual'] = (patients_age_gender_mortality['total'] / tam * 100).round(2)\n",
    "patients_age_gender_mortality.rename(columns={'expire_flag': 'morreu', 'gender': 'gênero', 'age_group': 'faixa etária'}, inplace=True)\n",
    "patients_age_gender_mortality"
   ]
  },
  {
   "cell_type": "code",
   "execution_count": 743,
   "metadata": {},
   "outputs": [
    {
     "data": {
      "text/plain": [
       "<seaborn.axisgrid.FacetGrid at 0x17381782710>"
      ]
     },
     "execution_count": 743,
     "metadata": {},
     "output_type": "execute_result"
    },
    {
     "data": {
      "image/png": "[encoded data removed]",
      "text/plain": [
       "<Figure size 692.625x360 with 3 Axes>"
      ]
     },
     "metadata": {
      "needs_background": "light"
     },
     "output_type": "display_data"
    }
   ],
   "source": [
    "ax = sns.catplot(data=patients_age_gender_mortality, x='morreu', y='percentual', kind='bar', hue='gênero', col='faixa etária', aspect=.6, palette=dict(F=\"tomato\", M=\"#3498db\"))\n",
    "ax"
   ]
  },
  {
   "cell_type": "code",
   "execution_count": 744,
   "metadata": {},
   "outputs": [
    {
     "data": {
      "image/png": "[encoded data removed]",
      "text/plain": [
       "<Figure size 432x288 with 1 Axes>"
      ]
     },
     "metadata": {},
     "output_type": "display_data"
    }
   ],
   "source": [
    "labels_mortality = ['Vivos', 'Mortos']\n",
    "plt.pie(adults_df['expire_flag'].value_counts(), autopct='%.0f%%', labels = labels_mortality, textprops={'fontsize': 12, 'color': 'white', 'style': 'oblique', 'weight': 'bold'})\n",
    "plt.title('Taxa de Mortalidade População Adulta', color='white', fontsize=14)\n",
    "plt.show()"
   ]
  },
  {
   "cell_type": "markdown",
   "metadata": {},
   "source": [
    "### Duração dos atendimentos"
   ]
  },
  {
   "cell_type": "markdown",
   "metadata": {},
   "source": [
    "Verificando se temos valores nulos nas datas"
   ]
  },
  {
   "cell_type": "code",
   "execution_count": 745,
   "metadata": {},
   "outputs": [
    {
     "name": "stdout",
     "output_type": "stream",
     "text": [
      "True\n"
     ]
    },
    {
     "data": {
      "text/plain": [
       "['DEATHTIME',\n",
       " 'LANGUAGE',\n",
       " 'RELIGION',\n",
       " 'MARITAL_STATUS',\n",
       " 'EDREGTIME',\n",
       " 'EDOUTTIME',\n",
       " 'DIAGNOSIS']"
      ]
     },
     "execution_count": 745,
     "metadata": {},
     "output_type": "execute_result"
    }
   ],
   "source": [
    "print(admissions_df.isnull().values.any())\n",
    "nan_columns = admissions_df.isna().any()\n",
    "admissions_df.columns[nan_columns].tolist()"
   ]
  },
  {
   "cell_type": "markdown",
   "metadata": {},
   "source": [
    "Dado que não temos dados faltantes, vamos calcular a duração de cada atendimento em dias"
   ]
  },
  {
   "cell_type": "code",
   "execution_count": 746,
   "metadata": {},
   "outputs": [],
   "source": [
    "admissions_df['ADMITTIME'] = pd.to_datetime(admissions_df['ADMITTIME'])\n",
    "admissions_df['DISCHTIME'] = pd.to_datetime(admissions_df['DISCHTIME'])\n",
    "\n",
    "admissions_df['duration'] = (admissions_df['DISCHTIME'] - admissions_df['ADMITTIME']).dt.days"
   ]
  },
  {
   "cell_type": "markdown",
   "metadata": {},
   "source": [
    "Duração média dos atendimentos"
   ]
  },
  {
   "cell_type": "code",
   "execution_count": 747,
   "metadata": {},
   "outputs": [
    {
     "data": {
      "text/plain": [
       "count    58976.000000\n",
       "mean         9.610672\n",
       "std         12.452546\n",
       "min         -1.000000\n",
       "25%          3.000000\n",
       "50%          6.000000\n",
       "75%         11.000000\n",
       "max        294.000000\n",
       "Name: duration, dtype: float64"
      ]
     },
     "execution_count": 747,
     "metadata": {},
     "output_type": "execute_result"
    }
   ],
   "source": [
    "admissions_df.duration.describe()"
   ]
  },
  {
   "cell_type": "code",
   "execution_count": 748,
   "metadata": {},
   "outputs": [
    {
     "data": {
      "text/plain": [
       "<AxesSubplot:title={'center':'Boxplot - Duração de Atendimentos'}, xlabel='Dias'>"
      ]
     },
     "execution_count": 748,
     "metadata": {},
     "output_type": "execute_result"
    },
    {
     "data": {
      "image/png": "[encoded data removed]",
      "text/plain": [
       "<Figure size 576x432 with 1 Axes>"
      ]
     },
     "metadata": {
      "needs_background": "light"
     },
     "output_type": "display_data"
    }
   ],
   "source": [
    "ax = sns.boxplot(x = 'duration', data=admissions_df, orient='h')\n",
    "ax.figure.set_size_inches(8,6)\n",
    "ax.set_title('Boxplot - Duração de Atendimentos', fontsize=18)\n",
    "ax.set_xlabel('Dias', fontsize=14)\n",
    "ax"
   ]
  },
  {
   "cell_type": "code",
   "execution_count": 749,
   "metadata": {},
   "outputs": [
    {
     "data": {
      "text/plain": [
       "<AxesSubplot:title={'center':'Boxplot - Duração de Atendimentos'}, xlabel='Dias', ylabel='Mortalidade'>"
      ]
     },
     "execution_count": 749,
     "metadata": {},
     "output_type": "execute_result"
    },
    {
     "data": {
      "image/png": "[encoded data removed]",
      "text/plain": [
       "<Figure size 576x432 with 1 Axes>"
      ]
     },
     "metadata": {
      "needs_background": "light"
     },
     "output_type": "display_data"
    }
   ],
   "source": [
    "ax = sns.boxplot(x = 'duration', y='HOSPITAL_EXPIRE_FLAG', data=admissions_df, orient='h')\n",
    "ax.figure.set_size_inches(8,6)\n",
    "ax.set_title('Boxplot - Duração de Atendimentos', fontsize=18)\n",
    "ax.set_xlabel('Dias', fontsize=14)\n",
    "ax.set_ylabel('Mortalidade', fontsize=14)\n",
    "ax"
   ]
  },
  {
   "cell_type": "markdown",
   "metadata": {},
   "source": [
    "Duração de atendimento na emergência"
   ]
  },
  {
   "cell_type": "code",
   "execution_count": 750,
   "metadata": {},
   "outputs": [
    {
     "name": "stdout",
     "output_type": "stream",
     "text": [
      "Quantidade de registros original:  58976\n",
      "Quantidade de registros após remoção de atendimentos sem estadia na emergência :  2053\n"
     ]
    }
   ],
   "source": [
    "aux = admissions_df.copy()\n",
    "print(\"Quantidade de registros original: \", aux.shape[0])\n",
    "aux = aux.dropna()\n",
    "print(\"Quantidade de registros após remoção de atendimentos sem estadia na emergência : \", aux.shape[0])"
   ]
  },
  {
   "cell_type": "code",
   "execution_count": 751,
   "metadata": {},
   "outputs": [],
   "source": [
    "aux['EDREGTIME'] = pd.to_datetime(aux['EDREGTIME'])\n",
    "aux['EDOUTTIME'] = pd.to_datetime(aux['EDOUTTIME'])\n",
    "\n",
    "aux['duration_em'] = (aux['EDOUTTIME'] - aux['EDREGTIME']).dt.seconds"
   ]
  },
  {
   "cell_type": "code",
   "execution_count": 752,
   "metadata": {},
   "outputs": [
    {
     "name": "stdout",
     "output_type": "stream",
     "text": [
      "count    2053.000000\n",
      "mean        5.061560\n",
      "std         2.657447\n",
      "min         0.066667\n",
      "25%         3.283333\n",
      "50%         4.600000\n",
      "75%         6.250000\n",
      "max        23.383333\n",
      "Name: duration_em, dtype: float64\n"
     ]
    }
   ],
   "source": [
    "aux['duration_em'] = aux['duration_em'] /3600 # convertendo segundos em horas\n",
    "print(aux.duration_em.describe())"
   ]
  },
  {
   "cell_type": "markdown",
   "metadata": {},
   "source": [
    "## Informações Adicionais"
   ]
  },
  {
   "cell_type": "markdown",
   "metadata": {},
   "source": [
    "Termos usados na descrição do diagnóstico na entrada do hospital"
   ]
  },
  {
   "cell_type": "code",
   "execution_count": null,
   "metadata": {},
   "outputs": [
    {
     "data": {
      "text/plain": [
       "Index(['SUBJECT_ID', 'HADM_ID', 'ADMITTIME', 'DISCHTIME', 'DEATHTIME',\n",
       "       'ADMISSION_TYPE', 'ADMISSION_LOCATION', 'DISCHARGE_LOCATION',\n",
       "       'INSURANCE', 'LANGUAGE', 'RELIGION', 'MARITAL_STATUS', 'ETHNICITY',\n",
       "       'EDREGTIME', 'EDOUTTIME', 'DIAGNOSIS', 'HOSPITAL_EXPIRE_FLAG',\n",
       "       'HAS_CHARTEVENTS_DATA'],\n",
       "      dtype='object')"
      ]
     },
     "execution_count": 566,
     "metadata": {},
     "output_type": "execute_result"
    }
   ],
   "source": [
    "admissions_df.columns"
   ]
  },
  {
   "cell_type": "code",
   "execution_count": null,
   "metadata": {},
   "outputs": [
    {
     "ename": "ModuleNotFoundError",
     "evalue": "No module named 'wordcloud'",
     "output_type": "error",
     "traceback": [
      "\u001b[1;31m---------------------------------------------------------------------------\u001b[0m",
      "\u001b[1;31mModuleNotFoundError\u001b[0m                       Traceback (most recent call last)",
      "Input \u001b[1;32mIn [565]\u001b[0m, in \u001b[0;36m<module>\u001b[1;34m\u001b[0m\n\u001b[0;32m      4\u001b[0m \u001b[38;5;28;01mimport\u001b[39;00m \u001b[38;5;21;01mmatplotlib\u001b[39;00m\u001b[38;5;21;01m.\u001b[39;00m\u001b[38;5;21;01mpyplot\u001b[39;00m \u001b[38;5;28;01mas\u001b[39;00m \u001b[38;5;21;01mplt\u001b[39;00m\n\u001b[0;32m      5\u001b[0m \u001b[38;5;28;01mfrom\u001b[39;00m \u001b[38;5;21;01mPIL\u001b[39;00m \u001b[38;5;28;01mimport\u001b[39;00m Image\n\u001b[1;32m----> 6\u001b[0m \u001b[38;5;28;01mfrom\u001b[39;00m \u001b[38;5;21;01mwordcloud\u001b[39;00m \u001b[38;5;28;01mimport\u001b[39;00m WordCloud, STOPWORDS, ImageColorGenerator\n\u001b[0;32m      8\u001b[0m \u001b[38;5;66;03m# importar o arquivo csv em um df\u001b[39;00m\n\u001b[0;32m      9\u001b[0m df \u001b[38;5;241m=\u001b[39m pd\u001b[38;5;241m.\u001b[39mread_csv(\u001b[38;5;124m\"\u001b[39m\u001b[38;5;124mhttp://dl.dropboxusercontent.com/s/fdzigk974zbx2de/listings.csv?dl=0\u001b[39m\u001b[38;5;124m\"\u001b[39m)\n",
      "\u001b[1;31mModuleNotFoundError\u001b[0m: No module named 'wordcloud'"
     ]
    }
   ],
   "source": [
    "\n",
    "# importar os pacotes necessários\n",
    "import numpy as np\n",
    "import pandas as pd\n",
    "import matplotlib.pyplot as plt\n",
    "from PIL import Image\n",
    "from wordcloud import WordCloud, STOPWORDS, ImageColorGenerator\n",
    " \n",
    "# importar o arquivo csv em um df\n",
    "df = pd.read_csv(\"http://dl.dropboxusercontent.com/s/fdzigk974zbx2de/listings.csv?dl=0\")\n",
    " \n",
    "# eliminar as colunas com valores ausentes\n",
    "summary = df.dropna(subset=['summary'], axis=0)['summary']\n",
    "# exemplos de descrições para os imóveis no Airbnb\n",
    "display(summary.iloc[100])\n",
    "display(summary.iloc[120])\n",
    "display(summary.iloc[133])\n",
    "# exemplos de descrições para os imóveis no Airbnb\n",
    "display(summary.iloc[100])\n",
    "display(summary.iloc[120])\n",
    "display(summary.iloc[133])"
   ]
  },
  {
   "cell_type": "markdown",
   "metadata": {},
   "source": [
    "Forma de pagamento dos atendimentos"
   ]
  },
  {
   "cell_type": "code",
   "execution_count": null,
   "metadata": {},
   "outputs": [
    {
     "data": {
      "text/plain": [
       "(0.0, 58976.0)"
      ]
     },
     "execution_count": 527,
     "metadata": {},
     "output_type": "execute_result"
    },
    {
     "data": {
      "image/png": "[encoded data removed]",
      "text/plain": [
       "<Figure size 720x432 with 2 Axes>"
      ]
     },
     "metadata": {
      "needs_background": "light"
     },
     "output_type": "display_data"
    }
   ],
   "source": [
    "plt.figure(figsize=(10,6))\n",
    "ax = sns.countplot(x=\"INSURANCE\", data=admissions_df, order=['Private', 'Self Pay', 'Medicare', 'Medicaid', 'Government'])\n",
    "\n",
    "ax2=ax.twinx()\n",
    "ax2.yaxis.tick_left()\n",
    "ax.yaxis.tick_right()\n",
    "ax.yaxis.set_label_position('right')\n",
    "ax2.yaxis.set_label_position('left')\n",
    "\n",
    "plt.title('Formas de Pagamento dos Atendimentos')\n",
    "plt.xlabel('Tipo de Pagamento')\n",
    "ax2.set_ylabel('Percentual [%]')\n",
    "\n",
    "for p in ax.patches:\n",
    "    x=p.get_bbox().get_points()[:,0]\n",
    "    y=p.get_bbox().get_points()[1,1]\n",
    "    ax.annotate('{:.1f}%'.format(100.*y/tam_admissions), (x.mean(), y), \n",
    "            ha='center', va='bottom')\n",
    "\n",
    "ax2.set_ylim(0, 100)\n",
    "ax.set_ylim(0, tam_admissions)"
   ]
  },
  {
   "cell_type": "code",
   "execution_count": null,
   "metadata": {},
   "outputs": [
    {
     "data": {
      "text/plain": [
       "array(['WHITE', 'UNKNOWN/NOT SPECIFIED', 'MULTI RACE ETHNICITY',\n",
       "       'BLACK/AFRICAN AMERICAN', 'HISPANIC OR LATINO',\n",
       "       'PATIENT DECLINED TO ANSWER', 'ASIAN', 'OTHER',\n",
       "       'HISPANIC/LATINO - GUATEMALAN', 'ASIAN - VIETNAMESE',\n",
       "       'AMERICAN INDIAN/ALASKA NATIVE', 'WHITE - RUSSIAN',\n",
       "       'HISPANIC/LATINO - PUERTO RICAN', 'ASIAN - CHINESE',\n",
       "       'ASIAN - ASIAN INDIAN', 'BLACK/AFRICAN',\n",
       "       'HISPANIC/LATINO - SALVADORAN', 'HISPANIC/LATINO - DOMINICAN',\n",
       "       'UNABLE TO OBTAIN', 'BLACK/CAPE VERDEAN', 'BLACK/HAITIAN',\n",
       "       'WHITE - OTHER EUROPEAN', 'PORTUGUESE', 'SOUTH AMERICAN',\n",
       "       'WHITE - EASTERN EUROPEAN', 'CARIBBEAN ISLAND', 'ASIAN - FILIPINO',\n",
       "       'ASIAN - CAMBODIAN', 'HISPANIC/LATINO - CENTRAL AMERICAN (OTHER)',\n",
       "       'WHITE - BRAZILIAN', 'ASIAN - KOREAN',\n",
       "       'HISPANIC/LATINO - COLOMBIAN', 'ASIAN - JAPANESE',\n",
       "       'NATIVE HAWAIIAN OR OTHER PACIFIC ISLANDER', 'ASIAN - THAI',\n",
       "       'HISPANIC/LATINO - HONDURAN', 'HISPANIC/LATINO - CUBAN',\n",
       "       'MIDDLE EASTERN', 'ASIAN - OTHER', 'HISPANIC/LATINO - MEXICAN',\n",
       "       'AMERICAN INDIAN/ALASKA NATIVE FEDERALLY RECOGNIZED TRIBE'],\n",
       "      dtype=object)"
      ]
     },
     "execution_count": 242,
     "metadata": {},
     "output_type": "execute_result"
    }
   ],
   "source": [
    "admissions['ETHNICITY'].unique()"
   ]
  },
  {
   "cell_type": "code",
   "execution_count": null,
   "metadata": {},
   "outputs": [
    {
     "data": {
      "text/plain": [
       "array([nan, 'ENGL', 'VIET', 'PORT', 'MAND', 'CANT', 'SPAN', 'RUSS',\n",
       "       'CAPE', '*MAN', 'PTUN', 'HIND', 'ITAL', 'HAIT', 'GREE', 'CAMB',\n",
       "       '*ARM', '*CHI', 'ALBA', '*DEA', 'POLI', 'FREN', 'ARAB', 'AMER',\n",
       "       'LAOT', '*PUN', '*URD', '*BUR', '*BEN', '*TOY', '*HUN', 'KORE',\n",
       "       'THAI', 'PERS', 'ETHI', 'JAPA', '*PHI', '*IBO', '*LEB', '*FUL',\n",
       "       'URDU', '*SPA', '*RUS', 'SOMA', '* BE', '*CAN', '*CDI', 'TURK',\n",
       "       '*TOI', 'GERM', '*GUJ', '*BOS', '*BUL', '*TEL', '*YID', '*ROM',\n",
       "       '**TO', 'BENG', '*AMH', 'TAGA', '* FU', '*MOR', '*ARA', '*YOR',\n",
       "       '*FAR', '*DUT', 'SERB', '*KHM', '** T', '*NEP', '*CRE', '*FIL',\n",
       "       '*LIT', '*PER', '**SH', '*TAM'], dtype=object)"
      ]
     },
     "execution_count": 241,
     "metadata": {},
     "output_type": "execute_result"
    }
   ],
   "source": [
    "admissions['LANGUAGE'].unique()"
   ]
  },
  {
   "cell_type": "code",
   "execution_count": null,
   "metadata": {},
   "outputs": [
    {
     "data": {
      "text/plain": [
       "array(['UNOBTAINABLE', 'CATHOLIC', 'PROTESTANT QUAKER', 'NOT SPECIFIED',\n",
       "       'JEWISH', 'BUDDHIST', 'OTHER', \"JEHOVAH'S WITNESS\", nan,\n",
       "       'GREEK ORTHODOX', 'EPISCOPALIAN', 'HINDU', 'CHRISTIAN SCIENTIST',\n",
       "       'HEBREW', 'METHODIST', 'UNITARIAN-UNIVERSALIST', 'BAPTIST',\n",
       "       '7TH DAY ADVENTIST', 'MUSLIM', 'ROMANIAN EAST. ORTH', 'LUTHERAN'],\n",
       "      dtype=object)"
      ]
     },
     "execution_count": 239,
     "metadata": {},
     "output_type": "execute_result"
    }
   ],
   "source": [
    "admissions['RELIGION'].unique()"
   ]
  },
  {
   "cell_type": "code",
   "execution_count": null,
   "metadata": {},
   "outputs": [
    {
     "data": {
      "text/plain": [
       "array(['MARRIED', 'SINGLE', nan, 'DIVORCED', 'WIDOWED', 'SEPARATED',\n",
       "       'UNKNOWN (DEFAULT)', 'LIFE PARTNER'], dtype=object)"
      ]
     },
     "execution_count": 240,
     "metadata": {},
     "output_type": "execute_result"
    }
   ],
   "source": [
    "admissions['MARITAL_STATUS'].unique()"
   ]
  },
  {
   "cell_type": "markdown",
   "metadata": {},
   "source": [
    "Primeiros questionamentos:\n",
    "\n",
    "Quantos pacientes diferentes temos na base do MIMIC-3?\n",
    "Qual a taxa de recuperação destes pacientes?\n",
    "Como é essa população de pacientes? Gênero, idade, renda, ocupação.\n",
    "Qual doença gera mais internações?\n",
    "Qual doença gera mais internações reincidentes?\n",
    "Quais os maiores motivos de entrada na emergência?\n",
    "Quais doenças geram mais mortes?"
   ]
  }
 ],
 "metadata": {
  "interpreter": {
   "hash": "169b6ee8e3100b5b32a88ea59892543d065676e55e0677bf7eaee743feb61203"
  },
  "kernelspec": {
   "display_name": "Python 3.10.0 64-bit",
   "language": "python",
   "name": "python3"
  },
  "language_info": {
   "codemirror_mode": {
    "name": "ipython",
    "version": 3
   },
   "file_extension": ".py",
   "mimetype": "text/x-python",
   "name": "python",
   "nbconvert_exporter": "python",
   "pygments_lexer": "ipython3",
   "version": "3.10.0"
  },
  "orig_nbformat": 4
 },
 "nbformat": 4,
 "nbformat_minor": 2
}
