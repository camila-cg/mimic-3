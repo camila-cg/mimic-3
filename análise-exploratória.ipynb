{
 "cells": [
  {
   "cell_type": "markdown",
   "metadata": {},
   "source": [
    "# Análise Exploratória dos Dados da Base MIMIC-III"
   ]
  },
  {
   "cell_type": "markdown",
   "metadata": {},
   "source": [
    "O MIMIC (Medical Information Mart for Intensive Care) é um grande banco de dados disponível gratuitamente que inclui dados relacionados à saúde não identificados de pacientes que foram admitidos nas unidades de cuidados intensivos do Beth Israel Deaconess Medical Center.\n",
    "\n",
    "O MIMIC é composto por dados coletados de dois sistemas de informações clínicas diferentes: CareVue e MetaVision.\n",
    "\n",
    "Nesta versão da base MIMIC temos atendimentos efetuados de **01/06/2001** a **10/10/2012**.\n",
    "\n",
    "Número de atendimentos: **58.976**\n",
    "\n",
    "Número de pacientes atendidos: **46.520**"
   ]
  },
  {
   "cell_type": "markdown",
   "metadata": {},
   "source": [
    "## Objetivo\n",
    "\n",
    "Compreender as principais características da base do MIMIC-III, que é uma base muito relevante para estudo de doenças e criação de modelos. A partir da análise exploratória, será possível entender a natureza dos dados aqui presentes e de que formas ela pode ser útil em estudos futuros, como na própria dissertação."
   ]
  },
  {
   "cell_type": "markdown",
   "metadata": {},
   "source": [
    "## Resultados"
   ]
  },
  {
   "cell_type": "markdown",
   "metadata": {},
   "source": [
    "Imports das bibliotecas"
   ]
  },
  {
   "cell_type": "code",
   "execution_count": 2,
   "metadata": {},
   "outputs": [],
   "source": [
    "import pandas as pd\n",
    "import seaborn as sns\n",
    "import matplotlib.pyplot as plt\n",
    "import numpy as np\n",
    "import matplotlib.ticker as ticker\n",
    "\n",
    "# Para não truncar os valores presentes nos dataframes para exibição\n",
    "pd.set_option('display.max_colwidth', None)"
   ]
  },
  {
   "cell_type": "markdown",
   "metadata": {},
   "source": [
    "### Pacientes"
   ]
  },
  {
   "cell_type": "markdown",
   "metadata": {},
   "source": [
    "Número de pacientes"
   ]
  },
  {
   "cell_type": "code",
   "execution_count": 3,
   "metadata": {},
   "outputs": [
    {
     "data": {
      "text/plain": [
       "46520"
      ]
     },
     "execution_count": 3,
     "metadata": {},
     "output_type": "execute_result"
    }
   ],
   "source": [
    "patients_df = pd.read_csv('C:\\csvMimic\\\\patients-full.csv')\n",
    "tam_patients  = patients_df.shape[0]\n",
    "tam_patients"
   ]
  },
  {
   "cell_type": "markdown",
   "metadata": {},
   "source": [
    "Número de pacientes por gênero"
   ]
  },
  {
   "cell_type": "code",
   "execution_count": 4,
   "metadata": {},
   "outputs": [
    {
     "name": "stdout",
     "output_type": "stream",
     "text": [
      "F    20399\n",
      "M    26121\n",
      "Name: gender, dtype: int64\n"
     ]
    },
    {
     "data": {
      "image/png": "[encoded data removed]",
      "text/plain": [
       "<Figure size 432x288 with 1 Axes>"
      ]
     },
     "metadata": {},
     "output_type": "display_data"
    }
   ],
   "source": [
    "print(patients_df['gender'].value_counts(ascending=True, normalize=False))\n",
    "plt.figure(facecolor='grey')\n",
    "plt.pie(patients_df['gender'].value_counts(ascending=True), labels = ['Mulheres', 'Homens'], autopct='%.0f%%', textprops={'fontsize': 12, 'color': 'white', 'style': 'oblique', 'weight': 'bold'})\n",
    "plt.show()"
   ]
  },
  {
   "cell_type": "markdown",
   "metadata": {},
   "source": [
    "Temos que a quantidade de homens e mulheres é próxima, sem grande disparidade."
   ]
  },
  {
   "cell_type": "markdown",
   "metadata": {},
   "source": [
    "Qual a taxa de sobrevivência destes pacientes?"
   ]
  },
  {
   "cell_type": "code",
   "execution_count": 5,
   "metadata": {},
   "outputs": [
    {
     "data": {
      "text/html": [
       "<div>\n",
       "<style scoped>\n",
       "    .dataframe tbody tr th:only-of-type {\n",
       "        vertical-align: middle;\n",
       "    }\n",
       "\n",
       "    .dataframe tbody tr th {\n",
       "        vertical-align: top;\n",
       "    }\n",
       "\n",
       "    .dataframe thead th {\n",
       "        text-align: right;\n",
       "    }\n",
       "</style>\n",
       "<table border=\"1\" class=\"dataframe\">\n",
       "  <thead>\n",
       "    <tr style=\"text-align: right;\">\n",
       "      <th></th>\n",
       "      <th>morreu</th>\n",
       "      <th>total</th>\n",
       "      <th>percentual</th>\n",
       "    </tr>\n",
       "  </thead>\n",
       "  <tbody>\n",
       "    <tr>\n",
       "      <th>0</th>\n",
       "      <td>sim</td>\n",
       "      <td>15759</td>\n",
       "      <td>33.88</td>\n",
       "    </tr>\n",
       "    <tr>\n",
       "      <th>1</th>\n",
       "      <td>não</td>\n",
       "      <td>30761</td>\n",
       "      <td>66.12</td>\n",
       "    </tr>\n",
       "  </tbody>\n",
       "</table>\n",
       "</div>"
      ],
      "text/plain": [
       "  morreu  total  percentual\n",
       "0    sim  15759       33.88\n",
       "1    não  30761       66.12"
      ]
     },
     "execution_count": 5,
     "metadata": {},
     "output_type": "execute_result"
    }
   ],
   "source": [
    "survival_total = pd.DataFrame(data=patients_df['expire_flag'].value_counts(ascending=True).reset_index(name='total'))\n",
    "survival_total['percentual'] = (survival_total['total'] / tam_patients * 100).round(2)\n",
    "survival_total.rename(columns={'index': 'morreu'}, inplace=True)\n",
    "survival_total.loc[survival_total['morreu'] == 0, 'morreu'] = 'não'\n",
    "survival_total.loc[survival_total['morreu'] == 1, 'morreu'] = 'sim'\n",
    "survival_total"
   ]
  },
  {
   "cell_type": "code",
   "execution_count": 6,
   "metadata": {},
   "outputs": [
    {
     "data": {
      "text/html": [
       "<div>\n",
       "<style scoped>\n",
       "    .dataframe tbody tr th:only-of-type {\n",
       "        vertical-align: middle;\n",
       "    }\n",
       "\n",
       "    .dataframe tbody tr th {\n",
       "        vertical-align: top;\n",
       "    }\n",
       "\n",
       "    .dataframe thead th {\n",
       "        text-align: right;\n",
       "    }\n",
       "</style>\n",
       "<table border=\"1\" class=\"dataframe\">\n",
       "  <thead>\n",
       "    <tr style=\"text-align: right;\">\n",
       "      <th></th>\n",
       "      <th>morreu</th>\n",
       "      <th>gênero</th>\n",
       "      <th>total</th>\n",
       "      <th>percentual</th>\n",
       "    </tr>\n",
       "  </thead>\n",
       "  <tbody>\n",
       "    <tr>\n",
       "      <th>0</th>\n",
       "      <td>não</td>\n",
       "      <td>M</td>\n",
       "      <td>17597</td>\n",
       "      <td>37.83</td>\n",
       "    </tr>\n",
       "    <tr>\n",
       "      <th>1</th>\n",
       "      <td>não</td>\n",
       "      <td>F</td>\n",
       "      <td>13164</td>\n",
       "      <td>28.30</td>\n",
       "    </tr>\n",
       "    <tr>\n",
       "      <th>2</th>\n",
       "      <td>sim</td>\n",
       "      <td>M</td>\n",
       "      <td>8524</td>\n",
       "      <td>18.32</td>\n",
       "    </tr>\n",
       "    <tr>\n",
       "      <th>3</th>\n",
       "      <td>sim</td>\n",
       "      <td>F</td>\n",
       "      <td>7235</td>\n",
       "      <td>15.55</td>\n",
       "    </tr>\n",
       "  </tbody>\n",
       "</table>\n",
       "</div>"
      ],
      "text/plain": [
       "  morreu gênero  total  percentual\n",
       "0    não      M  17597       37.83\n",
       "1    não      F  13164       28.30\n",
       "2    sim      M   8524       18.32\n",
       "3    sim      F   7235       15.55"
      ]
     },
     "execution_count": 6,
     "metadata": {},
     "output_type": "execute_result"
    }
   ],
   "source": [
    "survival_total_by_gender = patients_df.groupby('expire_flag')['gender'].value_counts().reset_index(name='total')\n",
    "survival_total_by_gender['percentual'] = (survival_total_by_gender['total'] / tam_patients * 100).round(2)\n",
    "gs_df = pd.DataFrame(data=survival_total_by_gender)\n",
    "gs_df.rename(columns={'expire_flag': 'morreu', 'gender': 'gênero'}, inplace=True)\n",
    "gs_df.loc[gs_df['morreu'] == 0, 'morreu'] = 'não'\n",
    "gs_df.loc[gs_df['morreu'] == 1, 'morreu'] = 'sim'\n",
    "gs_df"
   ]
  },
  {
   "cell_type": "code",
   "execution_count": 403,
   "metadata": {},
   "outputs": [
    {
     "data": {
      "text/plain": [
       "<seaborn.axisgrid.FacetGrid at 0x1aa359ace50>"
      ]
     },
     "execution_count": 403,
     "metadata": {},
     "output_type": "execute_result"
    },
    {
     "data": {
      "image/png": "[encoded data removed]",
      "text/plain": [
       "<Figure size 404.625x360 with 1 Axes>"
      ]
     },
     "metadata": {
      "needs_background": "light"
     },
     "output_type": "display_data"
    }
   ],
   "source": [
    "ax = sns.catplot(data=gs_df, x='morreu', y='percentual', kind='bar', hue='gênero')\n",
    "ax.set(title =\"Mortalidade por Gênero\", xlabel='Morreu', ylabel='Percentual', ylim=(0,100))\n",
    "sns.move_legend(ax, \"center right\", title='Gênero')\n",
    "ax"
   ]
  },
  {
   "cell_type": "markdown",
   "metadata": {},
   "source": [
    "A maioria dos pacientes sobrevive e dentre eles os homens são maioria."
   ]
  },
  {
   "cell_type": "markdown",
   "metadata": {},
   "source": [
    "**Pergunta:** Essas taxas de sobrevivência são confiáveis? Qual a idade destes pacientes?"
   ]
  },
  {
   "cell_type": "markdown",
   "metadata": {},
   "source": [
    "Distribuição dos pacientes por idade"
   ]
  },
  {
   "cell_type": "markdown",
   "metadata": {},
   "source": [
    "Os pacientes foram divididos em 3 grupos etários:\n",
    "- Com idade de 0 a 1 ano : *neonate*\n",
    "- Com idade acima entre 14 e 89 anos: *adult*\n",
    "- Acima de 89 anos: *>89*\n",
    "\n",
    "Observação: Não foram realizados atendimentos em indivíduos entre 2 e 13 anos, por isso estas idades não são contempladas por nenhuma faixa.\n",
    "\n",
    "Todas as datas na base incluindo a data de nascimento dos pacientes foi alterada para datas randômicas (no passado e no futuro) para resguardar a privacidade das pessoas envolvidas. Para se obter a idade foi efetuado o cálculo via query SQL da diferença entre a data de nascimento e a data do primeiro atendimento do paciente."
   ]
  },
  {
   "cell_type": "markdown",
   "metadata": {},
   "source": [
    "Verificando as estatísticas do atributo idade"
   ]
  },
  {
   "cell_type": "code",
   "execution_count": 8,
   "metadata": {},
   "outputs": [
    {
     "data": {
      "text/plain": [
       "count    46520.000000\n",
       "mean        61.878247\n",
       "std         57.456175\n",
       "min          0.000000\n",
       "25%         38.530000\n",
       "50%         60.490000\n",
       "75%         75.510000\n",
       "max        300.000000\n",
       "Name: first_admit_age, dtype: float64"
      ]
     },
     "execution_count": 8,
     "metadata": {},
     "output_type": "execute_result"
    }
   ],
   "source": [
    "patients_df['first_admit_age'].describe()"
   ]
  },
  {
   "cell_type": "markdown",
   "metadata": {},
   "source": [
    "Os pacientes com idade superior a 89 anos tiveram a idade alterada para 300 na base do MIMIC-III. No site da base é informado que estes pacientes que tiveram a sua idade alterada para 300 anos tinham média de idade de 91.4. Portanto, calculando a média de idade dos demais pacientes de forma apartada é possível chegarmos à real média de idade dos pacientes atendidos."
   ]
  },
  {
   "cell_type": "code",
   "execution_count": 9,
   "metadata": {},
   "outputs": [
    {
     "name": "stdout",
     "output_type": "stream",
     "text": [
      "Média total da idade dos pacientes: 51.21\n",
      "Média total da idade dos pacientes excluindo recém-nascidos: 76.82\n"
     ]
    }
   ],
   "source": [
    "neonate_df = patients_df.query(\"age_group_first_admission == 'neonate'\")\n",
    "adults_df = patients_df.query(\"age_group_first_admission == 'adult'\")\n",
    "elderly_df = patients_df.query(\"age_group_first_admission == '>89'\")\n",
    "\n",
    "neonate_mean = neonate_df['first_admit_age'].mean()\n",
    "adults_mean = adults_df['first_admit_age'].mean()\n",
    "elderly_mean = 91.4\n",
    "\n",
    "total_mean = ((neonate_mean + adults_mean + elderly_mean)/3).round(2)\n",
    "no_neonate_mean = ((adults_mean + elderly_mean)/2).round(2)\n",
    "print('Média total da idade dos pacientes:', total_mean)\n",
    "print('Média total da idade dos pacientes excluindo recém-nascidos:', no_neonate_mean)"
   ]
  },
  {
   "cell_type": "markdown",
   "metadata": {},
   "source": [
    "Histograma da idade dos pacientes"
   ]
  },
  {
   "cell_type": "code",
   "execution_count": 404,
   "metadata": {},
   "outputs": [
    {
     "data": {
      "text/plain": [
       "<seaborn.axisgrid.FacetGrid at 0x1aa359acac0>"
      ]
     },
     "execution_count": 404,
     "metadata": {},
     "output_type": "execute_result"
    },
    {
     "data": {
      "image/png": "[encoded data removed]",
      "text/plain": [
       "<Figure size 864x432 with 1 Axes>"
      ]
     },
     "metadata": {
      "needs_background": "light"
     },
     "output_type": "display_data"
    }
   ],
   "source": [
    "ax = sns.displot(patients_df.first_admit_age, kde = True)\n",
    "ax.figure.set_size_inches(12,6)\n",
    "ax.set(title =\"Distribuição de Frequências - Idade\", xlabel='Anos', ylabel='Total')\n",
    "ax"
   ]
  },
  {
   "cell_type": "markdown",
   "metadata": {},
   "source": [
    "Pelo histograma acima a presença de três grupos etários se torna ainda mais evidente. Abaixo, apenas para fins de comprovação, não temos na base pacientes com idade entre 2 e 13 anos."
   ]
  },
  {
   "cell_type": "code",
   "execution_count": 11,
   "metadata": {},
   "outputs": [
    {
     "data": {
      "text/html": [
       "<div>\n",
       "<style scoped>\n",
       "    .dataframe tbody tr th:only-of-type {\n",
       "        vertical-align: middle;\n",
       "    }\n",
       "\n",
       "    .dataframe tbody tr th {\n",
       "        vertical-align: top;\n",
       "    }\n",
       "\n",
       "    .dataframe thead th {\n",
       "        text-align: right;\n",
       "    }\n",
       "</style>\n",
       "<table border=\"1\" class=\"dataframe\">\n",
       "  <thead>\n",
       "    <tr style=\"text-align: right;\">\n",
       "      <th></th>\n",
       "      <th>subject_id</th>\n",
       "      <th>dob</th>\n",
       "      <th>gender</th>\n",
       "      <th>expire_flag</th>\n",
       "      <th>first_admit_age</th>\n",
       "      <th>last_admit_age</th>\n",
       "      <th>age_group_first_admission</th>\n",
       "      <th>age_group_last_admission</th>\n",
       "      <th>first_admittime</th>\n",
       "      <th>last_admittime</th>\n",
       "      <th>ethnicity</th>\n",
       "      <th>language_p</th>\n",
       "      <th>religion</th>\n",
       "      <th>marital_status</th>\n",
       "    </tr>\n",
       "  </thead>\n",
       "  <tbody>\n",
       "  </tbody>\n",
       "</table>\n",
       "</div>"
      ],
      "text/plain": [
       "Empty DataFrame\n",
       "Columns: [subject_id, dob, gender, expire_flag, first_admit_age, last_admit_age, age_group_first_admission, age_group_last_admission, first_admittime, last_admittime, ethnicity, language_p, religion, marital_status]\n",
       "Index: []"
      ]
     },
     "execution_count": 11,
     "metadata": {},
     "output_type": "execute_result"
    }
   ],
   "source": [
    "patients_df.query('first_admit_age > 1 and first_admit_age < 14')"
   ]
  },
  {
   "cell_type": "markdown",
   "metadata": {},
   "source": [
    "Distribuição de idade entre os adultos"
   ]
  },
  {
   "cell_type": "code",
   "execution_count": 428,
   "metadata": {},
   "outputs": [
    {
     "data": {
      "text/plain": [
       "<AxesSubplot:title={'center':'Distribuição de Frequências Por Gênero- Idade Adulta'}, xlabel='Anos', ylabel='Total'>"
      ]
     },
     "execution_count": 428,
     "metadata": {},
     "output_type": "execute_result"
    },
    {
     "data": {
      "image/png": "[encoded data removed]",
      "text/plain": [
       "<Figure size 864x432 with 1 Axes>"
      ]
     },
     "metadata": {
      "needs_background": "light"
     },
     "output_type": "display_data"
    }
   ],
   "source": [
    "ax = sns.histplot(data=adults_df, x='first_admit_age', kde = True, hue='gender', multiple=\"stack\")\n",
    "ax.figure.set_size_inches(12,6) \n",
    "ax.set(title =\"Distribuição de Frequências Por Gênero- Idade Adulta\", xlabel='Anos', ylabel='Total')\n",
    "sns.move_legend(ax, \"upper right\", title='Gênero', bbox_to_anchor=(1.1, 1))\n",
    "ax"
   ]
  },
  {
   "cell_type": "markdown",
   "metadata": {},
   "source": [
    "O intervalo de idades na faixa adulta é muito grande. Vamos plotar um boxplot das idades desta faixa para verificar mais claramente em que intervalo de idades estão concentrados a maior parte dos atendimentos."
   ]
  },
  {
   "cell_type": "code",
   "execution_count": 13,
   "metadata": {},
   "outputs": [
    {
     "data": {
      "text/plain": [
       "<AxesSubplot:title={'center':'Idade - Grupo Adulto'}, xlabel='Anos', ylabel='Sexo'>"
      ]
     },
     "execution_count": 13,
     "metadata": {},
     "output_type": "execute_result"
    },
    {
     "data": {
      "image/png": "[encoded data removed]",
      "text/plain": [
       "<Figure size 576x432 with 1 Axes>"
      ]
     },
     "metadata": {
      "needs_background": "light"
     },
     "output_type": "display_data"
    }
   ],
   "source": [
    "ax = sns.boxplot(x = 'first_admit_age', y='gender', data=adults_df)\n",
    "ax.figure.set_size_inches(8,6)\n",
    "ax.set_title('Idade - Grupo Adulto', fontsize=18)\n",
    "ax.set_xlabel('Anos', fontsize=14)\n",
    "ax.set_ylabel('Sexo', fontsize=14)\n",
    "ax"
   ]
  },
  {
   "cell_type": "markdown",
   "metadata": {},
   "source": [
    "Taxa de mortalidade por grupo etário"
   ]
  },
  {
   "cell_type": "code",
   "execution_count": 14,
   "metadata": {},
   "outputs": [
    {
     "data": {
      "text/html": [
       "<div>\n",
       "<style scoped>\n",
       "    .dataframe tbody tr th:only-of-type {\n",
       "        vertical-align: middle;\n",
       "    }\n",
       "\n",
       "    .dataframe tbody tr th {\n",
       "        vertical-align: top;\n",
       "    }\n",
       "\n",
       "    .dataframe thead th {\n",
       "        text-align: right;\n",
       "    }\n",
       "</style>\n",
       "<table border=\"1\" class=\"dataframe\">\n",
       "  <thead>\n",
       "    <tr style=\"text-align: right;\">\n",
       "      <th></th>\n",
       "      <th>morreu</th>\n",
       "      <th>faixa etária</th>\n",
       "      <th>gênero</th>\n",
       "      <th>total</th>\n",
       "      <th>percentual</th>\n",
       "    </tr>\n",
       "  </thead>\n",
       "  <tbody>\n",
       "    <tr>\n",
       "      <th>0</th>\n",
       "      <td>0</td>\n",
       "      <td>&gt;89</td>\n",
       "      <td>F</td>\n",
       "      <td>356</td>\n",
       "      <td>0.77</td>\n",
       "    </tr>\n",
       "    <tr>\n",
       "      <th>1</th>\n",
       "      <td>0</td>\n",
       "      <td>&gt;89</td>\n",
       "      <td>M</td>\n",
       "      <td>155</td>\n",
       "      <td>0.33</td>\n",
       "    </tr>\n",
       "    <tr>\n",
       "      <th>2</th>\n",
       "      <td>0</td>\n",
       "      <td>adult</td>\n",
       "      <td>M</td>\n",
       "      <td>13235</td>\n",
       "      <td>28.45</td>\n",
       "    </tr>\n",
       "    <tr>\n",
       "      <th>3</th>\n",
       "      <td>0</td>\n",
       "      <td>adult</td>\n",
       "      <td>F</td>\n",
       "      <td>9207</td>\n",
       "      <td>19.79</td>\n",
       "    </tr>\n",
       "    <tr>\n",
       "      <th>4</th>\n",
       "      <td>0</td>\n",
       "      <td>neonate</td>\n",
       "      <td>M</td>\n",
       "      <td>4207</td>\n",
       "      <td>9.04</td>\n",
       "    </tr>\n",
       "    <tr>\n",
       "      <th>5</th>\n",
       "      <td>0</td>\n",
       "      <td>neonate</td>\n",
       "      <td>F</td>\n",
       "      <td>3601</td>\n",
       "      <td>7.74</td>\n",
       "    </tr>\n",
       "    <tr>\n",
       "      <th>6</th>\n",
       "      <td>1</td>\n",
       "      <td>&gt;89</td>\n",
       "      <td>F</td>\n",
       "      <td>938</td>\n",
       "      <td>2.02</td>\n",
       "    </tr>\n",
       "    <tr>\n",
       "      <th>7</th>\n",
       "      <td>1</td>\n",
       "      <td>&gt;89</td>\n",
       "      <td>M</td>\n",
       "      <td>542</td>\n",
       "      <td>1.17</td>\n",
       "    </tr>\n",
       "    <tr>\n",
       "      <th>8</th>\n",
       "      <td>1</td>\n",
       "      <td>adult</td>\n",
       "      <td>M</td>\n",
       "      <td>7944</td>\n",
       "      <td>17.08</td>\n",
       "    </tr>\n",
       "    <tr>\n",
       "      <th>9</th>\n",
       "      <td>1</td>\n",
       "      <td>adult</td>\n",
       "      <td>F</td>\n",
       "      <td>6269</td>\n",
       "      <td>13.48</td>\n",
       "    </tr>\n",
       "    <tr>\n",
       "      <th>10</th>\n",
       "      <td>1</td>\n",
       "      <td>neonate</td>\n",
       "      <td>M</td>\n",
       "      <td>38</td>\n",
       "      <td>0.08</td>\n",
       "    </tr>\n",
       "    <tr>\n",
       "      <th>11</th>\n",
       "      <td>1</td>\n",
       "      <td>neonate</td>\n",
       "      <td>F</td>\n",
       "      <td>28</td>\n",
       "      <td>0.06</td>\n",
       "    </tr>\n",
       "  </tbody>\n",
       "</table>\n",
       "</div>"
      ],
      "text/plain": [
       "    morreu faixa etária gênero  total  percentual\n",
       "0        0          >89      F    356        0.77\n",
       "1        0          >89      M    155        0.33\n",
       "2        0        adult      M  13235       28.45\n",
       "3        0        adult      F   9207       19.79\n",
       "4        0      neonate      M   4207        9.04\n",
       "5        0      neonate      F   3601        7.74\n",
       "6        1          >89      F    938        2.02\n",
       "7        1          >89      M    542        1.17\n",
       "8        1        adult      M   7944       17.08\n",
       "9        1        adult      F   6269       13.48\n",
       "10       1      neonate      M     38        0.08\n",
       "11       1      neonate      F     28        0.06"
      ]
     },
     "execution_count": 14,
     "metadata": {},
     "output_type": "execute_result"
    }
   ],
   "source": [
    "# patients_age_gender_mortality = patients_by_age.groupby(['expire_flag', 'age_group', 'gender'], as_index=False).agg('count')\n",
    "patients_mortality_rate = patients_df.groupby(['expire_flag', 'age_group_first_admission'])['gender'].value_counts().reset_index(name='total')\n",
    "patients_mortality_rate['percentual'] = (patients_mortality_rate['total'] / tam_patients * 100).round(2)\n",
    "patients_mortality_rate.rename(columns={'expire_flag': 'morreu', 'gender': 'gênero', 'age_group_first_admission': 'faixa etária'}, inplace=True)\n",
    "patients_mortality_rate"
   ]
  },
  {
   "cell_type": "code",
   "execution_count": 15,
   "metadata": {},
   "outputs": [
    {
     "data": {
      "text/plain": [
       "<seaborn.axisgrid.FacetGrid at 0x1aa114e6290>"
      ]
     },
     "execution_count": 15,
     "metadata": {},
     "output_type": "execute_result"
    },
    {
     "data": {
      "image/png": "[encoded data removed]",
      "text/plain": [
       "<Figure size 692.625x360 with 3 Axes>"
      ]
     },
     "metadata": {
      "needs_background": "light"
     },
     "output_type": "display_data"
    }
   ],
   "source": [
    "ax = sns.catplot(data=patients_mortality_rate, x='morreu', y='percentual', kind='bar', hue='gênero', col='faixa etária', aspect=.6, palette=dict(F=\"tomato\", M=\"#3498db\"))\n",
    "ax"
   ]
  },
  {
   "cell_type": "code",
   "execution_count": 16,
   "metadata": {},
   "outputs": [
    {
     "data": {
      "image/png": "[encoded data removed]",
      "text/plain": [
       "<Figure size 432x288 with 1 Axes>"
      ]
     },
     "metadata": {},
     "output_type": "display_data"
    }
   ],
   "source": [
    "plt.figure(facecolor='grey')\n",
    "plt.pie(adults_df['expire_flag'].value_counts(), autopct='%.0f%%', labels = ['Vivos', 'Mortos'], textprops={'fontsize': 12, 'color': 'white', 'style': 'oblique', 'weight': 'bold'})\n",
    "plt.title('Taxa de Mortalidade População Adulta', color='white', fontsize=14)\n",
    "plt.show()"
   ]
  },
  {
   "cell_type": "markdown",
   "metadata": {},
   "source": [
    "#### Informações Demográficas"
   ]
  },
  {
   "cell_type": "markdown",
   "metadata": {},
   "source": [
    "Estado Civil"
   ]
  },
  {
   "cell_type": "code",
   "execution_count": 429,
   "metadata": {},
   "outputs": [
    {
     "data": {
      "text/plain": [
       "(0.0, 46520.0)"
      ]
     },
     "execution_count": 429,
     "metadata": {},
     "output_type": "execute_result"
    },
    {
     "data": {
      "image/png": "[encoded data removed]",
      "text/plain": [
       "<Figure size 864x432 with 2 Axes>"
      ]
     },
     "metadata": {
      "needs_background": "light"
     },
     "output_type": "display_data"
    }
   ],
   "source": [
    "plt.figure(figsize=(12,6))\n",
    "ax = sns.countplot(x=\"marital_status\", data=patients_df)\n",
    "\n",
    "ax2=ax.twinx()\n",
    "ax2.yaxis.tick_left()\n",
    "ax.yaxis.tick_right()\n",
    "ax.yaxis.set_label_position('right')\n",
    "ax2.yaxis.set_label_position('left')\n",
    "\n",
    "plt.title('Estado civil')\n",
    "ax.set_xlabel('Tipos')\n",
    "ax2.set_ylabel('Percentual [%]')\n",
    "ax.set_ylabel('Total')\n",
    "\n",
    "for p in ax.patches:\n",
    "    x=p.get_bbox().get_points()[:,0]\n",
    "    y=p.get_bbox().get_points()[1,1]\n",
    "    ax.annotate('{:.1f}%'.format(100.*y/tam_patients), (x.mean(), y), \n",
    "            ha='center', va='bottom')\n",
    "\n",
    "ax2.set_ylim(0, 100)\n",
    "ax.set_ylim(0, tam_patients)"
   ]
  },
  {
   "cell_type": "markdown",
   "metadata": {},
   "source": [
    "Grupos Étnicos"
   ]
  },
  {
   "cell_type": "code",
   "execution_count": 18,
   "metadata": {},
   "outputs": [
    {
     "name": "stdout",
     "output_type": "stream",
     "text": [
      "Quantidade de grupos étnicos:  41\n"
     ]
    },
    {
     "data": {
      "text/plain": [
       "WHITE                                                       32115\n",
       "UNKNOWN/NOT SPECIFIED                                        4133\n",
       "BLACK/AFRICAN AMERICAN                                       3589\n",
       "HISPANIC OR LATINO                                           1335\n",
       "ASIAN                                                        1297\n",
       "OTHER                                                        1289\n",
       "UNABLE TO OBTAIN                                              787\n",
       "PATIENT DECLINED TO ANSWER                                    489\n",
       "ASIAN - CHINESE                                               231\n",
       "BLACK/CAPE VERDEAN                                            167\n",
       "HISPANIC/LATINO - PUERTO RICAN                                154\n",
       "WHITE - RUSSIAN                                               119\n",
       "MULTI RACE ETHNICITY                                          109\n",
       "BLACK/HAITIAN                                                  75\n",
       "WHITE - OTHER EUROPEAN                                         71\n",
       "HISPANIC/LATINO - DOMINICAN                                    64\n",
       "ASIAN - ASIAN INDIAN                                           58\n",
       "WHITE - BRAZILIAN                                              45\n",
       "AMERICAN INDIAN/ALASKA NATIVE                                  44\n",
       "ASIAN - VIETNAMESE                                             41\n",
       "PORTUGUESE                                                     40\n",
       "BLACK/AFRICAN                                                  33\n",
       "MIDDLE EASTERN                                                 28\n",
       "HISPANIC/LATINO - GUATEMALAN                                   26\n",
       "WHITE - EASTERN EUROPEAN                                       22\n",
       "HISPANIC/LATINO - CUBAN                                        16\n",
       "HISPANIC/LATINO - SALVADORAN                                   15\n",
       "ASIAN - OTHER                                                  15\n",
       "ASIAN - FILIPINO                                               15\n",
       "NATIVE HAWAIIAN OR OTHER PACIFIC ISLANDER                      15\n",
       "ASIAN - KOREAN                                                 12\n",
       "ASIAN - CAMBODIAN                                              11\n",
       "HISPANIC/LATINO - MEXICAN                                      11\n",
       "HISPANIC/LATINO - CENTRAL AMERICAN (OTHER)                      9\n",
       "HISPANIC/LATINO - COLOMBIAN                                     8\n",
       "CARIBBEAN ISLAND                                                8\n",
       "SOUTH AMERICAN                                                  8\n",
       "ASIAN - JAPANESE                                                7\n",
       "HISPANIC/LATINO - HONDURAN                                      4\n",
       "ASIAN - THAI                                                    3\n",
       "AMERICAN INDIAN/ALASKA NATIVE FEDERALLY RECOGNIZED TRIBE        2\n",
       "Name: ethnicity, dtype: int64"
      ]
     },
     "execution_count": 18,
     "metadata": {},
     "output_type": "execute_result"
    }
   ],
   "source": [
    "print('Quantidade de grupos étnicos: ', patients_df['ethnicity'].unique().shape[0])\n",
    "patients_df['ethnicity'].value_counts()"
   ]
  },
  {
   "cell_type": "code",
   "execution_count": 430,
   "metadata": {},
   "outputs": [
    {
     "data": {
      "text/plain": [
       "(0.0, 46520.0)"
      ]
     },
     "execution_count": 430,
     "metadata": {},
     "output_type": "execute_result"
    },
    {
     "data": {
      "image/png": "[encoded data removed]",
      "text/plain": [
       "<Figure size 1440x432 with 2 Axes>"
      ]
     },
     "metadata": {
      "needs_background": "light"
     },
     "output_type": "display_data"
    }
   ],
   "source": [
    "plt.figure(figsize=(20,6))\n",
    "ax = sns.countplot(x=\"ethnicity\", data=patients_df, order=patients_df.ethnicity.value_counts().iloc[:5].index)\n",
    "\n",
    "ax2=ax.twinx()\n",
    "ax2.yaxis.tick_left()\n",
    "ax.yaxis.tick_right()\n",
    "ax.yaxis.set_label_position('right')\n",
    "ax2.yaxis.set_label_position('left')\n",
    "\n",
    "plt.title('Os 5 grupos étnicos mais atendidos')\n",
    "ax.set_xlabel('Grupo')\n",
    "ax2.set_ylabel('Percentual [%]')\n",
    "ax.set_ylabel('Total')\n",
    "\n",
    "for p in ax.patches:\n",
    "    x=p.get_bbox().get_points()[:,0]\n",
    "    y=p.get_bbox().get_points()[1,1]\n",
    "    ax.annotate('{:.1f}%'.format(100.*y/tam_patients), (x.mean(), y), \n",
    "            ha='center', va='bottom')\n",
    "\n",
    "ax2.set_ylim(0, 100)\n",
    "ax.set_ylim(0, tam_patients)"
   ]
  },
  {
   "cell_type": "markdown",
   "metadata": {},
   "source": [
    "Línguas"
   ]
  },
  {
   "cell_type": "code",
   "execution_count": 20,
   "metadata": {},
   "outputs": [
    {
     "name": "stdout",
     "output_type": "stream",
     "text": [
      "Quantidade de idiomas:  76\n"
     ]
    },
    {
     "data": {
      "text/plain": [
       "ENGL    21783\n",
       "SPAN      801\n",
       "RUSS      533\n",
       "PTUN      525\n",
       "CANT      320\n",
       "        ...  \n",
       "*PHI        1\n",
       "*PUN        1\n",
       "*DEA        1\n",
       "*MAN        1\n",
       "*LIT        1\n",
       "Name: language_p, Length: 75, dtype: int64"
      ]
     },
     "execution_count": 20,
     "metadata": {},
     "output_type": "execute_result"
    }
   ],
   "source": [
    "print('Quantidade de idiomas: ', patients_df['language_p'].unique().shape[0])\n",
    "patients_df['language_p'].value_counts()"
   ]
  },
  {
   "cell_type": "code",
   "execution_count": 431,
   "metadata": {},
   "outputs": [
    {
     "data": {
      "text/plain": [
       "(0.0, 46520.0)"
      ]
     },
     "execution_count": 431,
     "metadata": {},
     "output_type": "execute_result"
    },
    {
     "data": {
      "image/png": "[encoded data removed]",
      "text/plain": [
       "<Figure size 1440x432 with 2 Axes>"
      ]
     },
     "metadata": {
      "needs_background": "light"
     },
     "output_type": "display_data"
    }
   ],
   "source": [
    "plt.figure(figsize=(20,6))\n",
    "ax = sns.countplot(x=\"language_p\", data=patients_df, order=patients_df.language_p.value_counts().iloc[:5].index)\n",
    "\n",
    "ax2=ax.twinx()\n",
    "ax2.yaxis.tick_left()\n",
    "ax.yaxis.tick_right()\n",
    "ax.yaxis.set_label_position('right')\n",
    "ax2.yaxis.set_label_position('left')\n",
    "\n",
    "plt.title('5 idiomas mais frequentes')\n",
    "ax.set_xlabel('Idioma')\n",
    "ax2.set_ylabel('Percentual [%]')\n",
    "ax.set_ylabel('Total')\n",
    "\n",
    "for p in ax.patches:\n",
    "    x=p.get_bbox().get_points()[:,0]\n",
    "    y=p.get_bbox().get_points()[1,1]\n",
    "    ax.annotate('{:.1f}%'.format(100.*y/tam_patients), (x.mean(), y), \n",
    "            ha='center', va='bottom')\n",
    "\n",
    "ax2.set_ylim(0, 100)\n",
    "ax.set_ylim(0, tam_patients)"
   ]
  },
  {
   "cell_type": "markdown",
   "metadata": {},
   "source": [
    "Religiões"
   ]
  },
  {
   "cell_type": "code",
   "execution_count": 22,
   "metadata": {},
   "outputs": [
    {
     "name": "stdout",
     "output_type": "stream",
     "text": [
      "Quantidade de religiões:  21\n"
     ]
    },
    {
     "data": {
      "text/plain": [
       "CATHOLIC                  15714\n",
       "NOT SPECIFIED              9546\n",
       "UNOBTAINABLE               7655\n",
       "PROTESTANT QUAKER          5133\n",
       "JEWISH                     3841\n",
       "OTHER                      2089\n",
       "EPISCOPALIAN                593\n",
       "CHRISTIAN SCIENTIST         361\n",
       "GREEK ORTHODOX              326\n",
       "BUDDHIST                    196\n",
       "MUSLIM                      158\n",
       "JEHOVAH'S WITNESS           104\n",
       "UNITARIAN-UNIVERSALIST      104\n",
       "HINDU                       101\n",
       "ROMANIAN EAST. ORTH          68\n",
       "7TH DAY ADVENTIST            56\n",
       "BAPTIST                      20\n",
       "HEBREW                       14\n",
       "METHODIST                     6\n",
       "LUTHERAN                      1\n",
       "Name: religion, dtype: int64"
      ]
     },
     "execution_count": 22,
     "metadata": {},
     "output_type": "execute_result"
    }
   ],
   "source": [
    "print('Quantidade de religiões: ', patients_df['religion'].unique().shape[0])\n",
    "patients_df['religion'].value_counts()"
   ]
  },
  {
   "cell_type": "code",
   "execution_count": 432,
   "metadata": {},
   "outputs": [
    {
     "data": {
      "text/plain": [
       "(0.0, 46520.0)"
      ]
     },
     "execution_count": 432,
     "metadata": {},
     "output_type": "execute_result"
    },
    {
     "data": {
      "image/png": "[encoded data removed]",
      "text/plain": [
       "<Figure size 1440x432 with 2 Axes>"
      ]
     },
     "metadata": {
      "needs_background": "light"
     },
     "output_type": "display_data"
    }
   ],
   "source": [
    "plt.figure(figsize=(20,6))\n",
    "ax = sns.countplot(x=\"religion\", data=patients_df, order=patients_df.religion.value_counts().iloc[:5].index)\n",
    "\n",
    "ax2=ax.twinx()\n",
    "ax2.yaxis.tick_left()\n",
    "ax.yaxis.tick_right()\n",
    "ax.yaxis.set_label_position('right')\n",
    "ax2.yaxis.set_label_position('left')\n",
    "\n",
    "plt.title('5 religiões mais frequentes')\n",
    "ax.set_xlabel('Religião')\n",
    "ax2.set_ylabel('Percentual [%]')\n",
    "ax.set_ylabel('Total')\n",
    "\n",
    "for p in ax.patches:\n",
    "    x=p.get_bbox().get_points()[:,0]\n",
    "    y=p.get_bbox().get_points()[1,1]\n",
    "    ax.annotate('{:.1f}%'.format(100.*y/tam_patients), (x.mean(), y), \n",
    "            ha='center', va='bottom')\n",
    "\n",
    "ax2.set_ylim(0, 100)\n",
    "ax.set_ylim(0, tam_patients)"
   ]
  },
  {
   "cell_type": "markdown",
   "metadata": {},
   "source": [
    "### Atendimentos"
   ]
  },
  {
   "cell_type": "markdown",
   "metadata": {},
   "source": [
    "#### Dados Iniciais"
   ]
  },
  {
   "cell_type": "markdown",
   "metadata": {},
   "source": [
    "Número de atendimentos"
   ]
  },
  {
   "cell_type": "code",
   "execution_count": 24,
   "metadata": {},
   "outputs": [
    {
     "data": {
      "text/plain": [
       "58976"
      ]
     },
     "execution_count": 24,
     "metadata": {},
     "output_type": "execute_result"
    }
   ],
   "source": [
    "admissions_df = pd.read_csv('C:\\csvMimic\\\\admissions-with-gender.csv')\n",
    "tam_admissions  = admissions_df.shape[0]\n",
    "tam_admissions"
   ]
  },
  {
   "cell_type": "markdown",
   "metadata": {},
   "source": [
    "Quantidade de atendimentos por paciente"
   ]
  },
  {
   "cell_type": "code",
   "execution_count": 25,
   "metadata": {},
   "outputs": [
    {
     "name": "stdout",
     "output_type": "stream",
     "text": [
      "Número de pacientes com um único atendimento:  38983\n",
      "Número de pacientes com mais de um atendimento:  7537\n"
     ]
    }
   ],
   "source": [
    "qtde_adm_patients = pd.read_csv('C:\\csvMimic\\\\atendimentos-por-qtde-pacientes.csv')\n",
    "print(\"Número de pacientes com um único atendimento: \", qtde_adm_patients.cont[0])\n",
    "print(\"Número de pacientes com mais de um atendimento: \", qtde_adm_patients['cont'].sum() - qtde_adm_patients.cont[0])"
   ]
  },
  {
   "cell_type": "code",
   "execution_count": 26,
   "metadata": {},
   "outputs": [
    {
     "data": {
      "image/png": "[encoded data removed]",
      "text/plain": [
       "<Figure size 864x432 with 2 Axes>"
      ]
     },
     "metadata": {
      "needs_background": "light"
     },
     "output_type": "display_data"
    }
   ],
   "source": [
    "f, axs = plt.subplots(1, 2, figsize=(12, 6)) #gridspec_kw=dict(width_ratios=[4, 3])\n",
    "sns.lineplot(data=qtde_adm_patients,  x='qtd_adm', y='cont', ax=axs[0])\n",
    "sns.barplot(data=qtde_adm_patients,  x='qtd_adm', y='cont', ax=axs[1])\n",
    "axs[0].set(title =\"Distribuição de Frequência de Atendimentos\", xlabel='Quantidade de Atendimentos', ylabel = 'Número de Pacientes')\n",
    "axs[1].set(title =\"Distribuição de Frequência de Atendimentos\", xlabel='Quantidade de Atendimentos', ylabel = 'Número de Pacientes')\n",
    "f.tight_layout()"
   ]
  },
  {
   "cell_type": "markdown",
   "metadata": {},
   "source": [
    "A maioria dos pacientes foi ao hospital uma única vez."
   ]
  },
  {
   "cell_type": "markdown",
   "metadata": {},
   "source": [
    "Tipos de Atendimento"
   ]
  },
  {
   "cell_type": "markdown",
   "metadata": {},
   "source": [
    "Temos na base 4 tipos possíveis de tipos de atendimento. São eles:\n",
    "- emergency: Atendimentos não planejados\n",
    "- urgent: Atendimentos não planejados\n",
    "- elective: Atendimentos planejados\n",
    "- newborn: Nascimentos\n",
    "\n",
    "Os mantenedores do MIMIC-III indicam que as categorias *emergency* e *urgent* podem ser agrupadas, por terem a mesma natureza."
   ]
  },
  {
   "cell_type": "code",
   "execution_count": 433,
   "metadata": {},
   "outputs": [
    {
     "data": {
      "text/plain": [
       "(0.0, 58976.0)"
      ]
     },
     "execution_count": 433,
     "metadata": {},
     "output_type": "execute_result"
    },
    {
     "data": {
      "image/png": "[encoded data removed]",
      "text/plain": [
       "<Figure size 720x432 with 2 Axes>"
      ]
     },
     "metadata": {
      "needs_background": "light"
     },
     "output_type": "display_data"
    }
   ],
   "source": [
    "plt.figure(figsize=(10,6))\n",
    "ax = sns.countplot(x=\"admission_type\", data=admissions_df, order=['EMERGENCY', 'URGENT', 'ELECTIVE', 'NEWBORN'])\n",
    "plt.title('Distribuição de Tipos de Atendimento')\n",
    "plt.xlabel('Tipo de atendimento')\n",
    "\n",
    "ax2=ax.twinx()\n",
    "ax2.yaxis.tick_left()\n",
    "ax.yaxis.tick_right()\n",
    "ax.yaxis.set_label_position('right')\n",
    "ax2.yaxis.set_label_position('left')\n",
    "ax2.set_ylabel('Percentual [%]')\n",
    "ax.set_ylabel('Total')\n",
    "\n",
    "for p in ax.patches:\n",
    "    x=p.get_bbox().get_points()[:,0]\n",
    "    y=p.get_bbox().get_points()[1,1]\n",
    "    ax.annotate('{:.1f}%'.format(100.*y/tam_admissions), (x.mean(), y), ha='center', va='bottom')\n",
    "ax2.set_ylim(0, 100)\n",
    "ax.set_ylim(0, tam_admissions)"
   ]
  },
  {
   "cell_type": "markdown",
   "metadata": {},
   "source": [
    "Tipos de planos de saúde/origem do custeio dos atendimentos"
   ]
  },
  {
   "cell_type": "code",
   "execution_count": 435,
   "metadata": {},
   "outputs": [
    {
     "data": {
      "text/plain": [
       "(0.0, 58976.0)"
      ]
     },
     "execution_count": 435,
     "metadata": {},
     "output_type": "execute_result"
    },
    {
     "data": {
      "image/png": "[encoded data removed]",
      "text/plain": [
       "<Figure size 720x432 with 2 Axes>"
      ]
     },
     "metadata": {
      "needs_background": "light"
     },
     "output_type": "display_data"
    }
   ],
   "source": [
    "plt.figure(figsize=(10,6))\n",
    "ax = sns.countplot(x=\"insurance\", data=admissions_df, order=['Private', 'Self Pay', 'Medicare', 'Medicaid', 'Government'])\n",
    "\n",
    "ax2=ax.twinx()\n",
    "ax2.yaxis.tick_left()\n",
    "ax.yaxis.tick_right()\n",
    "ax.yaxis.set_label_position('right')\n",
    "ax2.yaxis.set_label_position('left')\n",
    "\n",
    "plt.title('Formas de Pagamento dos Atendimentos')\n",
    "ax2.set_ylabel('Percentual [%]')\n",
    "ax.set_xlabel('Tipo de Pagamento')\n",
    "ax.set_ylabel('Total')\n",
    "\n",
    "for p in ax.patches:\n",
    "    x=p.get_bbox().get_points()[:,0]\n",
    "    y=p.get_bbox().get_points()[1,1]\n",
    "    ax.annotate('{:.1f}%'.format(100.*y/tam_admissions), (x.mean(), y), \n",
    "            ha='center', va='bottom')\n",
    "\n",
    "ax2.set_ylim(0, 100)\n",
    "ax.set_ylim(0, tam_admissions)"
   ]
  },
  {
   "cell_type": "markdown",
   "metadata": {},
   "source": [
    "#### Duração da permanência dos pacientes no hospital"
   ]
  },
  {
   "cell_type": "markdown",
   "metadata": {},
   "source": [
    "Verificando se temos valores nulos nas datas"
   ]
  },
  {
   "cell_type": "code",
   "execution_count": 28,
   "metadata": {},
   "outputs": [
    {
     "name": "stdout",
     "output_type": "stream",
     "text": [
      "True\n"
     ]
    },
    {
     "data": {
      "text/plain": [
       "['deathtime',\n",
       " 'language',\n",
       " 'religion',\n",
       " 'marital_status',\n",
       " 'edregtime',\n",
       " 'edouttime',\n",
       " 'diagnosis']"
      ]
     },
     "execution_count": 28,
     "metadata": {},
     "output_type": "execute_result"
    }
   ],
   "source": [
    "print(admissions_df.isnull().values.any())\n",
    "nan_columns = admissions_df.isna().any()\n",
    "admissions_df.columns[nan_columns].tolist()"
   ]
  },
  {
   "cell_type": "markdown",
   "metadata": {},
   "source": [
    "Dado que não temos dados faltantes, vamos calcular a duração de cada atendimento em dias"
   ]
  },
  {
   "cell_type": "code",
   "execution_count": 29,
   "metadata": {},
   "outputs": [],
   "source": [
    "admissions_df['admittime'] = pd.to_datetime(admissions_df['admittime'])\n",
    "admissions_df['dischtime'] = pd.to_datetime(admissions_df['dischtime'])\n",
    "\n",
    "admissions_df['duration'] = (admissions_df['dischtime'] - admissions_df['admittime']).dt.days"
   ]
  },
  {
   "cell_type": "markdown",
   "metadata": {},
   "source": [
    "Duração média dos atendimentos no geral"
   ]
  },
  {
   "cell_type": "code",
   "execution_count": 30,
   "metadata": {},
   "outputs": [
    {
     "data": {
      "text/plain": [
       "count    58976.000000\n",
       "mean         9.610672\n",
       "std         12.452546\n",
       "min         -1.000000\n",
       "25%          3.000000\n",
       "50%          6.000000\n",
       "75%         11.000000\n",
       "max        294.000000\n",
       "Name: duration, dtype: float64"
      ]
     },
     "execution_count": 30,
     "metadata": {},
     "output_type": "execute_result"
    }
   ],
   "source": [
    "admissions_df.duration.describe()"
   ]
  },
  {
   "cell_type": "code",
   "execution_count": 436,
   "metadata": {},
   "outputs": [
    {
     "data": {
      "image/png": "[encoded data removed]",
      "text/plain": [
       "<Figure size 864x432 with 1 Axes>"
      ]
     },
     "metadata": {
      "needs_background": "light"
     },
     "output_type": "display_data"
    }
   ],
   "source": [
    "plt.figure(figsize=(12,6))\n",
    "ax = sns.histplot(x=\"duration\", data=admissions_df, kde = True, hue='gender', multiple=\"stack\")\n",
    "plt.title('Distribuição da Frequência do tempo de estadia no hospital')\n",
    "ax.set_xlabel('Dias')\n",
    "ax.set_ylabel('Número de atendimentos')\n",
    "sns.move_legend(ax, \"center right\", title='Gênero')\n"
   ]
  },
  {
   "cell_type": "markdown",
   "metadata": {},
   "source": [
    "As mulheres ficam menos tempo no hospital em geral."
   ]
  },
  {
   "cell_type": "markdown",
   "metadata": {},
   "source": [
    "Observando outliers na duração dos atendimentos em geral"
   ]
  },
  {
   "cell_type": "code",
   "execution_count": 437,
   "metadata": {},
   "outputs": [
    {
     "data": {
      "text/plain": [
       "<AxesSubplot:title={'center':'Boxplot - Tempo de permanência no hospital'}, xlabel='Dias', ylabel='Total'>"
      ]
     },
     "execution_count": 437,
     "metadata": {},
     "output_type": "execute_result"
    },
    {
     "data": {
      "image/png": "[encoded data removed]",
      "text/plain": [
       "<Figure size 576x432 with 1 Axes>"
      ]
     },
     "metadata": {
      "needs_background": "light"
     },
     "output_type": "display_data"
    }
   ],
   "source": [
    "ax = sns.boxplot(x = 'duration', data=admissions_df, orient='h')\n",
    "ax.figure.set_size_inches(8,6)\n",
    "ax.set_title('Boxplot - Tempo de permanência no hospital', fontsize=18)\n",
    "ax.set_xlabel('Dias', fontsize=14)\n",
    "ax.set_ylabel('Total', fontsize=14)\n",
    "ax"
   ]
  },
  {
   "cell_type": "markdown",
   "metadata": {},
   "source": [
    "Verificando o tempo de permanência com a mortalidade"
   ]
  },
  {
   "cell_type": "code",
   "execution_count": 33,
   "metadata": {},
   "outputs": [
    {
     "data": {
      "text/plain": [
       "<AxesSubplot:title={'center':'Boxplot - Duração de Atendimentos'}, xlabel='Dias', ylabel='Mortalidade'>"
      ]
     },
     "execution_count": 33,
     "metadata": {},
     "output_type": "execute_result"
    },
    {
     "data": {
      "image/png": "[encoded data removed]",
      "text/plain": [
       "<Figure size 576x432 with 1 Axes>"
      ]
     },
     "metadata": {
      "needs_background": "light"
     },
     "output_type": "display_data"
    }
   ],
   "source": [
    "ax = sns.boxplot(x = 'duration', y='hospital_expire_flag', data=admissions_df, orient='h')\n",
    "ax.figure.set_size_inches(8,6)\n",
    "ax.set_title('Boxplot - Duração de Atendimentos', fontsize=18)\n",
    "ax.set_xlabel('Dias', fontsize=14)\n",
    "ax.set_ylabel('Mortalidade', fontsize=14)\n",
    "ax"
   ]
  },
  {
   "cell_type": "markdown",
   "metadata": {},
   "source": [
    "Boxplot do tempo de permanência por gênero"
   ]
  },
  {
   "cell_type": "code",
   "execution_count": 34,
   "metadata": {},
   "outputs": [
    {
     "data": {
      "text/plain": [
       "<AxesSubplot:title={'center':'Boxplot - Tempo de permanência por gênero'}, xlabel='Dias', ylabel='Gênero'>"
      ]
     },
     "execution_count": 34,
     "metadata": {},
     "output_type": "execute_result"
    },
    {
     "data": {
      "image/png": "[encoded data removed]",
      "text/plain": [
       "<Figure size 576x432 with 1 Axes>"
      ]
     },
     "metadata": {
      "needs_background": "light"
     },
     "output_type": "display_data"
    }
   ],
   "source": [
    "ax = sns.boxplot(x = 'duration', y='gender', data=admissions_df, orient='h')\n",
    "ax.figure.set_size_inches(8,6)\n",
    "ax.set_title('Boxplot - Tempo de permanência por gênero', fontsize=18)\n",
    "ax.set_xlabel('Dias', fontsize=14)\n",
    "ax.set_ylabel('Gênero', fontsize=14)\n",
    "ax"
   ]
  },
  {
   "cell_type": "markdown",
   "metadata": {},
   "source": [
    "Duração de atendimento na emergência"
   ]
  },
  {
   "cell_type": "code",
   "execution_count": 438,
   "metadata": {},
   "outputs": [
    {
     "name": "stdout",
     "output_type": "stream",
     "text": [
      "Total de atendimentos:  58976\n",
      "Quantidade de atendimentos na emergência:  2053\n"
     ]
    }
   ],
   "source": [
    "print(\"Total de atendimentos: \", admissions_df.shape[0])\n",
    "emergency_admissions = admissions_df.dropna()\n",
    "print(\"Quantidade de atendimentos na emergência: \", emergency_admissions.shape[0])"
   ]
  },
  {
   "cell_type": "code",
   "execution_count": 439,
   "metadata": {},
   "outputs": [
    {
     "name": "stdout",
     "output_type": "stream",
     "text": [
      "count    2053.000000\n",
      "mean        5.061560\n",
      "std         2.657447\n",
      "min         0.066667\n",
      "25%         3.283333\n",
      "50%         4.600000\n",
      "75%         6.250000\n",
      "max        23.383333\n",
      "Name: duration_em, dtype: float64\n"
     ]
    },
    {
     "name": "stderr",
     "output_type": "stream",
     "text": [
      "C:\\Users\\camila.gusmao\\AppData\\Local\\Programs\\Python\\Python310\\lib\\site-packages\\pandas\\core\\indexing.py:1773: SettingWithCopyWarning: \n",
      "A value is trying to be set on a copy of a slice from a DataFrame.\n",
      "Try using .loc[row_indexer,col_indexer] = value instead\n",
      "\n",
      "See the caveats in the documentation: https://pandas.pydata.org/pandas-docs/stable/user_guide/indexing.html#returning-a-view-versus-a-copy\n",
      "  self._setitem_single_column(ilocs[0], value, pi)\n",
      "C:\\Users\\camila.gusmao\\AppData\\Local\\Programs\\Python\\Python310\\lib\\site-packages\\pandas\\core\\indexing.py:1667: SettingWithCopyWarning: \n",
      "A value is trying to be set on a copy of a slice from a DataFrame.\n",
      "Try using .loc[row_indexer,col_indexer] = value instead\n",
      "\n",
      "See the caveats in the documentation: https://pandas.pydata.org/pandas-docs/stable/user_guide/indexing.html#returning-a-view-versus-a-copy\n",
      "  self.obj[key] = value\n"
     ]
    }
   ],
   "source": [
    "# emergency_admissions.loc[row_indexer,col_indexer] = pd.to_datetime(emergency_admissions['edregtime'])\n",
    "emergency_admissions.loc[:, 'edregtime'] = pd.to_datetime(emergency_admissions['edregtime'])\n",
    "emergency_admissions.loc[:, 'edouttime'] = pd.to_datetime(emergency_admissions['edouttime'])\n",
    "\n",
    "# convertendo segundos em horas\n",
    "emergency_admissions.loc[:, 'duration_em'] = ((emergency_admissions['edouttime'] - emergency_admissions['edregtime']).dt.seconds)/3600\n",
    "print(emergency_admissions.duration_em.describe())"
   ]
  },
  {
   "cell_type": "markdown",
   "metadata": {},
   "source": [
    "Duração média da estadia dos pacientes por tipo de atendimento"
   ]
  },
  {
   "cell_type": "code",
   "execution_count": 37,
   "metadata": {},
   "outputs": [
    {
     "data": {
      "text/plain": [
       "admission_type\n",
       "ELECTIVE      8.563717\n",
       "EMERGENCY     9.469397\n",
       "NEWBORN      11.030777\n",
       "URGENT       11.740269\n",
       "Name: duration, dtype: float64"
      ]
     },
     "execution_count": 37,
     "metadata": {},
     "output_type": "execute_result"
    }
   ],
   "source": [
    "admissions_df.groupby('admission_type').agg('mean')['duration']"
   ]
  },
  {
   "cell_type": "markdown",
   "metadata": {},
   "source": [
    "### Serviços"
   ]
  },
  {
   "cell_type": "markdown",
   "metadata": {},
   "source": [
    "Quantidade de serviços realizados"
   ]
  },
  {
   "cell_type": "code",
   "execution_count": 38,
   "metadata": {},
   "outputs": [
    {
     "data": {
      "text/plain": [
       "73343"
      ]
     },
     "execution_count": 38,
     "metadata": {},
     "output_type": "execute_result"
    }
   ],
   "source": [
    "services_df = pd.read_csv('C:\\csvMimic\\\\services-with-gender-age-group.csv')\n",
    "tam_services = services_df.shape[0]\n",
    "tam_services"
   ]
  },
  {
   "cell_type": "markdown",
   "metadata": {},
   "source": [
    "Os serviços são persistidos na base por meio de mnemônicos. Segue abaixo um dicionário com a descrição de cada um deles e quantidade por tipo de serviço"
   ]
  },
  {
   "cell_type": "code",
   "execution_count": 39,
   "metadata": {},
   "outputs": [
    {
     "data": {
      "text/html": [
       "<div>\n",
       "<style scoped>\n",
       "    .dataframe tbody tr th:only-of-type {\n",
       "        vertical-align: middle;\n",
       "    }\n",
       "\n",
       "    .dataframe tbody tr th {\n",
       "        vertical-align: top;\n",
       "    }\n",
       "\n",
       "    .dataframe thead th {\n",
       "        text-align: right;\n",
       "    }\n",
       "</style>\n",
       "<table border=\"1\" class=\"dataframe\">\n",
       "  <thead>\n",
       "    <tr style=\"text-align: right;\">\n",
       "      <th></th>\n",
       "      <th>tipo</th>\n",
       "      <th>total</th>\n",
       "      <th>desc</th>\n",
       "    </tr>\n",
       "  </thead>\n",
       "  <tbody>\n",
       "    <tr>\n",
       "      <th>0</th>\n",
       "      <td>MED</td>\n",
       "      <td>24866</td>\n",
       "      <td>Medical - general service for internal medicine</td>\n",
       "    </tr>\n",
       "    <tr>\n",
       "      <th>1</th>\n",
       "      <td>CMED</td>\n",
       "      <td>9135</td>\n",
       "      <td>Cardiac Medical - for non-surgical cardiac related admissions</td>\n",
       "    </tr>\n",
       "    <tr>\n",
       "      <th>2</th>\n",
       "      <td>CSURG</td>\n",
       "      <td>7911</td>\n",
       "      <td>Cardiac Surgery - for surgical cardiac admissions</td>\n",
       "    </tr>\n",
       "    <tr>\n",
       "      <th>3</th>\n",
       "      <td>NB</td>\n",
       "      <td>7806</td>\n",
       "      <td>Newborn - infants born at the hospital</td>\n",
       "    </tr>\n",
       "    <tr>\n",
       "      <th>4</th>\n",
       "      <td>SURG</td>\n",
       "      <td>5514</td>\n",
       "      <td>Surgical - general surgical service not classified elsewhere</td>\n",
       "    </tr>\n",
       "    <tr>\n",
       "      <th>5</th>\n",
       "      <td>NSURG</td>\n",
       "      <td>4100</td>\n",
       "      <td>Neurologic Surgical - surgical, relating to the brain</td>\n",
       "    </tr>\n",
       "    <tr>\n",
       "      <th>6</th>\n",
       "      <td>TRAUM</td>\n",
       "      <td>3137</td>\n",
       "      <td>Trauma - injury or damage caused by physical harm from an external source</td>\n",
       "    </tr>\n",
       "    <tr>\n",
       "      <th>7</th>\n",
       "      <td>NMED</td>\n",
       "      <td>2957</td>\n",
       "      <td>Neurologic Medical - non-surgical, relating to the brain</td>\n",
       "    </tr>\n",
       "    <tr>\n",
       "      <th>8</th>\n",
       "      <td>OMED</td>\n",
       "      <td>2286</td>\n",
       "      <td>Orthopaedic medicine - non-surgical, relating to musculoskeletal system</td>\n",
       "    </tr>\n",
       "    <tr>\n",
       "      <th>9</th>\n",
       "      <td>VSURG</td>\n",
       "      <td>1455</td>\n",
       "      <td>Vascular Surgical - surgery relating to the circulatory system</td>\n",
       "    </tr>\n",
       "    <tr>\n",
       "      <th>10</th>\n",
       "      <td>TSURG</td>\n",
       "      <td>1338</td>\n",
       "      <td>Thoracic Surgical - surgery on the thorax, located between the neck and the abdomen</td>\n",
       "    </tr>\n",
       "    <tr>\n",
       "      <th>11</th>\n",
       "      <td>ORTHO</td>\n",
       "      <td>1101</td>\n",
       "      <td>Orthopaedic - surgical, relating to the musculoskeletal system</td>\n",
       "    </tr>\n",
       "    <tr>\n",
       "      <th>12</th>\n",
       "      <td>GU</td>\n",
       "      <td>436</td>\n",
       "      <td>Genitourinary - reproductive organs/urinary system</td>\n",
       "    </tr>\n",
       "    <tr>\n",
       "      <th>13</th>\n",
       "      <td>NBB</td>\n",
       "      <td>346</td>\n",
       "      <td>Newborn baby - infants born at the hospital</td>\n",
       "    </tr>\n",
       "    <tr>\n",
       "      <th>14</th>\n",
       "      <td>GYN</td>\n",
       "      <td>306</td>\n",
       "      <td>Gynecological - female reproductive systems and breasts</td>\n",
       "    </tr>\n",
       "    <tr>\n",
       "      <th>15</th>\n",
       "      <td>PSURG</td>\n",
       "      <td>283</td>\n",
       "      <td>Plastic - restortation/reconstruction of the human body (including cosmetic or aesthetic)</td>\n",
       "    </tr>\n",
       "    <tr>\n",
       "      <th>16</th>\n",
       "      <td>ENT</td>\n",
       "      <td>247</td>\n",
       "      <td>Ear, nose, and throat - conditions primarily affecting these areas</td>\n",
       "    </tr>\n",
       "    <tr>\n",
       "      <th>17</th>\n",
       "      <td>OBS</td>\n",
       "      <td>113</td>\n",
       "      <td>Obstetrics - conerned with childbirth and the care of women giving birth</td>\n",
       "    </tr>\n",
       "    <tr>\n",
       "      <th>18</th>\n",
       "      <td>DENT</td>\n",
       "      <td>5</td>\n",
       "      <td>Dental - for dental/jaw related admissions</td>\n",
       "    </tr>\n",
       "    <tr>\n",
       "      <th>19</th>\n",
       "      <td>PSYCH</td>\n",
       "      <td>1</td>\n",
       "      <td>Psychiatric - mental disorders relating to mood, behaviour, cognition, or perceptions</td>\n",
       "    </tr>\n",
       "  </tbody>\n",
       "</table>\n",
       "</div>"
      ],
      "text/plain": [
       "     tipo  total  \\\n",
       "0     MED  24866   \n",
       "1    CMED   9135   \n",
       "2   CSURG   7911   \n",
       "3      NB   7806   \n",
       "4    SURG   5514   \n",
       "5   NSURG   4100   \n",
       "6   TRAUM   3137   \n",
       "7    NMED   2957   \n",
       "8    OMED   2286   \n",
       "9   VSURG   1455   \n",
       "10  TSURG   1338   \n",
       "11  ORTHO   1101   \n",
       "12     GU    436   \n",
       "13    NBB    346   \n",
       "14    GYN    306   \n",
       "15  PSURG    283   \n",
       "16    ENT    247   \n",
       "17    OBS    113   \n",
       "18   DENT      5   \n",
       "19  PSYCH      1   \n",
       "\n",
       "                                                                                         desc  \n",
       "0                                             Medical - general service for internal medicine  \n",
       "1                               Cardiac Medical - for non-surgical cardiac related admissions  \n",
       "2                                           Cardiac Surgery - for surgical cardiac admissions  \n",
       "3                                                      Newborn - infants born at the hospital  \n",
       "4                                Surgical - general surgical service not classified elsewhere  \n",
       "5                                       Neurologic Surgical - surgical, relating to the brain  \n",
       "6                   Trauma - injury or damage caused by physical harm from an external source  \n",
       "7                                    Neurologic Medical - non-surgical, relating to the brain  \n",
       "8                     Orthopaedic medicine - non-surgical, relating to musculoskeletal system  \n",
       "9                              Vascular Surgical - surgery relating to the circulatory system  \n",
       "10        Thoracic Surgical - surgery on the thorax, located between the neck and the abdomen  \n",
       "11                             Orthopaedic - surgical, relating to the musculoskeletal system  \n",
       "12                                         Genitourinary - reproductive organs/urinary system  \n",
       "13                                                Newborn baby - infants born at the hospital  \n",
       "14                                    Gynecological - female reproductive systems and breasts  \n",
       "15  Plastic - restortation/reconstruction of the human body (including cosmetic or aesthetic)  \n",
       "16                         Ear, nose, and throat - conditions primarily affecting these areas  \n",
       "17                   Obstetrics - conerned with childbirth and the care of women giving birth  \n",
       "18                                                 Dental - for dental/jaw related admissions  \n",
       "19      Psychiatric - mental disorders relating to mood, behaviour, cognition, or perceptions  "
      ]
     },
     "execution_count": 39,
     "metadata": {},
     "output_type": "execute_result"
    }
   ],
   "source": [
    "serv_types_dict = {\n",
    "    'CMED':\t   'Cardiac Medical - for non-surgical cardiac related admissions',\n",
    "    'CSURG':   'Cardiac Surgery - for surgical cardiac admissions',\n",
    "    'DENT':\t   'Dental - for dental/jaw related admissions',\n",
    "    'ENT':     'Ear, nose, and throat - conditions primarily affecting these areas',\n",
    "    'GU':      'Genitourinary - reproductive organs/urinary system',\n",
    "    'GYN':\t   'Gynecological - female reproductive systems and breasts',\n",
    "    'MED':\t   'Medical - general service for internal medicine',\n",
    "    'NB':\t   'Newborn - infants born at the hospital',\n",
    "    'NBB':\t   'Newborn baby - infants born at the hospital',\n",
    "    'NMED':\t   'Neurologic Medical - non-surgical, relating to the brain',\n",
    "    'NSURG':   'Neurologic Surgical - surgical, relating to the brain',\n",
    "    'OBS':\t   'Obstetrics - conerned with childbirth and the care of women giving birth',\n",
    "    'ORTHO':   'Orthopaedic - surgical, relating to the musculoskeletal system',\n",
    "    'OMED':\t   'Orthopaedic medicine - non-surgical, relating to musculoskeletal system',\n",
    "    'PSURG':   'Plastic - restortation/reconstruction of the human body (including cosmetic or aesthetic)',\n",
    "    'PSYCH':   'Psychiatric - mental disorders relating to mood, behaviour, cognition, or perceptions',\n",
    "    'SURG':\t   'Surgical - general surgical service not classified elsewhere',\n",
    "    'TRAUM':   'Trauma - injury or damage caused by physical harm from an external source',\n",
    "    'TSURG':   'Thoracic Surgical - surgery on the thorax, located between the neck and the abdomen',\n",
    "    'VSURG':   'Vascular Surgical - surgery relating to the circulatory system'\n",
    "}\n",
    "serv_types = services_df['curr_service'].value_counts().rename_axis('tipo').reset_index(name='total')\n",
    "serv_types['desc'] = serv_types.apply(lambda x: serv_types_dict.get(x['tipo']), axis=1)\n",
    "serv_types"
   ]
  },
  {
   "cell_type": "code",
   "execution_count": 40,
   "metadata": {},
   "outputs": [
    {
     "data": {
      "text/plain": [
       "<AxesSubplot:title={'center':'Distribuição de Frequências - Serviços'}, xlabel='Tipos de Serviço', ylabel='total'>"
      ]
     },
     "execution_count": 40,
     "metadata": {},
     "output_type": "execute_result"
    },
    {
     "data": {
      "image/png": "[encoded data removed]",
      "text/plain": [
       "<Figure size 1008x432 with 1 Axes>"
      ]
     },
     "metadata": {
      "needs_background": "light"
     },
     "output_type": "display_data"
    }
   ],
   "source": [
    "ax = sns.barplot(data=serv_types,  x='tipo', y='total')\n",
    "ax.figure.set_size_inches(14,6) \n",
    "ax.set(title =\"Distribuição de Frequências - Serviços\", xlabel='Tipos de Serviço')\n",
    "ax"
   ]
  },
  {
   "cell_type": "markdown",
   "metadata": {},
   "source": [
    "Visualização de Serviços do hospital por gênero"
   ]
  },
  {
   "cell_type": "code",
   "execution_count": 41,
   "metadata": {},
   "outputs": [
    {
     "data": {
      "text/plain": [
       "<AxesSubplot:title={'center':'Distribuição de Frequências por Gênero- Serviços'}, xlabel='Tipos de Serviço', ylabel='total'>"
      ]
     },
     "execution_count": 41,
     "metadata": {},
     "output_type": "execute_result"
    },
    {
     "data": {
      "image/png": "[encoded data removed]",
      "text/plain": [
       "<Figure size 1440x432 with 1 Axes>"
      ]
     },
     "metadata": {
      "needs_background": "light"
     },
     "output_type": "display_data"
    }
   ],
   "source": [
    "aux = services_df.groupby(['curr_service'])['gender'].value_counts().reset_index(name='total')\n",
    "aux.sort_values('total', ascending=False, inplace=True)\n",
    "ax = sns.barplot(data=aux,  x='curr_service', y='total', hue='gender')\n",
    "ax.figure.set_size_inches(20,6) \n",
    "ax.set(title =\"Distribuição de Frequências por Gênero- Serviços\", xlabel='Tipos de Serviço')\n",
    "sns.move_legend(ax, \"upper right\", title='Gêneros')\n",
    "ax"
   ]
  },
  {
   "cell_type": "markdown",
   "metadata": {},
   "source": [
    "Serviços por faixa etária"
   ]
  },
  {
   "cell_type": "code",
   "execution_count": 42,
   "metadata": {},
   "outputs": [
    {
     "data": {
      "text/plain": [
       "<AxesSubplot:title={'center':'Distribuição de serviços por faixa etária'}, xlabel='Tipos de Serviço', ylabel='total'>"
      ]
     },
     "execution_count": 42,
     "metadata": {},
     "output_type": "execute_result"
    },
    {
     "data": {
      "image/png": "[encoded data removed]",
      "text/plain": [
       "<Figure size 1440x432 with 1 Axes>"
      ]
     },
     "metadata": {
      "needs_background": "light"
     },
     "output_type": "display_data"
    }
   ],
   "source": [
    "aux = services_df.groupby(['curr_service'])['age_group'].value_counts().reset_index(name='total')\n",
    "aux.sort_values('total', ascending=False, inplace=True)\n",
    "ax = sns.barplot(data=aux,  x='curr_service', y='total', hue='age_group')\n",
    "ax.figure.set_size_inches(20,6) \n",
    "ax.set(title =\"Distribuição de serviços por faixa etária\", xlabel='Tipos de Serviço')\n",
    "sns.move_legend(ax, \"upper right\", title='Faixa etária') #bbox_to_anchor=(.55, .45)\n",
    "ax"
   ]
  },
  {
   "cell_type": "markdown",
   "metadata": {},
   "source": [
    "### UTI"
   ]
  },
  {
   "cell_type": "markdown",
   "metadata": {},
   "source": [
    "Temos na base do MIMIC-III 7 tipos distintos de Unidades de Tratamento Intensivo. Segue abaixo um dicionário contendo o mnemônico e a descrição de cada unidade"
   ]
  },
  {
   "cell_type": "code",
   "execution_count": 43,
   "metadata": {},
   "outputs": [],
   "source": [
    "icu_dict = {\n",
    "    'CCU':\t 'Coronary care unit',\n",
    "    'CSRU':  'Cardiac surgery recovery unit',\n",
    "    'MICU':\t 'Medical intensive care unit',\n",
    "    'NICU':  'Neonatal intensive care unit',\n",
    "    'NWARD': 'Neonatal ward',\n",
    "    'SICU':\t 'Surgical intensive care unit',\n",
    "    'TSICU': 'Trauma/surgical intensive care unit'\n",
    "}"
   ]
  },
  {
   "cell_type": "markdown",
   "metadata": {},
   "source": [
    "Quantidade de pacientes que foram para UTI"
   ]
  },
  {
   "cell_type": "code",
   "execution_count": 139,
   "metadata": {},
   "outputs": [
    {
     "name": "stdout",
     "output_type": "stream",
     "text": [
      "46476 pacientes foram para UTI.\n",
      "Percentual de pacientes que foram para a UTI: 99.91\n"
     ]
    }
   ],
   "source": [
    "icu_df = pd.read_csv('C:\\csvMimic\\\\v1_4\\ICUSTAYS.csv')\n",
    "qtd_patients_icu = len(icu_df['SUBJECT_ID'].unique())\n",
    "print(qtd_patients_icu, \"pacientes foram para UTI.\")\n",
    "print(\"Percentual de pacientes que foram para a UTI:\", round(qtd_patients_icu/tam_patients * 100, 2))"
   ]
  },
  {
   "cell_type": "code",
   "execution_count": 45,
   "metadata": {},
   "outputs": [
    {
     "data": {
      "text/plain": [
       "array(['MICU', 'CCU', 'SICU', 'NICU', 'TSICU', 'CSRU'], dtype=object)"
      ]
     },
     "execution_count": 45,
     "metadata": {},
     "output_type": "execute_result"
    }
   ],
   "source": [
    "icu_df.LAST_CAREUNIT.unique()"
   ]
  },
  {
   "cell_type": "markdown",
   "metadata": {},
   "source": [
    "Pelo print acima, vemos que embora na documentação da base tenhamos 7 tipos de UTI, nenhum paciente foi registrado na unidade NWARD."
   ]
  },
  {
   "cell_type": "markdown",
   "metadata": {},
   "source": [
    "Verificando a quantidade de passagens pela UTI para cada paciente"
   ]
  },
  {
   "cell_type": "code",
   "execution_count": 44,
   "metadata": {},
   "outputs": [
    {
     "data": {
      "text/html": [
       "<div>\n",
       "<style scoped>\n",
       "    .dataframe tbody tr th:only-of-type {\n",
       "        vertical-align: middle;\n",
       "    }\n",
       "\n",
       "    .dataframe tbody tr th {\n",
       "        vertical-align: top;\n",
       "    }\n",
       "\n",
       "    .dataframe thead th {\n",
       "        text-align: right;\n",
       "    }\n",
       "</style>\n",
       "<table border=\"1\" class=\"dataframe\">\n",
       "  <thead>\n",
       "    <tr style=\"text-align: right;\">\n",
       "      <th></th>\n",
       "      <th>paciente</th>\n",
       "      <th>total</th>\n",
       "    </tr>\n",
       "  </thead>\n",
       "  <tbody>\n",
       "    <tr>\n",
       "      <th>0</th>\n",
       "      <td>13033</td>\n",
       "      <td>41</td>\n",
       "    </tr>\n",
       "    <tr>\n",
       "      <th>1</th>\n",
       "      <td>109</td>\n",
       "      <td>38</td>\n",
       "    </tr>\n",
       "    <tr>\n",
       "      <th>2</th>\n",
       "      <td>11861</td>\n",
       "      <td>35</td>\n",
       "    </tr>\n",
       "    <tr>\n",
       "      <th>3</th>\n",
       "      <td>5060</td>\n",
       "      <td>31</td>\n",
       "    </tr>\n",
       "    <tr>\n",
       "      <th>4</th>\n",
       "      <td>20643</td>\n",
       "      <td>25</td>\n",
       "    </tr>\n",
       "    <tr>\n",
       "      <th>...</th>\n",
       "      <td>...</td>\n",
       "      <td>...</td>\n",
       "    </tr>\n",
       "    <tr>\n",
       "      <th>46471</th>\n",
       "      <td>16413</td>\n",
       "      <td>1</td>\n",
       "    </tr>\n",
       "    <tr>\n",
       "      <th>46472</th>\n",
       "      <td>16414</td>\n",
       "      <td>1</td>\n",
       "    </tr>\n",
       "    <tr>\n",
       "      <th>46473</th>\n",
       "      <td>16415</td>\n",
       "      <td>1</td>\n",
       "    </tr>\n",
       "    <tr>\n",
       "      <th>46474</th>\n",
       "      <td>17126</td>\n",
       "      <td>1</td>\n",
       "    </tr>\n",
       "    <tr>\n",
       "      <th>46475</th>\n",
       "      <td>94956</td>\n",
       "      <td>1</td>\n",
       "    </tr>\n",
       "  </tbody>\n",
       "</table>\n",
       "<p>46476 rows × 2 columns</p>\n",
       "</div>"
      ],
      "text/plain": [
       "       paciente  total\n",
       "0         13033     41\n",
       "1           109     38\n",
       "2         11861     35\n",
       "3          5060     31\n",
       "4         20643     25\n",
       "...         ...    ...\n",
       "46471     16413      1\n",
       "46472     16414      1\n",
       "46473     16415      1\n",
       "46474     17126      1\n",
       "46475     94956      1\n",
       "\n",
       "[46476 rows x 2 columns]"
      ]
     },
     "execution_count": 44,
     "metadata": {},
     "output_type": "execute_result"
    }
   ],
   "source": [
    "aux = icu_df['SUBJECT_ID'].value_counts().rename_axis('paciente').reset_index(name='total')\n",
    "aux"
   ]
  },
  {
   "cell_type": "markdown",
   "metadata": {},
   "source": [
    "Pela tabela acima fica nítido que os pacientes em geral têm várias passagens pelas UTIs presentes no hospital, podendo ser a mesma ou não. Mas como então saber em qual UTI determinado paciente passou mais tempo?"
   ]
  },
  {
   "cell_type": "code",
   "execution_count": 114,
   "metadata": {},
   "outputs": [],
   "source": [
    "def getPatientsAdmissionsPerUCI():\n",
    "    icu_patient_list= list()\n",
    "    for index, row in patients_df.iterrows():\n",
    "        id_patient = row['subject_id']\n",
    "\n",
    "        # Passagens do paciente pela UTI\n",
    "        aux_df = icu_df.query('SUBJECT_ID == ' + str(id_patient))\n",
    "\n",
    "        # Separando por atendimento no hospital\n",
    "        admissions_ids = aux_df['HADM_ID'].unique()\n",
    "        for admission_id in admissions_ids:\n",
    "            adm_df = aux_df.query('HADM_ID == ' + str(admission_id) + '')\n",
    "\n",
    "            # Separando por tipo de UTI\n",
    "            res_micu = adm_df.query(\"LAST_CAREUNIT == 'MICU'\")\n",
    "            micu_num = res_micu.shape[0]\n",
    "            micu_los = res_micu.LOS.sum()\n",
    "\n",
    "            res_ccu = adm_df.query(\"LAST_CAREUNIT == 'CCU'\")\n",
    "            ccu_num = res_ccu.shape[0]\n",
    "            ccu_los = res_ccu.LOS.sum()\n",
    "\n",
    "            res_sicu = adm_df.query(\"LAST_CAREUNIT == 'SICU'\")\n",
    "            sicu_num = res_sicu.shape[0]\n",
    "            sicu_los = res_sicu.LOS.sum()\n",
    "\n",
    "            res_nicu = adm_df.query(\"LAST_CAREUNIT == 'NICU'\")\n",
    "            nicu_num = res_nicu.shape[0]\n",
    "            nicu_los = res_nicu.LOS.sum()\n",
    "\n",
    "            res_tsicu = adm_df.query(\"LAST_CAREUNIT == 'TSICU'\")\n",
    "            tsicu_num = res_tsicu.shape[0]\n",
    "            tsicu_los = res_tsicu.LOS.sum()\n",
    "\n",
    "            res_csru = adm_df.query(\"LAST_CAREUNIT == 'CSRU'\")\n",
    "            csru_num = res_csru.shape[0]\n",
    "            csru_los = res_csru.LOS.sum()\n",
    "\n",
    "            res_nward = adm_df.query(\"LAST_CAREUNIT == 'NWARD'\")\n",
    "            nward_num = res_nward.shape[0]\n",
    "            nward_los = res_nward.LOS.sum()\n",
    "\n",
    "            res = {\n",
    "                'subject_id': id_patient,\n",
    "                'hadm_id': admission_id,\n",
    "                'micu_num': micu_num,\n",
    "                'micu_los': micu_los,\n",
    "                'ccu_num': ccu_num,\n",
    "                'ccu_los': ccu_los,\n",
    "                'sicu_num': sicu_num,\n",
    "                'sicu_los': sicu_los,\n",
    "                'nicu_num': nicu_num,\n",
    "                'nicu_los': nicu_los,\n",
    "                'tsicu_num': tsicu_num,\n",
    "                'tsicu_los': tsicu_los,\n",
    "                'csru_num': csru_num,\n",
    "                'csru_los': csru_los,\n",
    "                'nward_num': nward_num,\n",
    "                'nward_los': nward_los\n",
    "            }\n",
    "            icu_patient_list.append(res)\n",
    "\n",
    "\n",
    "        # if len(aux_df.index) == 0:\n",
    "        #     print('DataFrame is empty!')\n",
    "    icu_patient_df = pd.DataFrame(data=icu_patient_list)\n",
    "    icu_patient_df.to_csv('C:\\csvMimic\\\\icu_stays_count.csv')\n",
    "\n",
    "# getPatientsAdmissionsPerUCI()\n"
   ]
  },
  {
   "cell_type": "markdown",
   "metadata": {},
   "source": [
    "Tempo de estadia em cada UTI e número de UTIs visitadas por paciente:"
   ]
  },
  {
   "cell_type": "code",
   "execution_count": 170,
   "metadata": {},
   "outputs": [
    {
     "data": {
      "text/html": [
       "<div>\n",
       "<style scoped>\n",
       "    .dataframe tbody tr th:only-of-type {\n",
       "        vertical-align: middle;\n",
       "    }\n",
       "\n",
       "    .dataframe tbody tr th {\n",
       "        vertical-align: top;\n",
       "    }\n",
       "\n",
       "    .dataframe thead th {\n",
       "        text-align: right;\n",
       "    }\n",
       "</style>\n",
       "<table border=\"1\" class=\"dataframe\">\n",
       "  <thead>\n",
       "    <tr style=\"text-align: right;\">\n",
       "      <th></th>\n",
       "      <th>subject_id</th>\n",
       "      <th>hadm_id</th>\n",
       "      <th>micu_num</th>\n",
       "      <th>micu_los</th>\n",
       "      <th>ccu_num</th>\n",
       "      <th>ccu_los</th>\n",
       "      <th>sicu_num</th>\n",
       "      <th>sicu_los</th>\n",
       "      <th>nicu_num</th>\n",
       "      <th>nicu_los</th>\n",
       "      <th>tsicu_num</th>\n",
       "      <th>tsicu_los</th>\n",
       "      <th>csru_num</th>\n",
       "      <th>csru_los</th>\n",
       "      <th>nward_num</th>\n",
       "      <th>nward_los</th>\n",
       "    </tr>\n",
       "  </thead>\n",
       "  <tbody>\n",
       "    <tr>\n",
       "      <th>0</th>\n",
       "      <td>2</td>\n",
       "      <td>163353</td>\n",
       "      <td>0</td>\n",
       "      <td>0.0000</td>\n",
       "      <td>0</td>\n",
       "      <td>0.0</td>\n",
       "      <td>0</td>\n",
       "      <td>0.0000</td>\n",
       "      <td>1</td>\n",
       "      <td>0.0918</td>\n",
       "      <td>0</td>\n",
       "      <td>0.0000</td>\n",
       "      <td>0</td>\n",
       "      <td>0.0000</td>\n",
       "      <td>0</td>\n",
       "      <td>0.0</td>\n",
       "    </tr>\n",
       "    <tr>\n",
       "      <th>1</th>\n",
       "      <td>3</td>\n",
       "      <td>145834</td>\n",
       "      <td>1</td>\n",
       "      <td>6.0646</td>\n",
       "      <td>0</td>\n",
       "      <td>0.0</td>\n",
       "      <td>0</td>\n",
       "      <td>0.0000</td>\n",
       "      <td>0</td>\n",
       "      <td>0.0000</td>\n",
       "      <td>0</td>\n",
       "      <td>0.0000</td>\n",
       "      <td>0</td>\n",
       "      <td>0.0000</td>\n",
       "      <td>0</td>\n",
       "      <td>0.0</td>\n",
       "    </tr>\n",
       "    <tr>\n",
       "      <th>2</th>\n",
       "      <td>4</td>\n",
       "      <td>185777</td>\n",
       "      <td>1</td>\n",
       "      <td>1.6785</td>\n",
       "      <td>0</td>\n",
       "      <td>0.0</td>\n",
       "      <td>0</td>\n",
       "      <td>0.0000</td>\n",
       "      <td>0</td>\n",
       "      <td>0.0000</td>\n",
       "      <td>0</td>\n",
       "      <td>0.0000</td>\n",
       "      <td>0</td>\n",
       "      <td>0.0000</td>\n",
       "      <td>0</td>\n",
       "      <td>0.0</td>\n",
       "    </tr>\n",
       "    <tr>\n",
       "      <th>3</th>\n",
       "      <td>5</td>\n",
       "      <td>178980</td>\n",
       "      <td>0</td>\n",
       "      <td>0.0000</td>\n",
       "      <td>0</td>\n",
       "      <td>0.0</td>\n",
       "      <td>0</td>\n",
       "      <td>0.0000</td>\n",
       "      <td>1</td>\n",
       "      <td>0.0844</td>\n",
       "      <td>0</td>\n",
       "      <td>0.0000</td>\n",
       "      <td>0</td>\n",
       "      <td>0.0000</td>\n",
       "      <td>0</td>\n",
       "      <td>0.0</td>\n",
       "    </tr>\n",
       "    <tr>\n",
       "      <th>4</th>\n",
       "      <td>6</td>\n",
       "      <td>107064</td>\n",
       "      <td>0</td>\n",
       "      <td>0.0000</td>\n",
       "      <td>0</td>\n",
       "      <td>0.0</td>\n",
       "      <td>1</td>\n",
       "      <td>3.6729</td>\n",
       "      <td>0</td>\n",
       "      <td>0.0000</td>\n",
       "      <td>0</td>\n",
       "      <td>0.0000</td>\n",
       "      <td>0</td>\n",
       "      <td>0.0000</td>\n",
       "      <td>0</td>\n",
       "      <td>0.0</td>\n",
       "    </tr>\n",
       "    <tr>\n",
       "      <th>...</th>\n",
       "      <td>...</td>\n",
       "      <td>...</td>\n",
       "      <td>...</td>\n",
       "      <td>...</td>\n",
       "      <td>...</td>\n",
       "      <td>...</td>\n",
       "      <td>...</td>\n",
       "      <td>...</td>\n",
       "      <td>...</td>\n",
       "      <td>...</td>\n",
       "      <td>...</td>\n",
       "      <td>...</td>\n",
       "      <td>...</td>\n",
       "      <td>...</td>\n",
       "      <td>...</td>\n",
       "      <td>...</td>\n",
       "    </tr>\n",
       "    <tr>\n",
       "      <th>57781</th>\n",
       "      <td>99985</td>\n",
       "      <td>176670</td>\n",
       "      <td>1</td>\n",
       "      <td>11.2998</td>\n",
       "      <td>0</td>\n",
       "      <td>0.0</td>\n",
       "      <td>0</td>\n",
       "      <td>0.0000</td>\n",
       "      <td>0</td>\n",
       "      <td>0.0000</td>\n",
       "      <td>0</td>\n",
       "      <td>0.0000</td>\n",
       "      <td>0</td>\n",
       "      <td>0.0000</td>\n",
       "      <td>0</td>\n",
       "      <td>0.0</td>\n",
       "    </tr>\n",
       "    <tr>\n",
       "      <th>57782</th>\n",
       "      <td>99991</td>\n",
       "      <td>151118</td>\n",
       "      <td>0</td>\n",
       "      <td>0.0000</td>\n",
       "      <td>0</td>\n",
       "      <td>0.0</td>\n",
       "      <td>0</td>\n",
       "      <td>0.0000</td>\n",
       "      <td>0</td>\n",
       "      <td>0.0000</td>\n",
       "      <td>1</td>\n",
       "      <td>3.1426</td>\n",
       "      <td>0</td>\n",
       "      <td>0.0000</td>\n",
       "      <td>0</td>\n",
       "      <td>0.0</td>\n",
       "    </tr>\n",
       "    <tr>\n",
       "      <th>57783</th>\n",
       "      <td>99992</td>\n",
       "      <td>197084</td>\n",
       "      <td>1</td>\n",
       "      <td>1.9745</td>\n",
       "      <td>0</td>\n",
       "      <td>0.0</td>\n",
       "      <td>0</td>\n",
       "      <td>0.0000</td>\n",
       "      <td>0</td>\n",
       "      <td>0.0000</td>\n",
       "      <td>0</td>\n",
       "      <td>0.0000</td>\n",
       "      <td>0</td>\n",
       "      <td>0.0000</td>\n",
       "      <td>0</td>\n",
       "      <td>0.0</td>\n",
       "    </tr>\n",
       "    <tr>\n",
       "      <th>57784</th>\n",
       "      <td>99995</td>\n",
       "      <td>137810</td>\n",
       "      <td>0</td>\n",
       "      <td>0.0000</td>\n",
       "      <td>0</td>\n",
       "      <td>0.0</td>\n",
       "      <td>0</td>\n",
       "      <td>0.0000</td>\n",
       "      <td>0</td>\n",
       "      <td>0.0000</td>\n",
       "      <td>0</td>\n",
       "      <td>0.0000</td>\n",
       "      <td>1</td>\n",
       "      <td>2.1615</td>\n",
       "      <td>0</td>\n",
       "      <td>0.0</td>\n",
       "    </tr>\n",
       "    <tr>\n",
       "      <th>57785</th>\n",
       "      <td>99999</td>\n",
       "      <td>113369</td>\n",
       "      <td>0</td>\n",
       "      <td>0.0000</td>\n",
       "      <td>0</td>\n",
       "      <td>0.0</td>\n",
       "      <td>1</td>\n",
       "      <td>1.1242</td>\n",
       "      <td>0</td>\n",
       "      <td>0.0000</td>\n",
       "      <td>0</td>\n",
       "      <td>0.0000</td>\n",
       "      <td>0</td>\n",
       "      <td>0.0000</td>\n",
       "      <td>0</td>\n",
       "      <td>0.0</td>\n",
       "    </tr>\n",
       "  </tbody>\n",
       "</table>\n",
       "<p>57786 rows × 16 columns</p>\n",
       "</div>"
      ],
      "text/plain": [
       "       subject_id  hadm_id  micu_num  micu_los  ccu_num  ccu_los  sicu_num  \\\n",
       "0               2   163353         0    0.0000        0      0.0         0   \n",
       "1               3   145834         1    6.0646        0      0.0         0   \n",
       "2               4   185777         1    1.6785        0      0.0         0   \n",
       "3               5   178980         0    0.0000        0      0.0         0   \n",
       "4               6   107064         0    0.0000        0      0.0         1   \n",
       "...           ...      ...       ...       ...      ...      ...       ...   \n",
       "57781       99985   176670         1   11.2998        0      0.0         0   \n",
       "57782       99991   151118         0    0.0000        0      0.0         0   \n",
       "57783       99992   197084         1    1.9745        0      0.0         0   \n",
       "57784       99995   137810         0    0.0000        0      0.0         0   \n",
       "57785       99999   113369         0    0.0000        0      0.0         1   \n",
       "\n",
       "       sicu_los  nicu_num  nicu_los  tsicu_num  tsicu_los  csru_num  csru_los  \\\n",
       "0        0.0000         1    0.0918          0     0.0000         0    0.0000   \n",
       "1        0.0000         0    0.0000          0     0.0000         0    0.0000   \n",
       "2        0.0000         0    0.0000          0     0.0000         0    0.0000   \n",
       "3        0.0000         1    0.0844          0     0.0000         0    0.0000   \n",
       "4        3.6729         0    0.0000          0     0.0000         0    0.0000   \n",
       "...         ...       ...       ...        ...        ...       ...       ...   \n",
       "57781    0.0000         0    0.0000          0     0.0000         0    0.0000   \n",
       "57782    0.0000         0    0.0000          1     3.1426         0    0.0000   \n",
       "57783    0.0000         0    0.0000          0     0.0000         0    0.0000   \n",
       "57784    0.0000         0    0.0000          0     0.0000         1    2.1615   \n",
       "57785    1.1242         0    0.0000          0     0.0000         0    0.0000   \n",
       "\n",
       "       nward_num  nward_los  \n",
       "0              0        0.0  \n",
       "1              0        0.0  \n",
       "2              0        0.0  \n",
       "3              0        0.0  \n",
       "4              0        0.0  \n",
       "...          ...        ...  \n",
       "57781          0        0.0  \n",
       "57782          0        0.0  \n",
       "57783          0        0.0  \n",
       "57784          0        0.0  \n",
       "57785          0        0.0  \n",
       "\n",
       "[57786 rows x 16 columns]"
      ]
     },
     "execution_count": 170,
     "metadata": {},
     "output_type": "execute_result"
    }
   ],
   "source": [
    "patients_icu_per_admission = pd.read_csv('C:\\csvMimic\\\\icu_stays_count.csv').drop(['Unnamed: 0'], axis=1)\n",
    "patients_icu_per_admission"
   ]
  },
  {
   "cell_type": "markdown",
   "metadata": {},
   "source": [
    "Tempo de estadia em cada UTI e número de UTIs visitadas por atendimentos:"
   ]
  },
  {
   "cell_type": "code",
   "execution_count": 190,
   "metadata": {},
   "outputs": [
    {
     "data": {
      "text/html": [
       "<div>\n",
       "<style scoped>\n",
       "    .dataframe tbody tr th:only-of-type {\n",
       "        vertical-align: middle;\n",
       "    }\n",
       "\n",
       "    .dataframe tbody tr th {\n",
       "        vertical-align: top;\n",
       "    }\n",
       "\n",
       "    .dataframe thead th {\n",
       "        text-align: right;\n",
       "    }\n",
       "</style>\n",
       "<table border=\"1\" class=\"dataframe\">\n",
       "  <thead>\n",
       "    <tr style=\"text-align: right;\">\n",
       "      <th></th>\n",
       "      <th>icu_type</th>\n",
       "      <th>total</th>\n",
       "    </tr>\n",
       "  </thead>\n",
       "  <tbody>\n",
       "    <tr>\n",
       "      <th>0</th>\n",
       "      <td>micu_num</td>\n",
       "      <td>21310.0000</td>\n",
       "    </tr>\n",
       "    <tr>\n",
       "      <th>1</th>\n",
       "      <td>micu_los</td>\n",
       "      <td>87837.1656</td>\n",
       "    </tr>\n",
       "    <tr>\n",
       "      <th>2</th>\n",
       "      <td>ccu_num</td>\n",
       "      <td>7406.0000</td>\n",
       "    </tr>\n",
       "    <tr>\n",
       "      <th>3</th>\n",
       "      <td>ccu_los</td>\n",
       "      <td>25523.1895</td>\n",
       "    </tr>\n",
       "    <tr>\n",
       "      <th>4</th>\n",
       "      <td>sicu_num</td>\n",
       "      <td>9213.0000</td>\n",
       "    </tr>\n",
       "    <tr>\n",
       "      <th>5</th>\n",
       "      <td>sicu_los</td>\n",
       "      <td>46471.1492</td>\n",
       "    </tr>\n",
       "    <tr>\n",
       "      <th>6</th>\n",
       "      <td>nicu_num</td>\n",
       "      <td>8100.0000</td>\n",
       "    </tr>\n",
       "    <tr>\n",
       "      <th>7</th>\n",
       "      <td>nicu_los</td>\n",
       "      <td>81138.8443</td>\n",
       "    </tr>\n",
       "    <tr>\n",
       "      <th>8</th>\n",
       "      <td>tsicu_num</td>\n",
       "      <td>6111.0000</td>\n",
       "    </tr>\n",
       "    <tr>\n",
       "      <th>9</th>\n",
       "      <td>tsicu_los</td>\n",
       "      <td>25207.7343</td>\n",
       "    </tr>\n",
       "    <tr>\n",
       "      <th>10</th>\n",
       "      <td>csru_num</td>\n",
       "      <td>9392.0000</td>\n",
       "    </tr>\n",
       "    <tr>\n",
       "      <th>11</th>\n",
       "      <td>csru_los</td>\n",
       "      <td>36385.3647</td>\n",
       "    </tr>\n",
       "    <tr>\n",
       "      <th>12</th>\n",
       "      <td>nward_num</td>\n",
       "      <td>0.0000</td>\n",
       "    </tr>\n",
       "    <tr>\n",
       "      <th>13</th>\n",
       "      <td>nward_los</td>\n",
       "      <td>0.0000</td>\n",
       "    </tr>\n",
       "  </tbody>\n",
       "</table>\n",
       "</div>"
      ],
      "text/plain": [
       "     icu_type       total\n",
       "0    micu_num  21310.0000\n",
       "1    micu_los  87837.1656\n",
       "2     ccu_num   7406.0000\n",
       "3     ccu_los  25523.1895\n",
       "4    sicu_num   9213.0000\n",
       "5    sicu_los  46471.1492\n",
       "6    nicu_num   8100.0000\n",
       "7    nicu_los  81138.8443\n",
       "8   tsicu_num   6111.0000\n",
       "9   tsicu_los  25207.7343\n",
       "10   csru_num   9392.0000\n",
       "11   csru_los  36385.3647\n",
       "12  nward_num      0.0000\n",
       "13  nward_los      0.0000"
      ]
     },
     "execution_count": 190,
     "metadata": {},
     "output_type": "execute_result"
    }
   ],
   "source": [
    "# patients_icu_per_admission['subject_id'].max(axis=1) valor máximo na linha\n",
    "# patients_icu_per_admission['subject_id'].idxmax(axis=1) coluna contendo o valor máximo\n",
    "admissions_icu_count = patients_icu_per_admission.drop(['subject_id', 'hadm_id'], axis=1).sum(axis=0).rename_axis('icu_type').reset_index(name='total')\n",
    "admissions_icu_count.sort_index()"
   ]
  },
  {
   "cell_type": "code",
   "execution_count": 335,
   "metadata": {},
   "outputs": [
    {
     "data": {
      "text/html": [
       "<div>\n",
       "<style scoped>\n",
       "    .dataframe tbody tr th:only-of-type {\n",
       "        vertical-align: middle;\n",
       "    }\n",
       "\n",
       "    .dataframe tbody tr th {\n",
       "        vertical-align: top;\n",
       "    }\n",
       "\n",
       "    .dataframe thead th {\n",
       "        text-align: right;\n",
       "    }\n",
       "</style>\n",
       "<table border=\"1\" class=\"dataframe\">\n",
       "  <thead>\n",
       "    <tr style=\"text-align: right;\">\n",
       "      <th></th>\n",
       "      <th>icu</th>\n",
       "      <th>los</th>\n",
       "      <th>total</th>\n",
       "    </tr>\n",
       "  </thead>\n",
       "  <tbody>\n",
       "    <tr>\n",
       "      <th>0</th>\n",
       "      <td>MICU</td>\n",
       "      <td>87837.1656</td>\n",
       "      <td>21310.0</td>\n",
       "    </tr>\n",
       "    <tr>\n",
       "      <th>1</th>\n",
       "      <td>CCU</td>\n",
       "      <td>25523.1895</td>\n",
       "      <td>7406.0</td>\n",
       "    </tr>\n",
       "    <tr>\n",
       "      <th>2</th>\n",
       "      <td>SICU</td>\n",
       "      <td>46471.1492</td>\n",
       "      <td>9213.0</td>\n",
       "    </tr>\n",
       "    <tr>\n",
       "      <th>3</th>\n",
       "      <td>NICU</td>\n",
       "      <td>81138.8443</td>\n",
       "      <td>8100.0</td>\n",
       "    </tr>\n",
       "    <tr>\n",
       "      <th>4</th>\n",
       "      <td>TSICU</td>\n",
       "      <td>25207.7343</td>\n",
       "      <td>6111.0</td>\n",
       "    </tr>\n",
       "    <tr>\n",
       "      <th>5</th>\n",
       "      <td>CSRU</td>\n",
       "      <td>36385.3647</td>\n",
       "      <td>9392.0</td>\n",
       "    </tr>\n",
       "  </tbody>\n",
       "</table>\n",
       "</div>"
      ],
      "text/plain": [
       "     icu         los    total\n",
       "0   MICU  87837.1656  21310.0\n",
       "1    CCU  25523.1895   7406.0\n",
       "2   SICU  46471.1492   9213.0\n",
       "3   NICU  81138.8443   8100.0\n",
       "4  TSICU  25207.7343   6111.0\n",
       "5   CSRU  36385.3647   9392.0"
      ]
     },
     "execution_count": 335,
     "metadata": {},
     "output_type": "execute_result"
    }
   ],
   "source": [
    "admissions_icu_final = pd.DataFrame(data=icu_df.LAST_CAREUNIT.unique(), columns=['icu'])\n",
    "los_lst = list()\n",
    "qtd_lst = list()\n",
    "for index, row in admissions_icu_final.iterrows():\n",
    "    prefix = row['icu'].lower()\n",
    "    los_field = prefix + '_los'\n",
    "    qtd_field = prefix + '_num'\n",
    "    aux_los = admissions_icu_count.query('icu_type == ' + '\\'' + los_field + '\\'')['total'].values[0]\n",
    "    aux_qtd = admissions_icu_count.query('icu_type == ' + '\\'' + qtd_field + '\\'')['total'].values[0]\n",
    "    los_lst.append(aux_los)\n",
    "    qtd_lst.append(aux_qtd)\n",
    "admissions_icu_final['los'] = los_lst\n",
    "admissions_icu_final['total'] = qtd_lst\n",
    "admissions_icu_final"
   ]
  },
  {
   "cell_type": "code",
   "execution_count": 342,
   "metadata": {},
   "outputs": [
    {
     "data": {
      "text/html": [
       "<div>\n",
       "<style scoped>\n",
       "    .dataframe tbody tr th:only-of-type {\n",
       "        vertical-align: middle;\n",
       "    }\n",
       "\n",
       "    .dataframe tbody tr th {\n",
       "        vertical-align: top;\n",
       "    }\n",
       "\n",
       "    .dataframe thead th {\n",
       "        text-align: right;\n",
       "    }\n",
       "</style>\n",
       "<table border=\"1\" class=\"dataframe\">\n",
       "  <thead>\n",
       "    <tr style=\"text-align: right;\">\n",
       "      <th></th>\n",
       "      <th>icu</th>\n",
       "      <th>los</th>\n",
       "      <th>total</th>\n",
       "    </tr>\n",
       "  </thead>\n",
       "  <tbody>\n",
       "    <tr>\n",
       "      <th>0</th>\n",
       "      <td>MICU</td>\n",
       "      <td>87837.1656</td>\n",
       "      <td>21310.0</td>\n",
       "    </tr>\n",
       "    <tr>\n",
       "      <th>5</th>\n",
       "      <td>CSRU</td>\n",
       "      <td>36385.3647</td>\n",
       "      <td>9392.0</td>\n",
       "    </tr>\n",
       "    <tr>\n",
       "      <th>2</th>\n",
       "      <td>SICU</td>\n",
       "      <td>46471.1492</td>\n",
       "      <td>9213.0</td>\n",
       "    </tr>\n",
       "    <tr>\n",
       "      <th>3</th>\n",
       "      <td>NICU</td>\n",
       "      <td>81138.8443</td>\n",
       "      <td>8100.0</td>\n",
       "    </tr>\n",
       "    <tr>\n",
       "      <th>1</th>\n",
       "      <td>CCU</td>\n",
       "      <td>25523.1895</td>\n",
       "      <td>7406.0</td>\n",
       "    </tr>\n",
       "    <tr>\n",
       "      <th>4</th>\n",
       "      <td>TSICU</td>\n",
       "      <td>25207.7343</td>\n",
       "      <td>6111.0</td>\n",
       "    </tr>\n",
       "  </tbody>\n",
       "</table>\n",
       "</div>"
      ],
      "text/plain": [
       "     icu         los    total\n",
       "0   MICU  87837.1656  21310.0\n",
       "5   CSRU  36385.3647   9392.0\n",
       "2   SICU  46471.1492   9213.0\n",
       "3   NICU  81138.8443   8100.0\n",
       "1    CCU  25523.1895   7406.0\n",
       "4  TSICU  25207.7343   6111.0"
      ]
     },
     "execution_count": 342,
     "metadata": {},
     "output_type": "execute_result"
    }
   ],
   "source": [
    "admissions_icu_final.sort_values(by='total', ascending=False)"
   ]
  },
  {
   "cell_type": "code",
   "execution_count": 351,
   "metadata": {},
   "outputs": [
    {
     "data": {
      "image/png": "[encoded data removed]",
      "text/plain": [
       "<Figure size 1152x432 with 2 Axes>"
      ]
     },
     "metadata": {
      "needs_background": "light"
     },
     "output_type": "display_data"
    }
   ],
   "source": [
    "f, axs = plt.subplots(1, 2, figsize=(16, 6))\n",
    "sns.barplot(data=admissions_icu_final.sort_values(by='total', ascending=False),  x='icu', y='total', ax=axs[0])\n",
    "sns.barplot(data=admissions_icu_final.sort_values(by='los', ascending=False),  x='icu', y='los', ax=axs[1])\n",
    "\n",
    "# for item in axs[0].get_xticklabels():\n",
    "#     item.set_rotation(30)\n",
    "\n",
    "axs[0].set(title =\"Número de visitas nas UTIs\", xlabel='Unidades de Tratamento Intensivo', ylabel = 'Número de Passagens dos Pacientes')\n",
    "axs[1].set(title =\"Tempo de estadia nas UTIs em dias\", xlabel='Unidades de Tratamento Intensivo', ylabel = 'Tempo de Permanência dos Pacientes (dias)')\n",
    "f.tight_layout()"
   ]
  },
  {
   "cell_type": "markdown",
   "metadata": {},
   "source": [
    "### Diagnósticos"
   ]
  },
  {
   "cell_type": "markdown",
   "metadata": {},
   "source": [
    "Diagnóstico mais relatado"
   ]
  },
  {
   "cell_type": "code",
   "execution_count": 389,
   "metadata": {},
   "outputs": [
    {
     "name": "stdout",
     "output_type": "stream",
     "text": [
      "Diagnóstico mais comum: 4019 -  Hypertension NOS\n"
     ]
    }
   ],
   "source": [
    "diagnoses_df = pd.read_csv('C:\\csvMimic\\\\diagnoses-with-patients.csv')\n",
    "diagnoses_mode = diagnoses_df.icd9_code.mode().values[0]\n",
    "diagnoses_mode_desc = diagnoses_df.query('icd9_code == ' + '\\'' + str(diagnoses_mode) + '\\'').iloc[0].short_title\n",
    "print(\"Diagnóstico mais comum:\", diagnoses_mode, \"- \", diagnoses_mode_desc)"
   ]
  },
  {
   "cell_type": "markdown",
   "metadata": {},
   "source": [
    "A descrição acima é uma abreviação para *Unspecified essential hypertension*"
   ]
  },
  {
   "cell_type": "markdown",
   "metadata": {},
   "source": [
    "Diagnóstico mais obtido por gênero"
   ]
  },
  {
   "cell_type": "code",
   "execution_count": 391,
   "metadata": {},
   "outputs": [
    {
     "name": "stdout",
     "output_type": "stream",
     "text": [
      "Diagnóstico mais comum entre os homens: 4019 -  Hypertension NOS\n",
      "Diagnóstico mais comum entre as mulheres: 4019 -  Hypertension NOS\n"
     ]
    }
   ],
   "source": [
    "diagnoses_male_mode = diagnoses_df.query(\"gender == 'M'\").icd9_code.mode().values[0]\n",
    "diagnoses_female_mode = diagnoses_df.query(\"gender == 'F'\").icd9_code.mode().values[0]\n",
    "diagnoses_mode_male_desc = diagnoses_df.query('icd9_code == ' + '\\'' + str(diagnoses_male_mode) + '\\'').iloc[0].short_title\n",
    "diagnoses_mode_female_desc = diagnoses_df.query('icd9_code == ' + '\\'' + str(diagnoses_female_mode) + '\\'').iloc[0].short_title\n",
    "print(\"Diagnóstico mais comum entre os homens:\", diagnoses_male_mode, \"- \", diagnoses_mode_male_desc)\n",
    "print(\"Diagnóstico mais comum entre as mulheres:\", diagnoses_female_mode, \"- \", diagnoses_mode_female_desc)"
   ]
  },
  {
   "cell_type": "markdown",
   "metadata": {},
   "source": [
    "Diagnóstico por grupo etário"
   ]
  },
  {
   "cell_type": "code",
   "execution_count": 394,
   "metadata": {},
   "outputs": [
    {
     "name": "stdout",
     "output_type": "stream",
     "text": [
      "Diagnóstico mais comum entre recém-nascidos: V053 -  Need prphyl vc vrl hepat\n"
     ]
    }
   ],
   "source": [
    "diagnoses_neonate_mode = diagnoses_df.query(\"age_group == 'neonate'\").icd9_code.mode().values[0]\n",
    "diagnoses_mode_neonate_desc = diagnoses_df.query('icd9_code == ' + '\\'' + str(diagnoses_neonate_mode) + '\\'').iloc[0].short_title\n",
    "print(\"Diagnóstico mais comum entre recém-nascidos:\", diagnoses_neonate_mode, \"- \", diagnoses_mode_neonate_desc)"
   ]
  },
  {
   "cell_type": "markdown",
   "metadata": {},
   "source": [
    "A descrição é uma abreviação para *Need for prophylactic vaccination and inoculation against viral hepatitis*"
   ]
  },
  {
   "cell_type": "code",
   "execution_count": 396,
   "metadata": {},
   "outputs": [
    {
     "name": "stdout",
     "output_type": "stream",
     "text": [
      "Diagnóstico mais comum entre adultos: 4019 -  Hypertension NOS\n"
     ]
    }
   ],
   "source": [
    "diagnoses_adults_mode = diagnoses_df.query(\"age_group == 'adult'\").icd9_code.mode().values[0]\n",
    "diagnoses_mode_adult_desc = diagnoses_df.query('icd9_code == ' + '\\'' + str(diagnoses_adults_mode) + '\\'').iloc[0].short_title\n",
    "print(\"Diagnóstico mais comum entre adultos:\", diagnoses_adults_mode, \"- \", diagnoses_mode_adult_desc)"
   ]
  },
  {
   "cell_type": "code",
   "execution_count": 398,
   "metadata": {},
   "outputs": [
    {
     "name": "stdout",
     "output_type": "stream",
     "text": [
      "Diagnóstico mais comum em pessoas acima de 89 anos: 4280 -  CHF NOS\n"
     ]
    }
   ],
   "source": [
    "diagnoses_elderly_mode = diagnoses_df.query(\"age_group == '>89'\").icd9_code.mode().values[0]\n",
    "diagnoses_mode_elderly_desc = diagnoses_df.query('icd9_code == ' + '\\'' + str(diagnoses_elderly_mode) + '\\'').iloc[0].short_title\n",
    "print(\"Diagnóstico mais comum em pessoas acima de 89 anos:\", diagnoses_elderly_mode, \"- \", diagnoses_mode_elderly_desc)"
   ]
  },
  {
   "cell_type": "markdown",
   "metadata": {},
   "source": [
    "A descrição é uma abreviação para *Congestive heart failure*"
   ]
  }
 ],
 "metadata": {
  "interpreter": {
   "hash": "169b6ee8e3100b5b32a88ea59892543d065676e55e0677bf7eaee743feb61203"
  },
  "kernelspec": {
   "display_name": "Python 3.10.0 64-bit",
   "language": "python",
   "name": "python3"
  },
  "language_info": {
   "codemirror_mode": {
    "name": "ipython",
    "version": 3
   },
   "file_extension": ".py",
   "mimetype": "text/x-python",
   "name": "python",
   "nbconvert_exporter": "python",
   "pygments_lexer": "ipython3",
   "version": "3.10.0"
  },
  "orig_nbformat": 4
 },
 "nbformat": 4,
 "nbformat_minor": 2
}
